{
  "nbformat": 4,
  "nbformat_minor": 0,
  "metadata": {
    "colab": {
      "provenance": [],
      "toc_visible": true,
      "machine_shape": "hm",
      "gpuType": "V100"
    },
    "kernelspec": {
      "name": "python3",
      "display_name": "Python 3"
    },
    "language_info": {
      "name": "python"
    },
    "accelerator": "GPU"
  },
  "cells": [
    {
      "cell_type": "code",
      "execution_count": 21,
      "metadata": {
        "id": "iapg72OePqOD"
      },
      "outputs": [],
      "source": [
        "import matplotlib.pyplot as plt\n",
        "import numpy as np\n",
        "import PIL\n",
        "import tensorflow as tf\n",
        "import pathlib\n",
        "import os\n",
        "import pandas as pd\n",
        "from tensorflow import keras\n",
        "from tensorflow.keras.models import Sequential\n",
        "from IPython.display import Image\n",
        "from keras import metrics\n",
        "from sklearn.metrics import ConfusionMatrixDisplay\n",
        "from tensorflow.keras import datasets, layers, models, losses\n",
        "from tensorflow.keras.layers import GlobalMaxPooling2D, Dense, Flatten, GlobalAveragePooling2D\n",
        "import tf_keras\n",
        "from tensorflow.keras.callbacks import EarlyStopping\n",
        "import os\n",
        "#os.environ['TF_USE_LEGACY_KERAS'] = '1'\n",
        "from tensorflow.keras.layers import Layer, Concatenate, Input\n",
        "\n",
        "from sklearn.metrics import accuracy_score\n",
        "\n",
        "from keras.models import Model"
      ]
    },
    {
      "cell_type": "markdown",
      "source": [
        "## Load Data"
      ],
      "metadata": {
        "id": "-QqJOb91n_hy"
      }
    },
    {
      "cell_type": "code",
      "source": [
        "%%capture\n",
        "import zipfile\n",
        "!unzip /content/CIFAKE.zip"
      ],
      "metadata": {
        "id": "D7B_Arrfj2Kc"
      },
      "execution_count": 2,
      "outputs": []
    },
    {
      "cell_type": "code",
      "source": [
        "dataset_dir = \"train\"\n",
        "img_height = 32\n",
        "img_width = 32\n",
        "batch_size = 500\n",
        "\n",
        "# Load training and validation data\n",
        "train, val = keras.utils.image_dataset_from_directory(\n",
        "  os.path.join(dataset_dir, \"\"),\n",
        "  validation_split=0.2,\n",
        "  subset=\"both\",\n",
        "  seed = 512,\n",
        "  image_size = (img_height, img_width),\n",
        "  batch_size = 80000)"
      ],
      "metadata": {
        "colab": {
          "base_uri": "https://localhost:8080/"
        },
        "id": "UIAkc16Hj2TU",
        "outputId": "a8f0ed78-42b8-4310-d093-494cb44cf1a0"
      },
      "execution_count": 3,
      "outputs": [
        {
          "output_type": "stream",
          "name": "stdout",
          "text": [
            "Found 100000 files belonging to 2 classes.\n",
            "Using 80000 files for training.\n",
            "Using 20000 files for validation.\n"
          ]
        }
      ]
    },
    {
      "cell_type": "code",
      "source": [
        "test = keras.utils.image_dataset_from_directory(\n",
        "  os.path.join(\"test\"),\n",
        "  seed = 512,\n",
        "  image_size = (img_height, img_width),\n",
        "  batch_size = 20000)"
      ],
      "metadata": {
        "colab": {
          "base_uri": "https://localhost:8080/"
        },
        "id": "eL6KLMiej2Y-",
        "outputId": "12d96383-9ddc-4080-e1c1-35cf4109a324"
      },
      "execution_count": 4,
      "outputs": [
        {
          "output_type": "stream",
          "name": "stdout",
          "text": [
            "Found 20000 files belonging to 2 classes.\n"
          ]
        }
      ]
    },
    {
      "cell_type": "code",
      "source": [
        "train_list = list(train)\n",
        "train_imgs = train_list[0][0].numpy()\n",
        "train_labels = train_list[0][1].numpy()\n",
        "norm_train_imgs = train_imgs/255.0\n",
        "norm_train_imgs.shape"
      ],
      "metadata": {
        "colab": {
          "base_uri": "https://localhost:8080/"
        },
        "id": "PyJrW_yRwxoD",
        "outputId": "1a3a2214-e693-41bd-8431-afbe907a87c6"
      },
      "execution_count": 5,
      "outputs": [
        {
          "output_type": "execute_result",
          "data": {
            "text/plain": [
              "(80000, 32, 32, 3)"
            ]
          },
          "metadata": {},
          "execution_count": 5
        }
      ]
    },
    {
      "cell_type": "code",
      "source": [
        "val_list = list(val)\n",
        "val_imgs = val_list[0][0].numpy()\n",
        "val_labels = val_list[0][1].numpy()\n",
        "norm_val_imgs = val_imgs/255.0\n",
        "val_labels.shape"
      ],
      "metadata": {
        "colab": {
          "base_uri": "https://localhost:8080/"
        },
        "id": "J-LRdg_xwxfF",
        "outputId": "383686a7-81f0-4d47-9934-87942d0a9384"
      },
      "execution_count": 6,
      "outputs": [
        {
          "output_type": "execute_result",
          "data": {
            "text/plain": [
              "(20000,)"
            ]
          },
          "metadata": {},
          "execution_count": 6
        }
      ]
    },
    {
      "cell_type": "code",
      "source": [
        "test_list = list(test)\n",
        "test_imgs = test_list[0][0].numpy()\n",
        "test_labels = test_list[0][1].numpy()\n",
        "norm_test_imgs = test_imgs/255.0\n",
        "norm_test_imgs.shape"
      ],
      "metadata": {
        "colab": {
          "base_uri": "https://localhost:8080/"
        },
        "id": "R1uTo_bQxhTt",
        "outputId": "81693113-b93c-4e4d-e33f-352197368c03"
      },
      "execution_count": 7,
      "outputs": [
        {
          "output_type": "execute_result",
          "data": {
            "text/plain": [
              "(20000, 32, 32, 3)"
            ]
          },
          "metadata": {},
          "execution_count": 7
        }
      ]
    },
    {
      "cell_type": "markdown",
      "source": [
        "## CNN"
      ],
      "metadata": {
        "id": "XUrtSXLAoDbc"
      }
    },
    {
      "cell_type": "code",
      "source": [
        "keras.backend.clear_session()\n",
        "\n",
        "cnn_model = Sequential([\n",
        "    layers.Rescaling(1./255, input_shape=(img_height, img_width, 3)),\n",
        "    layers.Conv2D(filters=64, kernel_size=3, activation=\"relu\", padding=\"same\"),\n",
        "    layers.MaxPooling2D(),\n",
        "    layers.Dropout(0.4),\n",
        "    layers.Conv2D(filters=128, kernel_size=3, activation=\"relu\", padding=\"same\"),\n",
        "    layers.MaxPooling2D(),\n",
        "    layers.Dropout(0.4),\n",
        "    layers.Conv2D(filters=256, kernel_size=3, activation=\"relu\", padding=\"same\"),\n",
        "    layers.MaxPooling2D(),\n",
        "    layers.Dropout(0.4),\n",
        "    layers.Flatten(),\n",
        "    layers.Dense(units=512, activation=\"relu\"),\n",
        "    layers.Dense(units=1, activation=\"sigmoid\")])"
      ],
      "metadata": {
        "id": "ZZRQA3t5j2c_"
      },
      "execution_count": 8,
      "outputs": []
    },
    {
      "cell_type": "markdown",
      "source": [
        "## AlexNet Architecture"
      ],
      "metadata": {
        "id": "OheAkLfGRb4A"
      }
    },
    {
      "cell_type": "code",
      "source": [
        "alex_model = Sequential([\n",
        "    layers.Rescaling(1./255, input_shape=(32,32,3)),\n",
        "    layers.Resizing(227,227),\n",
        "    layers.Conv2D(filters=96, kernel_size=(11,11), strides=(4,4), activation='relu'),\n",
        "    layers.BatchNormalization(),\n",
        "    layers.MaxPool2D(pool_size=(3,3), strides=(2,2)),\n",
        "    layers.Conv2D(filters=256, kernel_size=(5,5), strides=(1,1), activation='relu', padding=\"same\"),\n",
        "    layers.BatchNormalization(),\n",
        "    layers.MaxPool2D(pool_size=(3,3), strides=(2,2)),\n",
        "    layers.Conv2D(filters=384, kernel_size=(3,3), strides=(1,1), activation='relu', padding=\"same\"),\n",
        "    layers.BatchNormalization(),\n",
        "    layers.Conv2D(filters=384, kernel_size=(3,3), strides=(1,1), activation='relu', padding=\"same\"),\n",
        "    layers.BatchNormalization(),\n",
        "    layers.Conv2D(filters=256, kernel_size=(3,3), strides=(1,1), activation='relu', padding=\"same\"),\n",
        "    layers.BatchNormalization(),\n",
        "    layers.MaxPool2D(pool_size=(3,3), strides=(2,2)),\n",
        "    layers.Flatten(),\n",
        "    layers.Dense(4096, activation='relu'),\n",
        "    layers.Dropout(0.5),\n",
        "    layers.Dense(4096, activation='relu'),\n",
        "    layers.Dropout(0.5),\n",
        "    layers.Dense(1, activation='sigmoid')\n",
        "])\n",
        "alex_model.summary()"
      ],
      "metadata": {
        "colab": {
          "base_uri": "https://localhost:8080/"
        },
        "id": "gPNnv6i1RaL-",
        "outputId": "4b80563a-93c0-4c01-d283-ba4101a09eb9"
      },
      "execution_count": 9,
      "outputs": [
        {
          "output_type": "stream",
          "name": "stdout",
          "text": [
            "Model: \"sequential_1\"\n",
            "_________________________________________________________________\n",
            " Layer (type)                Output Shape              Param #   \n",
            "=================================================================\n",
            " rescaling_1 (Rescaling)     (None, 32, 32, 3)         0         \n",
            "                                                                 \n",
            " resizing (Resizing)         (None, 227, 227, 3)       0         \n",
            "                                                                 \n",
            " conv2d_3 (Conv2D)           (None, 55, 55, 96)        34944     \n",
            "                                                                 \n",
            " batch_normalization (Batch  (None, 55, 55, 96)        384       \n",
            " Normalization)                                                  \n",
            "                                                                 \n",
            " max_pooling2d_3 (MaxPoolin  (None, 27, 27, 96)        0         \n",
            " g2D)                                                            \n",
            "                                                                 \n",
            " conv2d_4 (Conv2D)           (None, 27, 27, 256)       614656    \n",
            "                                                                 \n",
            " batch_normalization_1 (Bat  (None, 27, 27, 256)       1024      \n",
            " chNormalization)                                                \n",
            "                                                                 \n",
            " max_pooling2d_4 (MaxPoolin  (None, 13, 13, 256)       0         \n",
            " g2D)                                                            \n",
            "                                                                 \n",
            " conv2d_5 (Conv2D)           (None, 13, 13, 384)       885120    \n",
            "                                                                 \n",
            " batch_normalization_2 (Bat  (None, 13, 13, 384)       1536      \n",
            " chNormalization)                                                \n",
            "                                                                 \n",
            " conv2d_6 (Conv2D)           (None, 13, 13, 384)       1327488   \n",
            "                                                                 \n",
            " batch_normalization_3 (Bat  (None, 13, 13, 384)       1536      \n",
            " chNormalization)                                                \n",
            "                                                                 \n",
            " conv2d_7 (Conv2D)           (None, 13, 13, 256)       884992    \n",
            "                                                                 \n",
            " batch_normalization_4 (Bat  (None, 13, 13, 256)       1024      \n",
            " chNormalization)                                                \n",
            "                                                                 \n",
            " max_pooling2d_5 (MaxPoolin  (None, 6, 6, 256)         0         \n",
            " g2D)                                                            \n",
            "                                                                 \n",
            " flatten_1 (Flatten)         (None, 9216)              0         \n",
            "                                                                 \n",
            " dense_2 (Dense)             (None, 4096)              37752832  \n",
            "                                                                 \n",
            " dropout_3 (Dropout)         (None, 4096)              0         \n",
            "                                                                 \n",
            " dense_3 (Dense)             (None, 4096)              16781312  \n",
            "                                                                 \n",
            " dropout_4 (Dropout)         (None, 4096)              0         \n",
            "                                                                 \n",
            " dense_4 (Dense)             (None, 1)                 4097      \n",
            "                                                                 \n",
            "=================================================================\n",
            "Total params: 58290945 (222.36 MB)\n",
            "Trainable params: 58288193 (222.35 MB)\n",
            "Non-trainable params: 2752 (10.75 KB)\n",
            "_________________________________________________________________\n"
          ]
        }
      ]
    },
    {
      "cell_type": "markdown",
      "source": [
        "## VGG"
      ],
      "metadata": {
        "id": "763tKIc0BMWu"
      }
    },
    {
      "cell_type": "code",
      "source": [
        "from keras.applications import VGG16\n",
        "from keras.applications.vgg16 import preprocess_input\n",
        "\n",
        "def preprocess(x, y):\n",
        "    return preprocess_input(x), y\n",
        "\n",
        "trainv = train.map(preprocess)\n",
        "valv = val.map(preprocess)\n",
        "testv = test.map(preprocess)\n",
        "\n",
        "trainv_list = list(trainv)\n",
        "trainv_imgs = trainv_list[0][0].numpy()\n",
        "trainv_labels = trainv_list[0][1].numpy()\n",
        "\n",
        "valv_list = list(valv)\n",
        "valv_imgs = valv_list[0][0].numpy()\n",
        "valv_labels = valv_list[0][1].numpy()\n",
        "\n",
        "testv_list = list(testv)\n",
        "testv_imgs = testv_list[0][0].numpy()\n",
        "testv_labels = testv_list[0][1].numpy()\n",
        "\n",
        "\n",
        "vgg = VGG16(include_top=False, input_shape=(32, 32, 3))\n",
        "vgg.trainable = False\n",
        "vggmodel = Sequential([\n",
        "    vgg,\n",
        "    layers.Flatten(),\n",
        "    layers.Dropout(0.5),\n",
        "    layers.Dense(units=1024, activation=\"relu\"),\n",
        "    layers.Dense(units=1, activation=\"sigmoid\")])"
      ],
      "metadata": {
        "colab": {
          "base_uri": "https://localhost:8080/"
        },
        "id": "grD84-UIYaek",
        "outputId": "60ecb70e-6985-4928-fa1b-b4aa091d7991"
      },
      "execution_count": 11,
      "outputs": [
        {
          "output_type": "stream",
          "name": "stdout",
          "text": [
            "Downloading data from https://storage.googleapis.com/tensorflow/keras-applications/vgg16/vgg16_weights_tf_dim_ordering_tf_kernels_notop.h5\n",
            "58889256/58889256 [==============================] - 2s 0us/step\n"
          ]
        }
      ]
    },
    {
      "cell_type": "markdown",
      "source": [
        "## Ensemble Model"
      ],
      "metadata": {
        "id": "9Z1B7AK6UIf6"
      }
    },
    {
      "cell_type": "code",
      "source": [
        "input1 = cnn_model.input\n",
        "input2 = alex_model.input\n",
        "input3 = vggmodel.input\n",
        "\n",
        "m1 = cnn_model(input1)\n",
        "m2 = alex_model(input2)\n",
        "m3 = vggmodel(input3)\n",
        "\n",
        "output = tf.keras.layers.Concatenate()([m1,m2,m3])\n",
        "output = tf.keras.layers.Dense(1, activation='sigmoid')(output)\n",
        "final_model = tf.keras.Model(inputs=[input1,input2,input3], outputs=output, name=\"ensembled\")\n",
        "\n",
        "tf.keras.utils.plot_model(final_model, show_shapes=True, dpi=50)"
      ],
      "metadata": {
        "colab": {
          "base_uri": "https://localhost:8080/",
          "height": 228
        },
        "id": "iYAhUEozotxt",
        "outputId": "8445ece3-6ca5-4390-8991-a1cd951dfeb4"
      },
      "execution_count": 12,
      "outputs": [
        {
          "output_type": "execute_result",
          "data": {
            "image/png": "[encoded data removed]",
            "text/plain": [
              "<IPython.core.display.Image object>"
            ]
          },
          "metadata": {},
          "execution_count": 12
        }
      ]
    },
    {
      "cell_type": "code",
      "source": [
        "es = EarlyStopping(monitor=\"val_accuracy\",\n",
        "                   patience=5,\n",
        "                   restore_best_weights=True,\n",
        "                   verbose=1)\n",
        "final_model.compile(loss=\"binary_crossentropy\",\n",
        "                optimizer=\"adam\",\n",
        "                metrics=[\"accuracy\", metrics.Precision(name=\"precision\"), metrics.Recall(name=\"recall\")])\n",
        "\n",
        "\n",
        "history = final_model.fit(\n",
        "\tx=[train_imgs, train_imgs, trainv_imgs], y=train_labels,\n",
        "\tvalidation_data=([val_imgs, val_imgs, valv_imgs], val_labels),\n",
        "\tepochs=40, verbose=3, callbacks=[es])\n",
        "history = pd.DataFrame(history.history)\n",
        "display(history)"
      ],
      "metadata": {
        "colab": {
          "base_uri": "https://localhost:8080/",
          "height": 425
        },
        "id": "AMeyXVtRaUCZ",
        "outputId": "de9afc1d-46c0-4dd0-c6c4-297856ee2ce2"
      },
      "execution_count": 13,
      "outputs": [
        {
          "output_type": "stream",
          "name": "stdout",
          "text": [
            "Epoch 1/40\n",
            "Epoch 2/40\n",
            "Epoch 3/40\n",
            "Epoch 4/40\n",
            "Epoch 5/40\n",
            "Epoch 6/40\n",
            "Epoch 7/40\n",
            "Restoring model weights from the end of the best epoch: 2.\n",
            "Epoch 7: early stopping\n"
          ]
        },
        {
          "output_type": "display_data",
          "data": {
            "text/plain": [
              "       loss  accuracy  precision    recall  val_loss  val_accuracy  \\\n",
              "0  0.693418  0.500437   0.500276  0.454095  0.693348       0.49010   \n",
              "1  0.693179  0.499675   0.499372  0.407903  0.693154       0.50075   \n",
              "2  0.693183  0.496075   0.496301  0.551957  0.693164       0.49925   \n",
              "3  0.693178  0.498287   0.497553  0.386420  0.693147       0.50075   \n",
              "4  0.693156  0.502150   0.501789  0.550581  0.693160       0.49925   \n",
              "5  0.693182  0.497800   0.496656  0.354683  0.693149       0.50075   \n",
              "6  0.693168  0.501450   0.501292  0.489884  0.693185       0.49925   \n",
              "\n",
              "   val_precision  val_recall  \n",
              "0       0.234783    0.008088  \n",
              "1       0.500750    1.000000  \n",
              "2       0.500000    0.000100  \n",
              "3       0.500750    1.000000  \n",
              "4       0.000000    0.000000  \n",
              "5       0.500750    1.000000  \n",
              "6       0.000000    0.000000  "
            ],
            "text/html": [
              "\n",
              "  <div id=\"df-0011ef8d-b13e-4e69-b463-c472911b08b5\" class=\"colab-df-container\">\n",
              "    <div>\n",
              "<style scoped>\n",
              "    .dataframe tbody tr th:only-of-type {\n",
              "        vertical-align: middle;\n",
              "    }\n",
              "\n",
              "    .dataframe tbody tr th {\n",
              "        vertical-align: top;\n",
              "    }\n",
              "\n",
              "    .dataframe thead th {\n",
              "        text-align: right;\n",
              "    }\n",
              "</style>\n",
              "<table border=\"1\" class=\"dataframe\">\n",
              "  <thead>\n",
              "    <tr style=\"text-align: right;\">\n",
              "      <th></th>\n",
              "      <th>loss</th>\n",
              "      <th>accuracy</th>\n",
              "      <th>precision</th>\n",
              "      <th>recall</th>\n",
              "      <th>val_loss</th>\n",
              "      <th>val_accuracy</th>\n",
              "      <th>val_precision</th>\n",
              "      <th>val_recall</th>\n",
              "    </tr>\n",
              "  </thead>\n",
              "  <tbody>\n",
              "    <tr>\n",
              "      <th>0</th>\n",
              "      <td>0.693418</td>\n",
              "      <td>0.500437</td>\n",
              "      <td>0.500276</td>\n",
              "      <td>0.454095</td>\n",
              "      <td>0.693348</td>\n",
              "      <td>0.49010</td>\n",
              "      <td>0.234783</td>\n",
              "      <td>0.008088</td>\n",
              "    </tr>\n",
              "    <tr>\n",
              "      <th>1</th>\n",
              "      <td>0.693179</td>\n",
              "      <td>0.499675</td>\n",
              "      <td>0.499372</td>\n",
              "      <td>0.407903</td>\n",
              "      <td>0.693154</td>\n",
              "      <td>0.50075</td>\n",
              "      <td>0.500750</td>\n",
              "      <td>1.000000</td>\n",
              "    </tr>\n",
              "    <tr>\n",
              "      <th>2</th>\n",
              "      <td>0.693183</td>\n",
              "      <td>0.496075</td>\n",
              "      <td>0.496301</td>\n",
              "      <td>0.551957</td>\n",
              "      <td>0.693164</td>\n",
              "      <td>0.49925</td>\n",
              "      <td>0.500000</td>\n",
              "      <td>0.000100</td>\n",
              "    </tr>\n",
              "    <tr>\n",
              "      <th>3</th>\n",
              "      <td>0.693178</td>\n",
              "      <td>0.498287</td>\n",
              "      <td>0.497553</td>\n",
              "      <td>0.386420</td>\n",
              "      <td>0.693147</td>\n",
              "      <td>0.50075</td>\n",
              "      <td>0.500750</td>\n",
              "      <td>1.000000</td>\n",
              "    </tr>\n",
              "    <tr>\n",
              "      <th>4</th>\n",
              "      <td>0.693156</td>\n",
              "      <td>0.502150</td>\n",
              "      <td>0.501789</td>\n",
              "      <td>0.550581</td>\n",
              "      <td>0.693160</td>\n",
              "      <td>0.49925</td>\n",
              "      <td>0.000000</td>\n",
              "      <td>0.000000</td>\n",
              "    </tr>\n",
              "    <tr>\n",
              "      <th>5</th>\n",
              "      <td>0.693182</td>\n",
              "      <td>0.497800</td>\n",
              "      <td>0.496656</td>\n",
              "      <td>0.354683</td>\n",
              "      <td>0.693149</td>\n",
              "      <td>0.50075</td>\n",
              "      <td>0.500750</td>\n",
              "      <td>1.000000</td>\n",
              "    </tr>\n",
              "    <tr>\n",
              "      <th>6</th>\n",
              "      <td>0.693168</td>\n",
              "      <td>0.501450</td>\n",
              "      <td>0.501292</td>\n",
              "      <td>0.489884</td>\n",
              "      <td>0.693185</td>\n",
              "      <td>0.49925</td>\n",
              "      <td>0.000000</td>\n",
              "      <td>0.000000</td>\n",
              "    </tr>\n",
              "  </tbody>\n",
              "</table>\n",
              "</div>\n",
              "    <div class=\"colab-df-buttons\">\n",
              "\n",
              "  <div class=\"colab-df-container\">\n",
              "    <button class=\"colab-df-convert\" onclick=\"convertToInteractive('df-0011ef8d-b13e-4e69-b463-c472911b08b5')\"\n",
              "            title=\"Convert this dataframe to an interactive table.\"\n",
              "            style=\"display:none;\">\n",
              "\n",
              "  <svg xmlns=\"http://www.w3.org/2000/svg\" height=\"24px\" viewBox=\"0 -960 960 960\">\n",
              "    <path d=\"M120-120v-720h720v720H120Zm60-500h600v-160H180v160Zm220 220h160v-160H400v160Zm0 220h160v-160H400v160ZM180-400h160v-160H180v160Zm440 0h160v-160H620v160ZM180-180h160v-160H180v160Zm440 0h160v-160H620v160Z\"/>\n",
              "  </svg>\n",
              "    </button>\n",
              "\n",
              "  <style>\n",
              "    .colab-df-container {\n",
              "      display:flex;\n",
              "      gap: 12px;\n",
              "    }\n",
              "\n",
              "    .colab-df-convert {\n",
              "      background-color: #E8F0FE;\n",
              "      border: none;\n",
              "      border-radius: 50%;\n",
              "      cursor: pointer;\n",
              "      display: none;\n",
              "      fill: #1967D2;\n",
              "      height: 32px;\n",
              "      padding: 0 0 0 0;\n",
              "      width: 32px;\n",
              "    }\n",
              "\n",
              "    .colab-df-convert:hover {\n",
              "      background-color: #E2EBFA;\n",
              "      box-shadow: 0px 1px 2px rgba(60, 64, 67, 0.3), 0px 1px 3px 1px rgba(60, 64, 67, 0.15);\n",
              "      fill: #174EA6;\n",
              "    }\n",
              "\n",
              "    .colab-df-buttons div {\n",
              "      margin-bottom: 4px;\n",
              "    }\n",
              "\n",
              "    [theme=dark] .colab-df-convert {\n",
              "      background-color: #3B4455;\n",
              "      fill: #D2E3FC;\n",
              "    }\n",
              "\n",
              "    [theme=dark] .colab-df-convert:hover {\n",
              "      background-color: #434B5C;\n",
              "      box-shadow: 0px 1px 3px 1px rgba(0, 0, 0, 0.15);\n",
              "      filter: drop-shadow(0px 1px 2px rgba(0, 0, 0, 0.3));\n",
              "      fill: #FFFFFF;\n",
              "    }\n",
              "  </style>\n",
              "\n",
              "    <script>\n",
              "      const buttonEl =\n",
              "        document.querySelector('#df-0011ef8d-b13e-4e69-b463-c472911b08b5 button.colab-df-convert');\n",
              "      buttonEl.style.display =\n",
              "        google.colab.kernel.accessAllowed ? 'block' : 'none';\n",
              "\n",
              "      async function convertToInteractive(key) {\n",
              "        const element = document.querySelector('#df-0011ef8d-b13e-4e69-b463-c472911b08b5');\n",
              "        const dataTable =\n",
              "          await google.colab.kernel.invokeFunction('convertToInteractive',\n",
              "                                                    [key], {});\n",
              "        if (!dataTable) return;\n",
              "\n",
              "        const docLinkHtml = 'Like what you see? Visit the ' +\n",
              "          '<a target=\"_blank\" href=https://colab.research.google.com/notebooks/data_table.ipynb>data table notebook</a>'\n",
              "          + ' to learn more about interactive tables.';\n",
              "        element.innerHTML = '';\n",
              "        dataTable['output_type'] = 'display_data';\n",
              "        await google.colab.output.renderOutput(dataTable, element);\n",
              "        const docLink = document.createElement('div');\n",
              "        docLink.innerHTML = docLinkHtml;\n",
              "        element.appendChild(docLink);\n",
              "      }\n",
              "    </script>\n",
              "  </div>\n",
              "\n",
              "\n",
              "<div id=\"df-140ef0b6-012b-44bf-92d3-26fef01e5cbd\">\n",
              "  <button class=\"colab-df-quickchart\" onclick=\"quickchart('df-140ef0b6-012b-44bf-92d3-26fef01e5cbd')\"\n",
              "            title=\"Suggest charts\"\n",
              "            style=\"display:none;\">\n",
              "\n",
              "<svg xmlns=\"http://www.w3.org/2000/svg\" height=\"24px\"viewBox=\"0 0 24 24\"\n",
              "     width=\"24px\">\n",
              "    <g>\n",
              "        <path d=\"M19 3H5c-1.1 0-2 .9-2 2v14c0 1.1.9 2 2 2h14c1.1 0 2-.9 2-2V5c0-1.1-.9-2-2-2zM9 17H7v-7h2v7zm4 0h-2V7h2v10zm4 0h-2v-4h2v4z\"/>\n",
              "    </g>\n",
              "</svg>\n",
              "  </button>\n",
              "\n",
              "<style>\n",
              "  .colab-df-quickchart {\n",
              "      --bg-color: #E8F0FE;\n",
              "      --fill-color: #1967D2;\n",
              "      --hover-bg-color: #E2EBFA;\n",
              "      --hover-fill-color: #174EA6;\n",
              "      --disabled-fill-color: #AAA;\n",
              "      --disabled-bg-color: #DDD;\n",
              "  }\n",
              "\n",
              "  [theme=dark] .colab-df-quickchart {\n",
              "      --bg-color: #3B4455;\n",
              "      --fill-color: #D2E3FC;\n",
              "      --hover-bg-color: #434B5C;\n",
              "      --hover-fill-color: #FFFFFF;\n",
              "      --disabled-bg-color: #3B4455;\n",
              "      --disabled-fill-color: #666;\n",
              "  }\n",
              "\n",
              "  .colab-df-quickchart {\n",
              "    background-color: var(--bg-color);\n",
              "    border: none;\n",
              "    border-radius: 50%;\n",
              "    cursor: pointer;\n",
              "    display: none;\n",
              "    fill: var(--fill-color);\n",
              "    height: 32px;\n",
              "    padding: 0;\n",
              "    width: 32px;\n",
              "  }\n",
              "\n",
              "  .colab-df-quickchart:hover {\n",
              "    background-color: var(--hover-bg-color);\n",
              "    box-shadow: 0 1px 2px rgba(60, 64, 67, 0.3), 0 1px 3px 1px rgba(60, 64, 67, 0.15);\n",
              "    fill: var(--button-hover-fill-color);\n",
              "  }\n",
              "\n",
              "  .colab-df-quickchart-complete:disabled,\n",
              "  .colab-df-quickchart-complete:disabled:hover {\n",
              "    background-color: var(--disabled-bg-color);\n",
              "    fill: var(--disabled-fill-color);\n",
              "    box-shadow: none;\n",
              "  }\n",
              "\n",
              "  .colab-df-spinner {\n",
              "    border: 2px solid var(--fill-color);\n",
              "    border-color: transparent;\n",
              "    border-bottom-color: var(--fill-color);\n",
              "    animation:\n",
              "      spin 1s steps(1) infinite;\n",
              "  }\n",
              "\n",
              "  @keyframes spin {\n",
              "    0% {\n",
              "      border-color: transparent;\n",
              "      border-bottom-color: var(--fill-color);\n",
              "      border-left-color: var(--fill-color);\n",
              "    }\n",
              "    20% {\n",
              "      border-color: transparent;\n",
              "      border-left-color: var(--fill-color);\n",
              "      border-top-color: var(--fill-color);\n",
              "    }\n",
              "    30% {\n",
              "      border-color: transparent;\n",
              "      border-left-color: var(--fill-color);\n",
              "      border-top-color: var(--fill-color);\n",
              "      border-right-color: var(--fill-color);\n",
              "    }\n",
              "    40% {\n",
              "      border-color: transparent;\n",
              "      border-right-color: var(--fill-color);\n",
              "      border-top-color: var(--fill-color);\n",
              "    }\n",
              "    60% {\n",
              "      border-color: transparent;\n",
              "      border-right-color: var(--fill-color);\n",
              "    }\n",
              "    80% {\n",
              "      border-color: transparent;\n",
              "      border-right-color: var(--fill-color);\n",
              "      border-bottom-color: var(--fill-color);\n",
              "    }\n",
              "    90% {\n",
              "      border-color: transparent;\n",
              "      border-bottom-color: var(--fill-color);\n",
              "    }\n",
              "  }\n",
              "</style>\n",
              "\n",
              "  <script>\n",
              "    async function quickchart(key) {\n",
              "      const quickchartButtonEl =\n",
              "        document.querySelector('#' + key + ' button');\n",
              "      quickchartButtonEl.disabled = true;  // To prevent multiple clicks.\n",
              "      quickchartButtonEl.classList.add('colab-df-spinner');\n",
              "      try {\n",
              "        const charts = await google.colab.kernel.invokeFunction(\n",
              "            'suggestCharts', [key], {});\n",
              "      } catch (error) {\n",
              "        console.error('Error during call to suggestCharts:', error);\n",
              "      }\n",
              "      quickchartButtonEl.classList.remove('colab-df-spinner');\n",
              "      quickchartButtonEl.classList.add('colab-df-quickchart-complete');\n",
              "    }\n",
              "    (() => {\n",
              "      let quickchartButtonEl =\n",
              "        document.querySelector('#df-140ef0b6-012b-44bf-92d3-26fef01e5cbd button');\n",
              "      quickchartButtonEl.style.display =\n",
              "        google.colab.kernel.accessAllowed ? 'block' : 'none';\n",
              "    })();\n",
              "  </script>\n",
              "</div>\n",
              "\n",
              "  <div id=\"id_80f4da8b-9d40-451c-8e97-4c1a0d49a717\">\n",
              "    <style>\n",
              "      .colab-df-generate {\n",
              "        background-color: #E8F0FE;\n",
              "        border: none;\n",
              "        border-radius: 50%;\n",
              "        cursor: pointer;\n",
              "        display: none;\n",
              "        fill: #1967D2;\n",
              "        height: 32px;\n",
              "        padding: 0 0 0 0;\n",
              "        width: 32px;\n",
              "      }\n",
              "\n",
              "      .colab-df-generate:hover {\n",
              "        background-color: #E2EBFA;\n",
              "        box-shadow: 0px 1px 2px rgba(60, 64, 67, 0.3), 0px 1px 3px 1px rgba(60, 64, 67, 0.15);\n",
              "        fill: #174EA6;\n",
              "      }\n",
              "\n",
              "      [theme=dark] .colab-df-generate {\n",
              "        background-color: #3B4455;\n",
              "        fill: #D2E3FC;\n",
              "      }\n",
              "\n",
              "      [theme=dark] .colab-df-generate:hover {\n",
              "        background-color: #434B5C;\n",
              "        box-shadow: 0px 1px 3px 1px rgba(0, 0, 0, 0.15);\n",
              "        filter: drop-shadow(0px 1px 2px rgba(0, 0, 0, 0.3));\n",
              "        fill: #FFFFFF;\n",
              "      }\n",
              "    </style>\n",
              "    <button class=\"colab-df-generate\" onclick=\"generateWithVariable('history')\"\n",
              "            title=\"Generate code using this dataframe.\"\n",
              "            style=\"display:none;\">\n",
              "\n",
              "  <svg xmlns=\"http://www.w3.org/2000/svg\" height=\"24px\"viewBox=\"0 0 24 24\"\n",
              "       width=\"24px\">\n",
              "    <path d=\"M7,19H8.4L18.45,9,17,7.55,7,17.6ZM5,21V16.75L18.45,3.32a2,2,0,0,1,2.83,0l1.4,1.43a1.91,1.91,0,0,1,.58,1.4,1.91,1.91,0,0,1-.58,1.4L9.25,21ZM18.45,9,17,7.55Zm-12,3A5.31,5.31,0,0,0,4.9,8.1,5.31,5.31,0,0,0,1,6.5,5.31,5.31,0,0,0,4.9,4.9,5.31,5.31,0,0,0,6.5,1,5.31,5.31,0,0,0,8.1,4.9,5.31,5.31,0,0,0,12,6.5,5.46,5.46,0,0,0,6.5,12Z\"/>\n",
              "  </svg>\n",
              "    </button>\n",
              "    <script>\n",
              "      (() => {\n",
              "      const buttonEl =\n",
              "        document.querySelector('#id_80f4da8b-9d40-451c-8e97-4c1a0d49a717 button.colab-df-generate');\n",
              "      buttonEl.style.display =\n",
              "        google.colab.kernel.accessAllowed ? 'block' : 'none';\n",
              "\n",
              "      buttonEl.onclick = () => {\n",
              "        google.colab.notebook.generateWithVariable('history');\n",
              "      }\n",
              "      })();\n",
              "    </script>\n",
              "  </div>\n",
              "\n",
              "    </div>\n",
              "  </div>\n"
            ],
            "application/vnd.google.colaboratory.intrinsic+json": {
              "type": "dataframe",
              "variable_name": "history",
              "summary": "{\n  \"name\": \"history\",\n  \"rows\": 7,\n  \"fields\": [\n    {\n      \"column\": \"loss\",\n      \"properties\": {\n        \"dtype\": \"number\",\n        \"std\": 9.276858327131259e-05,\n        \"min\": 0.6931558847427368,\n        \"max\": 0.6934183239936829,\n        \"num_unique_values\": 7,\n        \"samples\": [\n          0.6934183239936829,\n          0.6931792497634888,\n          0.6931818127632141\n        ],\n        \"semantic_type\": \"\",\n        \"description\": \"\"\n      }\n    },\n    {\n      \"column\": \"accuracy\",\n      \"properties\": {\n        \"dtype\": \"number\",\n        \"std\": 0.0021513371665815967,\n        \"min\": 0.49607500433921814,\n        \"max\": 0.5021499991416931,\n        \"num_unique_values\": 7,\n        \"samples\": [\n          0.5004374980926514,\n          0.4996750056743622,\n          0.49779999256134033\n        ],\n        \"semantic_type\": \"\",\n        \"description\": \"\"\n      }\n    },\n    {\n      \"column\": \"precision\",\n      \"properties\": {\n        \"dtype\": \"number\",\n        \"std\": 0.0022237179146977677,\n        \"min\": 0.4963007867336273,\n        \"max\": 0.5017892718315125,\n        \"num_unique_values\": 7,\n        \"samples\": [\n          0.5002755522727966,\n          0.49937233328819275,\n          0.49665558338165283\n        ],\n        \"semantic_type\": \"\",\n        \"description\": \"\"\n      }\n    },\n    {\n      \"column\": \"recall\",\n      \"properties\": {\n        \"dtype\": \"number\",\n        \"std\": 0.07823384364735934,\n        \"min\": 0.3546830117702484,\n        \"max\": 0.5519570112228394,\n        \"num_unique_values\": 7,\n        \"samples\": [\n          0.4540952742099762,\n          0.40790295600891113,\n          0.3546830117702484\n        ],\n        \"semantic_type\": \"\",\n        \"description\": \"\"\n      }\n    },\n    {\n      \"column\": \"val_loss\",\n      \"properties\": {\n        \"dtype\": \"number\",\n        \"std\": 7.246196516754977e-05,\n        \"min\": 0.6931465268135071,\n        \"max\": 0.6933483481407166,\n        \"num_unique_values\": 7,\n        \"samples\": [\n          0.6933483481407166,\n          0.6931539177894592,\n          0.6931487917900085\n        ],\n        \"semantic_type\": \"\",\n        \"description\": \"\"\n      }\n    },\n    {\n      \"column\": \"val_accuracy\",\n      \"properties\": {\n        \"dtype\": \"number\",\n        \"std\": 0.003816273945196338,\n        \"min\": 0.4900999963283539,\n        \"max\": 0.5007500052452087,\n        \"num_unique_values\": 3,\n        \"samples\": [\n          0.4900999963283539,\n          0.5007500052452087,\n          0.49924999475479126\n        ],\n        \"semantic_type\": \"\",\n        \"description\": \"\"\n      }\n    },\n    {\n      \"column\": \"val_precision\",\n      \"properties\": {\n        \"dtype\": \"number\",\n        \"std\": 0.23891157341233543,\n        \"min\": 0.0,\n        \"max\": 0.5007500052452087,\n        \"num_unique_values\": 4,\n        \"samples\": [\n          0.5007500052452087,\n          0.0,\n          0.2347826063632965\n        ],\n        \"semantic_type\": \"\",\n        \"description\": \"\"\n      }\n    },\n    {\n      \"column\": \"val_recall\",\n      \"properties\": {\n        \"dtype\": \"number\",\n        \"std\": 0.533435956296824,\n        \"min\": 0.0,\n        \"max\": 1.0,\n        \"num_unique_values\": 4,\n        \"samples\": [\n          1.0,\n          0.0,\n          0.008087867870926857\n        ],\n        \"semantic_type\": \"\",\n        \"description\": \"\"\n      }\n    }\n  ]\n}"
            }
          },
          "metadata": {}
        }
      ]
    },
    {
      "cell_type": "code",
      "source": [
        "plt.plot(range(len(history)), history[\"accuracy\"], label=\"Training Accuracy\")\n",
        "plt.plot(range(len(history)), history[\"val_accuracy\"], label=\"Validation Accuracy\")\n",
        "plt.legend(loc=\"lower right\")\n",
        "plt.title(\"Training and Validation Accuracy\")\n",
        "plt.show()"
      ],
      "metadata": {
        "id": "_bfAntx0O33z",
        "colab": {
          "base_uri": "https://localhost:8080/",
          "height": 452
        },
        "outputId": "3b30a65b-9fe0-4337-adfd-9de5777814b2"
      },
      "execution_count": 14,
      "outputs": [
        {
          "output_type": "display_data",
          "data": {
            "text/plain": [
              "<Figure size 640x480 with 1 Axes>"
            ],
            "image/png": "[encoded data removed]"
          },
          "metadata": {}
        }
      ]
    },
    {
      "cell_type": "code",
      "source": [
        "preds = final_model.predict([val_imgs, val_imgs, valv_imgs])"
      ],
      "metadata": {
        "id": "mveXJTzKO36f",
        "colab": {
          "base_uri": "https://localhost:8080/"
        },
        "outputId": "51f6631b-2269-48bb-f297-28cc23dcd9c3"
      },
      "execution_count": 15,
      "outputs": [
        {
          "output_type": "stream",
          "name": "stdout",
          "text": [
            "625/625 [==============================] - 5s 7ms/step\n"
          ]
        }
      ]
    },
    {
      "cell_type": "code",
      "source": [
        "sum(preds > 0.5)"
      ],
      "metadata": {
        "id": "azZh0zkgO387",
        "colab": {
          "base_uri": "https://localhost:8080/"
        },
        "outputId": "af506b82-9e81-4866-f4c0-6766def4dfb9"
      },
      "execution_count": 20,
      "outputs": [
        {
          "output_type": "execute_result",
          "data": {
            "text/plain": [
              "array([20000])"
            ]
          },
          "metadata": {},
          "execution_count": 20
        }
      ]
    },
    {
      "cell_type": "code",
      "source": [
        "final_model.evaluate([test_imgs, test_imgs, testv_imgs], test_labels, return_dict=True)"
      ],
      "metadata": {
        "id": "ItdUioZQO3_n",
        "colab": {
          "base_uri": "https://localhost:8080/"
        },
        "outputId": "90365b26-4f33-43d2-b7fe-3e8a4666e335"
      },
      "execution_count": 22,
      "outputs": [
        {
          "output_type": "stream",
          "name": "stdout",
          "text": [
            "625/625 [==============================] - 5s 8ms/step - loss: 0.6931 - accuracy: 0.5000 - precision: 0.5000 - recall: 1.0000\n"
          ]
        },
        {
          "output_type": "execute_result",
          "data": {
            "text/plain": [
              "{'loss': 0.6931458711624146, 'accuracy': 0.5, 'precision': 0.5, 'recall': 1.0}"
            ]
          },
          "metadata": {},
          "execution_count": 22
        }
      ]
    }
  ]
}