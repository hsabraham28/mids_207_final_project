{
 "cells": [
  {
   "cell_type": "code",
   "execution_count": 1,
   "metadata": {
    "executionInfo": {
     "elapsed": 326,
     "status": "ok",
     "timestamp": 1709231119168,
     "user": {
      "displayName": "Jasmine Zhang",
      "userId": "06344520663330274377"
     },
     "user_tz": 480
    },
    "id": "elgCepU8IaaO",
    "tags": []
   },
   "outputs": [],
   "source": [
    "import matplotlib.pyplot as plt\n",
    "import numpy as np\n",
    "import pandas as pd\n",
    "import tensorflow as tf\n",
    "import os\n",
    "from tensorflow import keras\n",
    "from keras.applications import MobileNetV3Large\n",
    "from keras import layers\n",
    "from keras.models import Model\n",
    "from keras import metrics\n",
    "from sklearn.metrics import ConfusionMatrixDisplay"
   ]
  },
  {
   "cell_type": "code",
   "execution_count": 2,
   "metadata": {
    "colab": {
     "base_uri": "https://localhost:8080/"
    },
    "executionInfo": {
     "elapsed": 210999,
     "status": "ok",
     "timestamp": 1709225110655,
     "user": {
      "displayName": "Jasmine Zhang",
      "userId": "06344520663330274377"
     },
     "user_tz": 480
    },
    "id": "R6JsnIwNIi1E",
    "outputId": "1092d247-5643-4782-faf1-be3dbdc61781"
   },
   "outputs": [
    {
     "name": "stdout",
     "output_type": "stream",
     "text": [
      "Found 100000 files belonging to 2 classes.\n",
      "Using 80000 files for training.\n",
      "Using 20000 files for validation.\n"
     ]
    }
   ],
   "source": [
    "dataset_dir = os.path.join(os.getcwd(), \"CIFAKE\")\n",
    "\n",
    "img_height = 32\n",
    "img_width = 32\n",
    "batch_size = 500\n",
    "\n",
    "# Load training and validation data\n",
    "train, val = keras.utils.image_dataset_from_directory(\n",
    "  os.path.join(dataset_dir, \"train\"),\n",
    "  validation_split=0.2,\n",
    "  subset=\"both\",\n",
    "  seed = 512,\n",
    "  image_size = (img_height, img_width),\n",
    "  batch_size = batch_size)"
   ]
  },
  {
   "cell_type": "code",
   "execution_count": 3,
   "metadata": {
    "colab": {
     "base_uri": "https://localhost:8080/"
    },
    "executionInfo": {
     "elapsed": 13392,
     "status": "ok",
     "timestamp": 1709230112398,
     "user": {
      "displayName": "Jasmine Zhang",
      "userId": "06344520663330274377"
     },
     "user_tz": 480
    },
    "id": "4QlS-CFcvp1A",
    "outputId": "731824ef-534e-45eb-f75a-96d82fa7f33e"
   },
   "outputs": [
    {
     "name": "stdout",
     "output_type": "stream",
     "text": [
      "Found 20000 files belonging to 2 classes.\n"
     ]
    }
   ],
   "source": [
    "# Load test data\n",
    "test = keras.utils.image_dataset_from_directory(\n",
    "  os.path.join(dataset_dir, \"test\"),\n",
    "  seed = 512,\n",
    "  image_size = (img_height, img_width),\n",
    "  batch_size = batch_size)"
   ]
  },
  {
   "cell_type": "code",
   "execution_count": 4,
   "metadata": {},
   "outputs": [
    {
     "data": {
      "text/plain": [
       "['FAKE', 'REAL']"
      ]
     },
     "execution_count": 4,
     "metadata": {},
     "output_type": "execute_result"
    }
   ],
   "source": [
    "classes = train.class_names\n",
    "classes"
   ]
  },
  {
   "cell_type": "code",
   "execution_count": 5,
   "metadata": {},
   "outputs": [
    {
     "name": "stdout",
     "output_type": "stream",
     "text": [
      "WARNING:tensorflow:`input_shape` is undefined or non-square, or `rows` is not 224. Weights for input shape (224, 224) will be loaded as the default.\n"
     ]
    }
   ],
   "source": [
    "# Load MobileNet and freeze weights\n",
    "keras.backend.clear_session()\n",
    "\n",
    "mobilenet = MobileNetV3Large(include_top=False)\n",
    "mobilenet.trainable = False"
   ]
  },
  {
   "cell_type": "code",
   "execution_count": 6,
   "metadata": {},
   "outputs": [],
   "source": [
    "# Build classifier around MobileNet\n",
    "input = keras.Input(shape=(img_height, img_width, 3))\n",
    "x = mobilenet(input, training=False)\n",
    "x = layers.Flatten()(x)\n",
    "x = layers.Dense(units=1024, activation=\"relu\")(x)\n",
    "output = layers.Dense(units=1, activation=\"sigmoid\")(x)\n",
    "\n",
    "model = Model(inputs=input, outputs=output)"
   ]
  },
  {
   "cell_type": "code",
   "execution_count": 7,
   "metadata": {
    "executionInfo": {
     "elapsed": 166,
     "status": "ok",
     "timestamp": 1709232041123,
     "user": {
      "displayName": "Jasmine Zhang",
      "userId": "06344520663330274377"
     },
     "user_tz": 480
    },
    "id": "6IIxNrfWbJBN"
   },
   "outputs": [],
   "source": [
    "# Compile model\n",
    "model.compile(loss=\"binary_crossentropy\",\n",
    "                optimizer=\"adam\",\n",
    "                metrics=[\"accuracy\", metrics.Precision(name=\"precision\"), metrics.Recall(name=\"recall\")])"
   ]
  },
  {
   "cell_type": "code",
   "execution_count": 8,
   "metadata": {
    "colab": {
     "base_uri": "https://localhost:8080/"
    },
    "executionInfo": {
     "elapsed": 296,
     "status": "ok",
     "timestamp": 1709232042210,
     "user": {
      "displayName": "Jasmine Zhang",
      "userId": "06344520663330274377"
     },
     "user_tz": 480
    },
    "id": "EDT6t6L7ej6Y",
    "outputId": "ad379040-2a66-4f3e-aa47-101c34dcdfff"
   },
   "outputs": [
    {
     "name": "stdout",
     "output_type": "stream",
     "text": [
      "Model: \"model\"\n",
      "____________________________________________________________________________\n",
      " Layer (type)                Output Shape              Param #   Trainable  \n",
      "============================================================================\n",
      " input_2 (InputLayer)        [(None, 32, 32, 3)]       0         Y          \n",
      "                                                                            \n",
      " MobilenetV3large (Functiona  (None, None, None, 960)  2996352   N          \n",
      " l)                                                                         \n",
      "                                                                            \n",
      " flatten (Flatten)           (None, 960)               0         Y          \n",
      "                                                                            \n",
      " dense (Dense)               (None, 1024)              984064    Y          \n",
      "                                                                            \n",
      " dense_1 (Dense)             (None, 1)                 1025      Y          \n",
      "                                                                            \n",
      "============================================================================\n",
      "Total params: 3,981,441\n",
      "Trainable params: 985,089\n",
      "Non-trainable params: 2,996,352\n",
      "____________________________________________________________________________\n"
     ]
    }
   ],
   "source": [
    "model.summary(show_trainable=True)"
   ]
  },
  {
   "cell_type": "code",
   "execution_count": 9,
   "metadata": {
    "colab": {
     "base_uri": "https://localhost:8080/"
    },
    "id": "Xtma5Lageq8I",
    "outputId": "842d3807-9fea-470c-98ac-342a3754ab3d"
   },
   "outputs": [
    {
     "data": {
      "text/html": [
       "<div>\n",
       "<style scoped>\n",
       "    .dataframe tbody tr th:only-of-type {\n",
       "        vertical-align: middle;\n",
       "    }\n",
       "\n",
       "    .dataframe tbody tr th {\n",
       "        vertical-align: top;\n",
       "    }\n",
       "\n",
       "    .dataframe thead th {\n",
       "        text-align: right;\n",
       "    }\n",
       "</style>\n",
       "<table border=\"1\" class=\"dataframe\">\n",
       "  <thead>\n",
       "    <tr style=\"text-align: right;\">\n",
       "      <th></th>\n",
       "      <th>loss</th>\n",
       "      <th>accuracy</th>\n",
       "      <th>precision</th>\n",
       "      <th>recall</th>\n",
       "      <th>val_loss</th>\n",
       "      <th>val_accuracy</th>\n",
       "      <th>val_precision</th>\n",
       "      <th>val_recall</th>\n",
       "    </tr>\n",
       "  </thead>\n",
       "  <tbody>\n",
       "    <tr>\n",
       "      <th>0</th>\n",
       "      <td>0.475343</td>\n",
       "      <td>0.774638</td>\n",
       "      <td>0.778178</td>\n",
       "      <td>0.768038</td>\n",
       "      <td>0.436187</td>\n",
       "      <td>0.79485</td>\n",
       "      <td>0.800957</td>\n",
       "      <td>0.785522</td>\n",
       "    </tr>\n",
       "    <tr>\n",
       "      <th>1</th>\n",
       "      <td>0.400512</td>\n",
       "      <td>0.817338</td>\n",
       "      <td>0.821051</td>\n",
       "      <td>0.811379</td>\n",
       "      <td>0.423239</td>\n",
       "      <td>0.80335</td>\n",
       "      <td>0.812025</td>\n",
       "      <td>0.790215</td>\n",
       "    </tr>\n",
       "    <tr>\n",
       "      <th>2</th>\n",
       "      <td>0.350687</td>\n",
       "      <td>0.845900</td>\n",
       "      <td>0.848106</td>\n",
       "      <td>0.842591</td>\n",
       "      <td>0.423608</td>\n",
       "      <td>0.80845</td>\n",
       "      <td>0.803733</td>\n",
       "      <td>0.816975</td>\n",
       "    </tr>\n",
       "  </tbody>\n",
       "</table>\n",
       "</div>"
      ],
      "text/plain": [
       "       loss  accuracy  precision    recall  val_loss  val_accuracy  \\\n",
       "0  0.475343  0.774638   0.778178  0.768038  0.436187       0.79485   \n",
       "1  0.400512  0.817338   0.821051  0.811379  0.423239       0.80335   \n",
       "2  0.350687  0.845900   0.848106  0.842591  0.423608       0.80845   \n",
       "\n",
       "   val_precision  val_recall  \n",
       "0       0.800957    0.785522  \n",
       "1       0.812025    0.790215  \n",
       "2       0.803733    0.816975  "
      ]
     },
     "metadata": {},
     "output_type": "display_data"
    }
   ],
   "source": [
    "# Train classifier\n",
    "epochs = 3\n",
    "\n",
    "history = model.fit(\n",
    "  train,\n",
    "  validation_data=val,\n",
    "  epochs=epochs,\n",
    "  verbose=0)\n",
    "\n",
    "history = pd.DataFrame(history.history)\n",
    "display(history)"
   ]
  },
  {
   "cell_type": "code",
   "execution_count": 10,
   "metadata": {},
   "outputs": [
    {
     "data": {
      "image/png": "[encoded data removed]",
      "text/plain": [
       "<Figure size 640x480 with 1 Axes>"
      ]
     },
     "metadata": {},
     "output_type": "display_data"
    }
   ],
   "source": [
    "# Plot training and validation accuracy\n",
    "plt.plot(range(epochs), history[\"accuracy\"], label=\"Training Accuracy\")\n",
    "plt.plot(range(epochs), history[\"val_accuracy\"], label=\"Validation Accuracy\")\n",
    "plt.legend(loc=\"lower right\")\n",
    "plt.title(\"Training and Validation Accuracy\")\n",
    "plt.show()"
   ]
  },
  {
   "cell_type": "code",
   "execution_count": 11,
   "metadata": {},
   "outputs": [
    {
     "name": "stdout",
     "output_type": "stream",
     "text": [
      "Model: \"model\"\n",
      "____________________________________________________________________________\n",
      " Layer (type)                Output Shape              Param #   Trainable  \n",
      "============================================================================\n",
      " input_2 (InputLayer)        [(None, 32, 32, 3)]       0         Y          \n",
      "                                                                            \n",
      " MobilenetV3large (Functiona  (None, None, None, 960)  2996352   Y          \n",
      " l)                                                                         \n",
      "                                                                            \n",
      " flatten (Flatten)           (None, 960)               0         Y          \n",
      "                                                                            \n",
      " dense (Dense)               (None, 1024)              984064    Y          \n",
      "                                                                            \n",
      " dense_1 (Dense)             (None, 1)                 1025      Y          \n",
      "                                                                            \n",
      "============================================================================\n",
      "Total params: 3,981,441\n",
      "Trainable params: 3,957,041\n",
      "Non-trainable params: 24,400\n",
      "____________________________________________________________________________\n"
     ]
    }
   ],
   "source": [
    "# Unfreeze MobileNet\n",
    "mobilenet.trainable = True\n",
    "\n",
    "model.summary(show_trainable=True)"
   ]
  },
  {
   "cell_type": "code",
   "execution_count": 12,
   "metadata": {
    "executionInfo": {
     "elapsed": 166,
     "status": "ok",
     "timestamp": 1709232041123,
     "user": {
      "displayName": "Jasmine Zhang",
      "userId": "06344520663330274377"
     },
     "user_tz": 480
    },
    "id": "6IIxNrfWbJBN"
   },
   "outputs": [],
   "source": [
    "# Recompile model with low learning rate\n",
    "model.compile(loss=\"binary_crossentropy\",\n",
    "                optimizer=keras.optimizers.Adam(1e-5),\n",
    "                metrics=[\"accuracy\", metrics.Precision(name=\"precision\"), metrics.Recall(name=\"recall\")])"
   ]
  },
  {
   "cell_type": "code",
   "execution_count": 13,
   "metadata": {
    "colab": {
     "base_uri": "https://localhost:8080/"
    },
    "id": "Xtma5Lageq8I",
    "outputId": "842d3807-9fea-470c-98ac-342a3754ab3d"
   },
   "outputs": [
    {
     "data": {
      "text/html": [
       "<div>\n",
       "<style scoped>\n",
       "    .dataframe tbody tr th:only-of-type {\n",
       "        vertical-align: middle;\n",
       "    }\n",
       "\n",
       "    .dataframe tbody tr th {\n",
       "        vertical-align: top;\n",
       "    }\n",
       "\n",
       "    .dataframe thead th {\n",
       "        text-align: right;\n",
       "    }\n",
       "</style>\n",
       "<table border=\"1\" class=\"dataframe\">\n",
       "  <thead>\n",
       "    <tr style=\"text-align: right;\">\n",
       "      <th></th>\n",
       "      <th>loss</th>\n",
       "      <th>accuracy</th>\n",
       "      <th>precision</th>\n",
       "      <th>recall</th>\n",
       "      <th>val_loss</th>\n",
       "      <th>val_accuracy</th>\n",
       "      <th>val_precision</th>\n",
       "      <th>val_recall</th>\n",
       "    </tr>\n",
       "  </thead>\n",
       "  <tbody>\n",
       "    <tr>\n",
       "      <th>0</th>\n",
       "      <td>0.260890</td>\n",
       "      <td>0.893212</td>\n",
       "      <td>0.896235</td>\n",
       "      <td>0.889309</td>\n",
       "      <td>0.346413</td>\n",
       "      <td>0.85005</td>\n",
       "      <td>0.852634</td>\n",
       "      <td>0.846930</td>\n",
       "    </tr>\n",
       "    <tr>\n",
       "      <th>1</th>\n",
       "      <td>0.218734</td>\n",
       "      <td>0.913888</td>\n",
       "      <td>0.916658</td>\n",
       "      <td>0.910491</td>\n",
       "      <td>0.317183</td>\n",
       "      <td>0.86560</td>\n",
       "      <td>0.871816</td>\n",
       "      <td>0.857713</td>\n",
       "    </tr>\n",
       "    <tr>\n",
       "      <th>2</th>\n",
       "      <td>0.193471</td>\n",
       "      <td>0.924800</td>\n",
       "      <td>0.926457</td>\n",
       "      <td>0.922796</td>\n",
       "      <td>0.298679</td>\n",
       "      <td>0.87560</td>\n",
       "      <td>0.875187</td>\n",
       "      <td>0.876585</td>\n",
       "    </tr>\n",
       "    <tr>\n",
       "      <th>3</th>\n",
       "      <td>0.174227</td>\n",
       "      <td>0.933812</td>\n",
       "      <td>0.935301</td>\n",
       "      <td>0.932050</td>\n",
       "      <td>0.285650</td>\n",
       "      <td>0.88215</td>\n",
       "      <td>0.878884</td>\n",
       "      <td>0.886870</td>\n",
       "    </tr>\n",
       "    <tr>\n",
       "      <th>4</th>\n",
       "      <td>0.158410</td>\n",
       "      <td>0.940838</td>\n",
       "      <td>0.941821</td>\n",
       "      <td>0.939677</td>\n",
       "      <td>0.275697</td>\n",
       "      <td>0.88800</td>\n",
       "      <td>0.885168</td>\n",
       "      <td>0.892062</td>\n",
       "    </tr>\n",
       "    <tr>\n",
       "      <th>5</th>\n",
       "      <td>0.145680</td>\n",
       "      <td>0.946413</td>\n",
       "      <td>0.948062</td>\n",
       "      <td>0.944529</td>\n",
       "      <td>0.268682</td>\n",
       "      <td>0.89090</td>\n",
       "      <td>0.894292</td>\n",
       "      <td>0.886970</td>\n",
       "    </tr>\n",
       "    <tr>\n",
       "      <th>6</th>\n",
       "      <td>0.133854</td>\n",
       "      <td>0.951700</td>\n",
       "      <td>0.952860</td>\n",
       "      <td>0.950381</td>\n",
       "      <td>0.262862</td>\n",
       "      <td>0.89515</td>\n",
       "      <td>0.898290</td>\n",
       "      <td>0.891563</td>\n",
       "    </tr>\n",
       "    <tr>\n",
       "      <th>7</th>\n",
       "      <td>0.123632</td>\n",
       "      <td>0.956325</td>\n",
       "      <td>0.957613</td>\n",
       "      <td>0.954883</td>\n",
       "      <td>0.258734</td>\n",
       "      <td>0.89780</td>\n",
       "      <td>0.892004</td>\n",
       "      <td>0.905542</td>\n",
       "    </tr>\n",
       "    <tr>\n",
       "      <th>8</th>\n",
       "      <td>0.114013</td>\n",
       "      <td>0.960825</td>\n",
       "      <td>0.961989</td>\n",
       "      <td>0.959535</td>\n",
       "      <td>0.254475</td>\n",
       "      <td>0.90025</td>\n",
       "      <td>0.900920</td>\n",
       "      <td>0.899750</td>\n",
       "    </tr>\n",
       "    <tr>\n",
       "      <th>9</th>\n",
       "      <td>0.105432</td>\n",
       "      <td>0.964400</td>\n",
       "      <td>0.965691</td>\n",
       "      <td>0.962986</td>\n",
       "      <td>0.252549</td>\n",
       "      <td>0.90265</td>\n",
       "      <td>0.905917</td>\n",
       "      <td>0.898952</td>\n",
       "    </tr>\n",
       "    <tr>\n",
       "      <th>10</th>\n",
       "      <td>0.097417</td>\n",
       "      <td>0.967925</td>\n",
       "      <td>0.968969</td>\n",
       "      <td>0.966788</td>\n",
       "      <td>0.252010</td>\n",
       "      <td>0.90345</td>\n",
       "      <td>0.905254</td>\n",
       "      <td>0.901548</td>\n",
       "    </tr>\n",
       "    <tr>\n",
       "      <th>11</th>\n",
       "      <td>0.089616</td>\n",
       "      <td>0.971400</td>\n",
       "      <td>0.972050</td>\n",
       "      <td>0.970689</td>\n",
       "      <td>0.251093</td>\n",
       "      <td>0.90550</td>\n",
       "      <td>0.908250</td>\n",
       "      <td>0.902446</td>\n",
       "    </tr>\n",
       "    <tr>\n",
       "      <th>12</th>\n",
       "      <td>0.082563</td>\n",
       "      <td>0.974537</td>\n",
       "      <td>0.975301</td>\n",
       "      <td>0.973715</td>\n",
       "      <td>0.251850</td>\n",
       "      <td>0.90550</td>\n",
       "      <td>0.898480</td>\n",
       "      <td>0.914628</td>\n",
       "    </tr>\n",
       "    <tr>\n",
       "      <th>13</th>\n",
       "      <td>0.075780</td>\n",
       "      <td>0.977825</td>\n",
       "      <td>0.978511</td>\n",
       "      <td>0.977091</td>\n",
       "      <td>0.250263</td>\n",
       "      <td>0.90720</td>\n",
       "      <td>0.902040</td>\n",
       "      <td>0.913929</td>\n",
       "    </tr>\n",
       "    <tr>\n",
       "      <th>14</th>\n",
       "      <td>0.069589</td>\n",
       "      <td>0.980400</td>\n",
       "      <td>0.981187</td>\n",
       "      <td>0.979567</td>\n",
       "      <td>0.250853</td>\n",
       "      <td>0.90825</td>\n",
       "      <td>0.909820</td>\n",
       "      <td>0.906640</td>\n",
       "    </tr>\n",
       "  </tbody>\n",
       "</table>\n",
       "</div>"
      ],
      "text/plain": [
       "        loss  accuracy  precision    recall  val_loss  val_accuracy  \\\n",
       "0   0.260890  0.893212   0.896235  0.889309  0.346413       0.85005   \n",
       "1   0.218734  0.913888   0.916658  0.910491  0.317183       0.86560   \n",
       "2   0.193471  0.924800   0.926457  0.922796  0.298679       0.87560   \n",
       "3   0.174227  0.933812   0.935301  0.932050  0.285650       0.88215   \n",
       "4   0.158410  0.940838   0.941821  0.939677  0.275697       0.88800   \n",
       "5   0.145680  0.946413   0.948062  0.944529  0.268682       0.89090   \n",
       "6   0.133854  0.951700   0.952860  0.950381  0.262862       0.89515   \n",
       "7   0.123632  0.956325   0.957613  0.954883  0.258734       0.89780   \n",
       "8   0.114013  0.960825   0.961989  0.959535  0.254475       0.90025   \n",
       "9   0.105432  0.964400   0.965691  0.962986  0.252549       0.90265   \n",
       "10  0.097417  0.967925   0.968969  0.966788  0.252010       0.90345   \n",
       "11  0.089616  0.971400   0.972050  0.970689  0.251093       0.90550   \n",
       "12  0.082563  0.974537   0.975301  0.973715  0.251850       0.90550   \n",
       "13  0.075780  0.977825   0.978511  0.977091  0.250263       0.90720   \n",
       "14  0.069589  0.980400   0.981187  0.979567  0.250853       0.90825   \n",
       "\n",
       "    val_precision  val_recall  \n",
       "0        0.852634    0.846930  \n",
       "1        0.871816    0.857713  \n",
       "2        0.875187    0.876585  \n",
       "3        0.878884    0.886870  \n",
       "4        0.885168    0.892062  \n",
       "5        0.894292    0.886970  \n",
       "6        0.898290    0.891563  \n",
       "7        0.892004    0.905542  \n",
       "8        0.900920    0.899750  \n",
       "9        0.905917    0.898952  \n",
       "10       0.905254    0.901548  \n",
       "11       0.908250    0.902446  \n",
       "12       0.898480    0.914628  \n",
       "13       0.902040    0.913929  \n",
       "14       0.909820    0.906640  "
      ]
     },
     "metadata": {},
     "output_type": "display_data"
    }
   ],
   "source": [
    "# Fine-tune model\n",
    "epochs = 15\n",
    "\n",
    "history = model.fit(\n",
    "  train,\n",
    "  validation_data=val,\n",
    "  epochs=epochs,\n",
    "  verbose=0)\n",
    "\n",
    "history = pd.DataFrame(history.history)\n",
    "display(history)"
   ]
  },
  {
   "cell_type": "code",
   "execution_count": 14,
   "metadata": {},
   "outputs": [
    {
     "data": {
      "image/png": "[encoded data removed]",
      "text/plain": [
       "<Figure size 640x480 with 1 Axes>"
      ]
     },
     "metadata": {},
     "output_type": "display_data"
    }
   ],
   "source": [
    "# Plot training and validation accuracy\n",
    "plt.plot(range(epochs), history[\"accuracy\"], label=\"Training Accuracy\")\n",
    "plt.plot(range(epochs), history[\"val_accuracy\"], label=\"Validation Accuracy\")\n",
    "plt.legend(loc=\"lower right\")\n",
    "plt.title(\"Training and Validation Accuracy\")\n",
    "plt.show()"
   ]
  },
  {
   "cell_type": "code",
   "execution_count": 15,
   "metadata": {},
   "outputs": [
    {
     "name": "stdout",
     "output_type": "stream",
     "text": [
      "40/40 [==============================] - 2s 47ms/step - loss: 0.2516 - accuracy: 0.9086 - precision: 0.9095 - recall: 0.9076\n"
     ]
    },
    {
     "data": {
      "text/plain": [
       "{'loss': 0.25159668922424316,\n",
       " 'accuracy': 0.9086499810218811,\n",
       " 'precision': 0.9095099568367004,\n",
       " 'recall': 0.9075999855995178}"
      ]
     },
     "execution_count": 15,
     "metadata": {},
     "output_type": "execute_result"
    }
   ],
   "source": [
    "# Evaluate on test data\n",
    "model.evaluate(test, return_dict=True)"
   ]
  },
  {
   "cell_type": "code",
   "execution_count": 16,
   "metadata": {},
   "outputs": [
    {
     "data": {
      "image/png": "[encoded data removed]",
      "text/plain": [
       "<Figure size 640x480 with 2 Axes>"
      ]
     },
     "metadata": {},
     "output_type": "display_data"
    }
   ],
   "source": [
    "# Confusion matrix\n",
    "test_predictions = np.array([])\n",
    "test_labels = np.array([])\n",
    "for x, y in test:\n",
    "    test_predictions = np.append(test_predictions, model(x) > 0.5)\n",
    "    test_labels = np.append(test_labels, y)\n",
    "ConfusionMatrixDisplay.from_predictions(test_labels, test_predictions, display_labels=classes, cmap=\"Blues\");"
   ]
  },
  {
   "cell_type": "code",
   "execution_count": null,
   "metadata": {},
   "outputs": [],
   "source": []
  }
 ],
 "metadata": {
  "colab": {
   "provenance": []
  },
  "kernelspec": {
   "display_name": "Python 3 (ipykernel)",
   "language": "python",
   "name": "python3"
  },
  "language_info": {
   "codemirror_mode": {
    "name": "ipython",
    "version": 3
   },
   "file_extension": ".py",
   "mimetype": "text/x-python",
   "name": "python",
   "nbconvert_exporter": "python",
   "pygments_lexer": "ipython3",
   "version": "3.10.13"
  }
 },
 "nbformat": 4,
 "nbformat_minor": 4
}
