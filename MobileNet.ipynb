{
 "cells": [
  {
   "cell_type": "code",
   "execution_count": 1,
   "metadata": {
    "executionInfo": {
     "elapsed": 326,
     "status": "ok",
     "timestamp": 1709231119168,
     "user": {
      "displayName": "Jasmine Zhang",
      "userId": "06344520663330274377"
     },
     "user_tz": 480
    },
    "id": "elgCepU8IaaO",
    "tags": []
   },
   "outputs": [],
   "source": [
    "import matplotlib.pyplot as plt\n",
    "import numpy as np\n",
    "import pandas as pd\n",
    "import tensorflow as tf\n",
    "import os\n",
    "from tensorflow import keras\n",
    "from keras.applications import MobileNetV3Large\n",
    "from keras import layers\n",
    "from keras.models import Model\n",
    "from keras import metrics\n",
    "from sklearn.metrics import ConfusionMatrixDisplay"
   ]
  },
  {
   "cell_type": "code",
   "execution_count": 2,
   "metadata": {
    "colab": {
     "base_uri": "https://localhost:8080/"
    },
    "executionInfo": {
     "elapsed": 210999,
     "status": "ok",
     "timestamp": 1709225110655,
     "user": {
      "displayName": "Jasmine Zhang",
      "userId": "06344520663330274377"
     },
     "user_tz": 480
    },
    "id": "R6JsnIwNIi1E",
    "outputId": "1092d247-5643-4782-faf1-be3dbdc61781"
   },
   "outputs": [
    {
     "name": "stdout",
     "output_type": "stream",
     "text": [
      "Found 100000 files belonging to 2 classes.\n",
      "Using 80000 files for training.\n",
      "Using 20000 files for validation.\n"
     ]
    }
   ],
   "source": [
    "dataset_dir = os.path.join(os.getcwd(), \"CIFAKE\")\n",
    "\n",
    "img_height = 32\n",
    "img_width = 32\n",
    "batch_size = 500\n",
    "\n",
    "# Load training and validation data\n",
    "train, val = keras.utils.image_dataset_from_directory(\n",
    "  os.path.join(dataset_dir, \"train\"),\n",
    "  validation_split=0.2,\n",
    "  subset=\"both\",\n",
    "  seed = 512,\n",
    "  image_size = (img_height, img_width),\n",
    "  batch_size = batch_size)"
   ]
  },
  {
   "cell_type": "code",
   "execution_count": 3,
   "metadata": {
    "colab": {
     "base_uri": "https://localhost:8080/"
    },
    "executionInfo": {
     "elapsed": 13392,
     "status": "ok",
     "timestamp": 1709230112398,
     "user": {
      "displayName": "Jasmine Zhang",
      "userId": "06344520663330274377"
     },
     "user_tz": 480
    },
    "id": "4QlS-CFcvp1A",
    "outputId": "731824ef-534e-45eb-f75a-96d82fa7f33e"
   },
   "outputs": [
    {
     "name": "stdout",
     "output_type": "stream",
     "text": [
      "Found 20000 files belonging to 2 classes.\n"
     ]
    }
   ],
   "source": [
    "# Load test data\n",
    "test = keras.utils.image_dataset_from_directory(\n",
    "  os.path.join(dataset_dir, \"test\"),\n",
    "  seed = 512,\n",
    "  image_size = (img_height, img_width),\n",
    "  batch_size = batch_size)"
   ]
  },
  {
   "cell_type": "code",
   "execution_count": 4,
   "metadata": {},
   "outputs": [
    {
     "data": {
      "text/plain": [
       "['FAKE', 'REAL']"
      ]
     },
     "execution_count": 4,
     "metadata": {},
     "output_type": "execute_result"
    }
   ],
   "source": [
    "classes = train.class_names\n",
    "classes"
   ]
  },
  {
   "cell_type": "code",
   "execution_count": 5,
   "metadata": {},
   "outputs": [
    {
     "name": "stdout",
     "output_type": "stream",
     "text": [
      "WARNING:tensorflow:`input_shape` is undefined or non-square, or `rows` is not 224. Weights for input shape (224, 224) will be loaded as the default.\n"
     ]
    }
   ],
   "source": [
    "# Load MobileNet and freeze weights\n",
    "keras.backend.clear_session()\n",
    "\n",
    "mobilenet = MobileNetV3Large(include_top=False)\n",
    "mobilenet.trainable = False"
   ]
  },
  {
   "cell_type": "code",
   "execution_count": 6,
   "metadata": {},
   "outputs": [],
   "source": [
    "# Build classifier around MobileNet\n",
    "input = keras.Input(shape=(img_height, img_width, 3))\n",
    "x = mobilenet(input, training=False)\n",
    "x = layers.Flatten()(x)\n",
    "x = layers.Dropout(0.5)(x)\n",
    "output = layers.Dense(units=1, activation=\"sigmoid\")(x)\n",
    "\n",
    "model = Model(inputs=input, outputs=output)"
   ]
  },
  {
   "cell_type": "code",
   "execution_count": 7,
   "metadata": {
    "executionInfo": {
     "elapsed": 166,
     "status": "ok",
     "timestamp": 1709232041123,
     "user": {
      "displayName": "Jasmine Zhang",
      "userId": "06344520663330274377"
     },
     "user_tz": 480
    },
    "id": "6IIxNrfWbJBN"
   },
   "outputs": [],
   "source": [
    "# Compile model\n",
    "model.compile(loss=\"binary_crossentropy\",\n",
    "                optimizer=\"adam\",\n",
    "                metrics=[\"accuracy\", metrics.Precision(name=\"precision\"), metrics.Recall(name=\"recall\")])"
   ]
  },
  {
   "cell_type": "code",
   "execution_count": 8,
   "metadata": {
    "colab": {
     "base_uri": "https://localhost:8080/"
    },
    "executionInfo": {
     "elapsed": 296,
     "status": "ok",
     "timestamp": 1709232042210,
     "user": {
      "displayName": "Jasmine Zhang",
      "userId": "06344520663330274377"
     },
     "user_tz": 480
    },
    "id": "EDT6t6L7ej6Y",
    "outputId": "ad379040-2a66-4f3e-aa47-101c34dcdfff"
   },
   "outputs": [
    {
     "name": "stdout",
     "output_type": "stream",
     "text": [
      "Model: \"model\"\n",
      "____________________________________________________________________________\n",
      " Layer (type)                Output Shape              Param #   Trainable  \n",
      "============================================================================\n",
      " input_2 (InputLayer)        [(None, 32, 32, 3)]       0         Y          \n",
      "                                                                            \n",
      " MobilenetV3large (Functiona  (None, None, None, 960)  2996352   N          \n",
      " l)                                                                         \n",
      "                                                                            \n",
      " flatten (Flatten)           (None, 960)               0         Y          \n",
      "                                                                            \n",
      " dropout (Dropout)           (None, 960)               0         Y          \n",
      "                                                                            \n",
      " dense (Dense)               (None, 1)                 961       Y          \n",
      "                                                                            \n",
      "============================================================================\n",
      "Total params: 2,997,313\n",
      "Trainable params: 961\n",
      "Non-trainable params: 2,996,352\n",
      "____________________________________________________________________________\n"
     ]
    }
   ],
   "source": [
    "model.summary(show_trainable=True)"
   ]
  },
  {
   "cell_type": "code",
   "execution_count": 9,
   "metadata": {
    "colab": {
     "base_uri": "https://localhost:8080/"
    },
    "id": "Xtma5Lageq8I",
    "outputId": "842d3807-9fea-470c-98ac-342a3754ab3d"
   },
   "outputs": [
    {
     "data": {
      "text/html": [
       "<div>\n",
       "<style scoped>\n",
       "    .dataframe tbody tr th:only-of-type {\n",
       "        vertical-align: middle;\n",
       "    }\n",
       "\n",
       "    .dataframe tbody tr th {\n",
       "        vertical-align: top;\n",
       "    }\n",
       "\n",
       "    .dataframe thead th {\n",
       "        text-align: right;\n",
       "    }\n",
       "</style>\n",
       "<table border=\"1\" class=\"dataframe\">\n",
       "  <thead>\n",
       "    <tr style=\"text-align: right;\">\n",
       "      <th></th>\n",
       "      <th>loss</th>\n",
       "      <th>accuracy</th>\n",
       "      <th>precision</th>\n",
       "      <th>recall</th>\n",
       "      <th>val_loss</th>\n",
       "      <th>val_accuracy</th>\n",
       "      <th>val_precision</th>\n",
       "      <th>val_recall</th>\n",
       "    </tr>\n",
       "  </thead>\n",
       "  <tbody>\n",
       "    <tr>\n",
       "      <th>0</th>\n",
       "      <td>0.648532</td>\n",
       "      <td>0.658725</td>\n",
       "      <td>0.664113</td>\n",
       "      <td>0.641791</td>\n",
       "      <td>0.522966</td>\n",
       "      <td>0.75195</td>\n",
       "      <td>0.757962</td>\n",
       "      <td>0.741388</td>\n",
       "    </tr>\n",
       "    <tr>\n",
       "      <th>1</th>\n",
       "      <td>0.555346</td>\n",
       "      <td>0.722225</td>\n",
       "      <td>0.722488</td>\n",
       "      <td>0.721295</td>\n",
       "      <td>0.508980</td>\n",
       "      <td>0.75900</td>\n",
       "      <td>0.768809</td>\n",
       "      <td>0.741787</td>\n",
       "    </tr>\n",
       "    <tr>\n",
       "      <th>2</th>\n",
       "      <td>0.546676</td>\n",
       "      <td>0.727050</td>\n",
       "      <td>0.728537</td>\n",
       "      <td>0.723471</td>\n",
       "      <td>0.504535</td>\n",
       "      <td>0.76150</td>\n",
       "      <td>0.778308</td>\n",
       "      <td>0.732302</td>\n",
       "    </tr>\n",
       "    <tr>\n",
       "      <th>3</th>\n",
       "      <td>0.545859</td>\n",
       "      <td>0.727975</td>\n",
       "      <td>0.730164</td>\n",
       "      <td>0.722896</td>\n",
       "      <td>0.503664</td>\n",
       "      <td>0.76140</td>\n",
       "      <td>0.764451</td>\n",
       "      <td>0.756665</td>\n",
       "    </tr>\n",
       "  </tbody>\n",
       "</table>\n",
       "</div>"
      ],
      "text/plain": [
       "       loss  accuracy  precision    recall  val_loss  val_accuracy  \\\n",
       "0  0.648532  0.658725   0.664113  0.641791  0.522966       0.75195   \n",
       "1  0.555346  0.722225   0.722488  0.721295  0.508980       0.75900   \n",
       "2  0.546676  0.727050   0.728537  0.723471  0.504535       0.76150   \n",
       "3  0.545859  0.727975   0.730164  0.722896  0.503664       0.76140   \n",
       "\n",
       "   val_precision  val_recall  \n",
       "0       0.757962    0.741388  \n",
       "1       0.768809    0.741787  \n",
       "2       0.778308    0.732302  \n",
       "3       0.764451    0.756665  "
      ]
     },
     "metadata": {},
     "output_type": "display_data"
    }
   ],
   "source": [
    "# Train classifier\n",
    "epochs = 4\n",
    "\n",
    "history = model.fit(\n",
    "  train,\n",
    "  validation_data=val,\n",
    "  epochs=epochs,\n",
    "  verbose=0)\n",
    "\n",
    "history = pd.DataFrame(history.history)\n",
    "display(history)"
   ]
  },
  {
   "cell_type": "code",
   "execution_count": 10,
   "metadata": {},
   "outputs": [
    {
     "data": {
      "image/png": "[encoded data removed]",
      "text/plain": [
       "<Figure size 640x480 with 1 Axes>"
      ]
     },
     "metadata": {},
     "output_type": "display_data"
    }
   ],
   "source": [
    "# Plot training and validation accuracy\n",
    "plt.plot(range(epochs), history[\"accuracy\"], label=\"Training Accuracy\")\n",
    "plt.plot(range(epochs), history[\"val_accuracy\"], label=\"Validation Accuracy\")\n",
    "plt.legend(loc=\"lower right\")\n",
    "plt.title(\"Training and Validation Accuracy\")\n",
    "plt.show()"
   ]
  },
  {
   "cell_type": "code",
   "execution_count": 11,
   "metadata": {},
   "outputs": [
    {
     "name": "stdout",
     "output_type": "stream",
     "text": [
      "Model: \"model\"\n",
      "____________________________________________________________________________\n",
      " Layer (type)                Output Shape              Param #   Trainable  \n",
      "============================================================================\n",
      " input_2 (InputLayer)        [(None, 32, 32, 3)]       0         Y          \n",
      "                                                                            \n",
      " MobilenetV3large (Functiona  (None, None, None, 960)  2996352   Y          \n",
      " l)                                                                         \n",
      "                                                                            \n",
      " flatten (Flatten)           (None, 960)               0         Y          \n",
      "                                                                            \n",
      " dropout (Dropout)           (None, 960)               0         Y          \n",
      "                                                                            \n",
      " dense (Dense)               (None, 1)                 961       Y          \n",
      "                                                                            \n",
      "============================================================================\n",
      "Total params: 2,997,313\n",
      "Trainable params: 2,972,913\n",
      "Non-trainable params: 24,400\n",
      "____________________________________________________________________________\n"
     ]
    }
   ],
   "source": [
    "# Unfreeze MobileNet\n",
    "mobilenet.trainable = True\n",
    "\n",
    "model.summary(show_trainable=True)"
   ]
  },
  {
   "cell_type": "code",
   "execution_count": 12,
   "metadata": {
    "executionInfo": {
     "elapsed": 166,
     "status": "ok",
     "timestamp": 1709232041123,
     "user": {
      "displayName": "Jasmine Zhang",
      "userId": "06344520663330274377"
     },
     "user_tz": 480
    },
    "id": "6IIxNrfWbJBN"
   },
   "outputs": [],
   "source": [
    "# Recompile model with low learning rate\n",
    "model.compile(loss=\"binary_crossentropy\",\n",
    "                optimizer=keras.optimizers.Adam(1e-5),\n",
    "                metrics=[\"accuracy\", metrics.Precision(name=\"precision\"), metrics.Recall(name=\"recall\")])"
   ]
  },
  {
   "cell_type": "code",
   "execution_count": 13,
   "metadata": {
    "colab": {
     "base_uri": "https://localhost:8080/"
    },
    "id": "Xtma5Lageq8I",
    "outputId": "842d3807-9fea-470c-98ac-342a3754ab3d"
   },
   "outputs": [
    {
     "data": {
      "text/html": [
       "<div>\n",
       "<style scoped>\n",
       "    .dataframe tbody tr th:only-of-type {\n",
       "        vertical-align: middle;\n",
       "    }\n",
       "\n",
       "    .dataframe tbody tr th {\n",
       "        vertical-align: top;\n",
       "    }\n",
       "\n",
       "    .dataframe thead th {\n",
       "        text-align: right;\n",
       "    }\n",
       "</style>\n",
       "<table border=\"1\" class=\"dataframe\">\n",
       "  <thead>\n",
       "    <tr style=\"text-align: right;\">\n",
       "      <th></th>\n",
       "      <th>loss</th>\n",
       "      <th>accuracy</th>\n",
       "      <th>precision</th>\n",
       "      <th>recall</th>\n",
       "      <th>val_loss</th>\n",
       "      <th>val_accuracy</th>\n",
       "      <th>val_precision</th>\n",
       "      <th>val_recall</th>\n",
       "    </tr>\n",
       "  </thead>\n",
       "  <tbody>\n",
       "    <tr>\n",
       "      <th>0</th>\n",
       "      <td>0.424219</td>\n",
       "      <td>0.808250</td>\n",
       "      <td>0.813494</td>\n",
       "      <td>0.799700</td>\n",
       "      <td>0.319056</td>\n",
       "      <td>0.86440</td>\n",
       "      <td>0.882958</td>\n",
       "      <td>0.840639</td>\n",
       "    </tr>\n",
       "    <tr>\n",
       "      <th>1</th>\n",
       "      <td>0.310158</td>\n",
       "      <td>0.869613</td>\n",
       "      <td>0.873232</td>\n",
       "      <td>0.864649</td>\n",
       "      <td>0.262076</td>\n",
       "      <td>0.89060</td>\n",
       "      <td>0.891467</td>\n",
       "      <td>0.889865</td>\n",
       "    </tr>\n",
       "    <tr>\n",
       "      <th>2</th>\n",
       "      <td>0.261401</td>\n",
       "      <td>0.892775</td>\n",
       "      <td>0.894927</td>\n",
       "      <td>0.889959</td>\n",
       "      <td>0.234447</td>\n",
       "      <td>0.90450</td>\n",
       "      <td>0.896876</td>\n",
       "      <td>0.914428</td>\n",
       "    </tr>\n",
       "    <tr>\n",
       "      <th>3</th>\n",
       "      <td>0.232225</td>\n",
       "      <td>0.906362</td>\n",
       "      <td>0.908073</td>\n",
       "      <td>0.904189</td>\n",
       "      <td>0.214421</td>\n",
       "      <td>0.91360</td>\n",
       "      <td>0.911511</td>\n",
       "      <td>0.916425</td>\n",
       "    </tr>\n",
       "    <tr>\n",
       "      <th>4</th>\n",
       "      <td>0.212235</td>\n",
       "      <td>0.914662</td>\n",
       "      <td>0.916411</td>\n",
       "      <td>0.912492</td>\n",
       "      <td>0.200580</td>\n",
       "      <td>0.92045</td>\n",
       "      <td>0.922807</td>\n",
       "      <td>0.917923</td>\n",
       "    </tr>\n",
       "    <tr>\n",
       "      <th>5</th>\n",
       "      <td>0.196454</td>\n",
       "      <td>0.921488</td>\n",
       "      <td>0.923311</td>\n",
       "      <td>0.919270</td>\n",
       "      <td>0.190883</td>\n",
       "      <td>0.92425</td>\n",
       "      <td>0.930598</td>\n",
       "      <td>0.917124</td>\n",
       "    </tr>\n",
       "    <tr>\n",
       "      <th>6</th>\n",
       "      <td>0.183689</td>\n",
       "      <td>0.927238</td>\n",
       "      <td>0.928636</td>\n",
       "      <td>0.925547</td>\n",
       "      <td>0.182029</td>\n",
       "      <td>0.92715</td>\n",
       "      <td>0.926365</td>\n",
       "      <td>0.928308</td>\n",
       "    </tr>\n",
       "    <tr>\n",
       "      <th>7</th>\n",
       "      <td>0.172767</td>\n",
       "      <td>0.932063</td>\n",
       "      <td>0.932892</td>\n",
       "      <td>0.931049</td>\n",
       "      <td>0.175022</td>\n",
       "      <td>0.93005</td>\n",
       "      <td>0.929597</td>\n",
       "      <td>0.930804</td>\n",
       "    </tr>\n",
       "    <tr>\n",
       "      <th>8</th>\n",
       "      <td>0.163553</td>\n",
       "      <td>0.935112</td>\n",
       "      <td>0.936102</td>\n",
       "      <td>0.933925</td>\n",
       "      <td>0.169772</td>\n",
       "      <td>0.93190</td>\n",
       "      <td>0.935218</td>\n",
       "      <td>0.928308</td>\n",
       "    </tr>\n",
       "    <tr>\n",
       "      <th>9</th>\n",
       "      <td>0.155660</td>\n",
       "      <td>0.938712</td>\n",
       "      <td>0.938722</td>\n",
       "      <td>0.938652</td>\n",
       "      <td>0.164881</td>\n",
       "      <td>0.93415</td>\n",
       "      <td>0.937261</td>\n",
       "      <td>0.930804</td>\n",
       "    </tr>\n",
       "    <tr>\n",
       "      <th>10</th>\n",
       "      <td>0.148348</td>\n",
       "      <td>0.942362</td>\n",
       "      <td>0.942995</td>\n",
       "      <td>0.941603</td>\n",
       "      <td>0.161805</td>\n",
       "      <td>0.93650</td>\n",
       "      <td>0.937732</td>\n",
       "      <td>0.935297</td>\n",
       "    </tr>\n",
       "    <tr>\n",
       "      <th>11</th>\n",
       "      <td>0.140860</td>\n",
       "      <td>0.944900</td>\n",
       "      <td>0.945236</td>\n",
       "      <td>0.944479</td>\n",
       "      <td>0.158420</td>\n",
       "      <td>0.93675</td>\n",
       "      <td>0.933254</td>\n",
       "      <td>0.940989</td>\n",
       "    </tr>\n",
       "    <tr>\n",
       "      <th>12</th>\n",
       "      <td>0.134759</td>\n",
       "      <td>0.947475</td>\n",
       "      <td>0.948218</td>\n",
       "      <td>0.946605</td>\n",
       "      <td>0.156253</td>\n",
       "      <td>0.93865</td>\n",
       "      <td>0.932992</td>\n",
       "      <td>0.945382</td>\n",
       "    </tr>\n",
       "    <tr>\n",
       "      <th>13</th>\n",
       "      <td>0.128984</td>\n",
       "      <td>0.949437</td>\n",
       "      <td>0.949835</td>\n",
       "      <td>0.948956</td>\n",
       "      <td>0.153272</td>\n",
       "      <td>0.93935</td>\n",
       "      <td>0.935139</td>\n",
       "      <td>0.944383</td>\n",
       "    </tr>\n",
       "    <tr>\n",
       "      <th>14</th>\n",
       "      <td>0.122780</td>\n",
       "      <td>0.951688</td>\n",
       "      <td>0.951839</td>\n",
       "      <td>0.951482</td>\n",
       "      <td>0.151710</td>\n",
       "      <td>0.94075</td>\n",
       "      <td>0.936956</td>\n",
       "      <td>0.945282</td>\n",
       "    </tr>\n",
       "    <tr>\n",
       "      <th>15</th>\n",
       "      <td>0.117088</td>\n",
       "      <td>0.954638</td>\n",
       "      <td>0.954996</td>\n",
       "      <td>0.954208</td>\n",
       "      <td>0.150940</td>\n",
       "      <td>0.94245</td>\n",
       "      <td>0.942227</td>\n",
       "      <td>0.942886</td>\n",
       "    </tr>\n",
       "    <tr>\n",
       "      <th>16</th>\n",
       "      <td>0.112504</td>\n",
       "      <td>0.957100</td>\n",
       "      <td>0.957587</td>\n",
       "      <td>0.956534</td>\n",
       "      <td>0.150384</td>\n",
       "      <td>0.94285</td>\n",
       "      <td>0.944667</td>\n",
       "      <td>0.940989</td>\n",
       "    </tr>\n",
       "    <tr>\n",
       "      <th>17</th>\n",
       "      <td>0.106984</td>\n",
       "      <td>0.958888</td>\n",
       "      <td>0.958677</td>\n",
       "      <td>0.959085</td>\n",
       "      <td>0.148212</td>\n",
       "      <td>0.94335</td>\n",
       "      <td>0.941101</td>\n",
       "      <td>0.946081</td>\n",
       "    </tr>\n",
       "    <tr>\n",
       "      <th>18</th>\n",
       "      <td>0.102954</td>\n",
       "      <td>0.960712</td>\n",
       "      <td>0.960871</td>\n",
       "      <td>0.960510</td>\n",
       "      <td>0.147618</td>\n",
       "      <td>0.94465</td>\n",
       "      <td>0.947548</td>\n",
       "      <td>0.941588</td>\n",
       "    </tr>\n",
       "    <tr>\n",
       "      <th>19</th>\n",
       "      <td>0.097362</td>\n",
       "      <td>0.962375</td>\n",
       "      <td>0.962060</td>\n",
       "      <td>0.962686</td>\n",
       "      <td>0.150156</td>\n",
       "      <td>0.94385</td>\n",
       "      <td>0.952565</td>\n",
       "      <td>0.934398</td>\n",
       "    </tr>\n",
       "    <tr>\n",
       "      <th>20</th>\n",
       "      <td>0.092933</td>\n",
       "      <td>0.965050</td>\n",
       "      <td>0.964804</td>\n",
       "      <td>0.965287</td>\n",
       "      <td>0.149957</td>\n",
       "      <td>0.94565</td>\n",
       "      <td>0.949547</td>\n",
       "      <td>0.941488</td>\n",
       "    </tr>\n",
       "    <tr>\n",
       "      <th>21</th>\n",
       "      <td>0.088323</td>\n",
       "      <td>0.966725</td>\n",
       "      <td>0.966246</td>\n",
       "      <td>0.967213</td>\n",
       "      <td>0.150166</td>\n",
       "      <td>0.94630</td>\n",
       "      <td>0.943370</td>\n",
       "      <td>0.949775</td>\n",
       "    </tr>\n",
       "    <tr>\n",
       "      <th>22</th>\n",
       "      <td>0.083708</td>\n",
       "      <td>0.968425</td>\n",
       "      <td>0.968249</td>\n",
       "      <td>0.968588</td>\n",
       "      <td>0.147998</td>\n",
       "      <td>0.94700</td>\n",
       "      <td>0.941612</td>\n",
       "      <td>0.953270</td>\n",
       "    </tr>\n",
       "    <tr>\n",
       "      <th>23</th>\n",
       "      <td>0.079117</td>\n",
       "      <td>0.969800</td>\n",
       "      <td>0.968804</td>\n",
       "      <td>0.970839</td>\n",
       "      <td>0.154416</td>\n",
       "      <td>0.94615</td>\n",
       "      <td>0.948785</td>\n",
       "      <td>0.943385</td>\n",
       "    </tr>\n",
       "    <tr>\n",
       "      <th>24</th>\n",
       "      <td>0.074709</td>\n",
       "      <td>0.972337</td>\n",
       "      <td>0.971773</td>\n",
       "      <td>0.972915</td>\n",
       "      <td>0.156052</td>\n",
       "      <td>0.94730</td>\n",
       "      <td>0.949443</td>\n",
       "      <td>0.945082</td>\n",
       "    </tr>\n",
       "    <tr>\n",
       "      <th>25</th>\n",
       "      <td>0.070161</td>\n",
       "      <td>0.973837</td>\n",
       "      <td>0.973674</td>\n",
       "      <td>0.973990</td>\n",
       "      <td>0.159083</td>\n",
       "      <td>0.94720</td>\n",
       "      <td>0.949433</td>\n",
       "      <td>0.944883</td>\n",
       "    </tr>\n",
       "    <tr>\n",
       "      <th>26</th>\n",
       "      <td>0.066085</td>\n",
       "      <td>0.975712</td>\n",
       "      <td>0.975074</td>\n",
       "      <td>0.976366</td>\n",
       "      <td>0.162495</td>\n",
       "      <td>0.94725</td>\n",
       "      <td>0.946304</td>\n",
       "      <td>0.948477</td>\n",
       "    </tr>\n",
       "    <tr>\n",
       "      <th>27</th>\n",
       "      <td>0.061745</td>\n",
       "      <td>0.977538</td>\n",
       "      <td>0.977183</td>\n",
       "      <td>0.977892</td>\n",
       "      <td>0.168686</td>\n",
       "      <td>0.94735</td>\n",
       "      <td>0.951350</td>\n",
       "      <td>0.943085</td>\n",
       "    </tr>\n",
       "    <tr>\n",
       "      <th>28</th>\n",
       "      <td>0.058655</td>\n",
       "      <td>0.978975</td>\n",
       "      <td>0.978943</td>\n",
       "      <td>0.978992</td>\n",
       "      <td>0.173411</td>\n",
       "      <td>0.94680</td>\n",
       "      <td>0.955244</td>\n",
       "      <td>0.937693</td>\n",
       "    </tr>\n",
       "    <tr>\n",
       "      <th>29</th>\n",
       "      <td>0.053623</td>\n",
       "      <td>0.980563</td>\n",
       "      <td>0.980087</td>\n",
       "      <td>0.981043</td>\n",
       "      <td>0.182477</td>\n",
       "      <td>0.94675</td>\n",
       "      <td>0.954961</td>\n",
       "      <td>0.937893</td>\n",
       "    </tr>\n",
       "    <tr>\n",
       "      <th>30</th>\n",
       "      <td>0.049065</td>\n",
       "      <td>0.982800</td>\n",
       "      <td>0.982263</td>\n",
       "      <td>0.983344</td>\n",
       "      <td>0.184641</td>\n",
       "      <td>0.94750</td>\n",
       "      <td>0.945267</td>\n",
       "      <td>0.950175</td>\n",
       "    </tr>\n",
       "    <tr>\n",
       "      <th>31</th>\n",
       "      <td>0.046062</td>\n",
       "      <td>0.983750</td>\n",
       "      <td>0.983671</td>\n",
       "      <td>0.983819</td>\n",
       "      <td>0.191163</td>\n",
       "      <td>0.94820</td>\n",
       "      <td>0.944813</td>\n",
       "      <td>0.952172</td>\n",
       "    </tr>\n",
       "    <tr>\n",
       "      <th>32</th>\n",
       "      <td>0.041450</td>\n",
       "      <td>0.985587</td>\n",
       "      <td>0.985327</td>\n",
       "      <td>0.985845</td>\n",
       "      <td>0.197698</td>\n",
       "      <td>0.94845</td>\n",
       "      <td>0.950281</td>\n",
       "      <td>0.946580</td>\n",
       "    </tr>\n",
       "  </tbody>\n",
       "</table>\n",
       "</div>"
      ],
      "text/plain": [
       "        loss  accuracy  precision    recall  val_loss  val_accuracy  \\\n",
       "0   0.424219  0.808250   0.813494  0.799700  0.319056       0.86440   \n",
       "1   0.310158  0.869613   0.873232  0.864649  0.262076       0.89060   \n",
       "2   0.261401  0.892775   0.894927  0.889959  0.234447       0.90450   \n",
       "3   0.232225  0.906362   0.908073  0.904189  0.214421       0.91360   \n",
       "4   0.212235  0.914662   0.916411  0.912492  0.200580       0.92045   \n",
       "5   0.196454  0.921488   0.923311  0.919270  0.190883       0.92425   \n",
       "6   0.183689  0.927238   0.928636  0.925547  0.182029       0.92715   \n",
       "7   0.172767  0.932063   0.932892  0.931049  0.175022       0.93005   \n",
       "8   0.163553  0.935112   0.936102  0.933925  0.169772       0.93190   \n",
       "9   0.155660  0.938712   0.938722  0.938652  0.164881       0.93415   \n",
       "10  0.148348  0.942362   0.942995  0.941603  0.161805       0.93650   \n",
       "11  0.140860  0.944900   0.945236  0.944479  0.158420       0.93675   \n",
       "12  0.134759  0.947475   0.948218  0.946605  0.156253       0.93865   \n",
       "13  0.128984  0.949437   0.949835  0.948956  0.153272       0.93935   \n",
       "14  0.122780  0.951688   0.951839  0.951482  0.151710       0.94075   \n",
       "15  0.117088  0.954638   0.954996  0.954208  0.150940       0.94245   \n",
       "16  0.112504  0.957100   0.957587  0.956534  0.150384       0.94285   \n",
       "17  0.106984  0.958888   0.958677  0.959085  0.148212       0.94335   \n",
       "18  0.102954  0.960712   0.960871  0.960510  0.147618       0.94465   \n",
       "19  0.097362  0.962375   0.962060  0.962686  0.150156       0.94385   \n",
       "20  0.092933  0.965050   0.964804  0.965287  0.149957       0.94565   \n",
       "21  0.088323  0.966725   0.966246  0.967213  0.150166       0.94630   \n",
       "22  0.083708  0.968425   0.968249  0.968588  0.147998       0.94700   \n",
       "23  0.079117  0.969800   0.968804  0.970839  0.154416       0.94615   \n",
       "24  0.074709  0.972337   0.971773  0.972915  0.156052       0.94730   \n",
       "25  0.070161  0.973837   0.973674  0.973990  0.159083       0.94720   \n",
       "26  0.066085  0.975712   0.975074  0.976366  0.162495       0.94725   \n",
       "27  0.061745  0.977538   0.977183  0.977892  0.168686       0.94735   \n",
       "28  0.058655  0.978975   0.978943  0.978992  0.173411       0.94680   \n",
       "29  0.053623  0.980563   0.980087  0.981043  0.182477       0.94675   \n",
       "30  0.049065  0.982800   0.982263  0.983344  0.184641       0.94750   \n",
       "31  0.046062  0.983750   0.983671  0.983819  0.191163       0.94820   \n",
       "32  0.041450  0.985587   0.985327  0.985845  0.197698       0.94845   \n",
       "\n",
       "    val_precision  val_recall  \n",
       "0        0.882958    0.840639  \n",
       "1        0.891467    0.889865  \n",
       "2        0.896876    0.914428  \n",
       "3        0.911511    0.916425  \n",
       "4        0.922807    0.917923  \n",
       "5        0.930598    0.917124  \n",
       "6        0.926365    0.928308  \n",
       "7        0.929597    0.930804  \n",
       "8        0.935218    0.928308  \n",
       "9        0.937261    0.930804  \n",
       "10       0.937732    0.935297  \n",
       "11       0.933254    0.940989  \n",
       "12       0.932992    0.945382  \n",
       "13       0.935139    0.944383  \n",
       "14       0.936956    0.945282  \n",
       "15       0.942227    0.942886  \n",
       "16       0.944667    0.940989  \n",
       "17       0.941101    0.946081  \n",
       "18       0.947548    0.941588  \n",
       "19       0.952565    0.934398  \n",
       "20       0.949547    0.941488  \n",
       "21       0.943370    0.949775  \n",
       "22       0.941612    0.953270  \n",
       "23       0.948785    0.943385  \n",
       "24       0.949443    0.945082  \n",
       "25       0.949433    0.944883  \n",
       "26       0.946304    0.948477  \n",
       "27       0.951350    0.943085  \n",
       "28       0.955244    0.937693  \n",
       "29       0.954961    0.937893  \n",
       "30       0.945267    0.950175  \n",
       "31       0.944813    0.952172  \n",
       "32       0.950281    0.946580  "
      ]
     },
     "metadata": {},
     "output_type": "display_data"
    }
   ],
   "source": [
    "# Fine-tune model\n",
    "epochs = 33\n",
    "\n",
    "history = model.fit(\n",
    "  train,\n",
    "  validation_data=val,\n",
    "  epochs=epochs,\n",
    "  verbose=0)\n",
    "\n",
    "history = pd.DataFrame(history.history)\n",
    "display(history)"
   ]
  },
  {
   "cell_type": "code",
   "execution_count": 14,
   "metadata": {},
   "outputs": [
    {
     "data": {
      "image/png": "[encoded data removed]",
      "text/plain": [
       "<Figure size 640x480 with 1 Axes>"
      ]
     },
     "metadata": {},
     "output_type": "display_data"
    }
   ],
   "source": [
    "# Plot training and validation accuracy\n",
    "plt.plot(range(epochs), history[\"accuracy\"], label=\"Training Accuracy\")\n",
    "plt.plot(range(epochs), history[\"val_accuracy\"], label=\"Validation Accuracy\")\n",
    "plt.legend(loc=\"lower right\")\n",
    "plt.title(\"Training and Validation Accuracy\")\n",
    "plt.show()"
   ]
  },
  {
   "cell_type": "code",
   "execution_count": 15,
   "metadata": {},
   "outputs": [
    {
     "name": "stdout",
     "output_type": "stream",
     "text": [
      "40/40 [==============================] - 5s 105ms/step - loss: 0.2090 - accuracy: 0.9434 - precision: 0.9471 - recall: 0.9394\n"
     ]
    },
    {
     "data": {
      "text/plain": [
       "{'loss': 0.2089914083480835,\n",
       " 'accuracy': 0.9434499740600586,\n",
       " 'precision': 0.9470712542533875,\n",
       " 'recall': 0.9394000172615051}"
      ]
     },
     "execution_count": 15,
     "metadata": {},
     "output_type": "execute_result"
    }
   ],
   "source": [
    "# Evaluate on test data\n",
    "model.evaluate(test, return_dict=True)"
   ]
  },
  {
   "cell_type": "code",
   "execution_count": 16,
   "metadata": {},
   "outputs": [
    {
     "data": {
      "image/png": "[encoded data removed]",
      "text/plain": [
       "<Figure size 640x480 with 2 Axes>"
      ]
     },
     "metadata": {},
     "output_type": "display_data"
    }
   ],
   "source": [
    "# Confusion matrix\n",
    "test_predictions = np.array([])\n",
    "test_labels = np.array([])\n",
    "for x, y in test:\n",
    "    test_predictions = np.append(test_predictions, model(x) > 0.5)\n",
    "    test_labels = np.append(test_labels, y)\n",
    "ConfusionMatrixDisplay.from_predictions(test_labels, test_predictions, display_labels=classes, cmap=\"Blues\");"
   ]
  },
  {
   "cell_type": "code",
   "execution_count": null,
   "metadata": {},
   "outputs": [],
   "source": []
  }
 ],
 "metadata": {
  "colab": {
   "provenance": []
  },
  "kernelspec": {
   "display_name": "Python 3 (ipykernel)",
   "language": "python",
   "name": "python3"
  },
  "language_info": {
   "codemirror_mode": {
    "name": "ipython",
    "version": 3
   },
   "file_extension": ".py",
   "mimetype": "text/x-python",
   "name": "python",
   "nbconvert_exporter": "python",
   "pygments_lexer": "ipython3",
   "version": "3.10.13"
  }
 },
 "nbformat": 4,
 "nbformat_minor": 4
}
