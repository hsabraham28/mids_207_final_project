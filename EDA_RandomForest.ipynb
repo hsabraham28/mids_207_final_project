{
  "cells": [
    {
      "cell_type": "code",
      "execution_count": 1,
      "id": "66e26191",
      "metadata": {
        "id": "66e26191"
      },
      "outputs": [],
      "source": [
        "import matplotlib.pyplot as plt\n",
        "import numpy as np\n",
        "import PIL\n",
        "import tensorflow as tf\n",
        "import pathlib\n",
        "\n",
        "from tensorflow import keras\n",
        "from tensorflow.keras import layers\n",
        "from tensorflow.keras.models import Sequential\n",
        "from IPython.display import Image"
      ]
    },
    {
      "cell_type": "markdown",
      "id": "bdb5b089",
      "metadata": {
        "id": "bdb5b089"
      },
      "source": [
        "# Skip until \"Start Here\""
      ]
    },
    {
      "cell_type": "code",
      "source": [
        "%%capture\n",
        "import zipfile\n",
        "!unzip /content/CIFAKE.zip"
      ],
      "metadata": {
        "id": "gvCuN-HkV-nP"
      },
      "id": "gvCuN-HkV-nP",
      "execution_count": 3,
      "outputs": []
    },
    {
      "cell_type": "code",
      "execution_count": 4,
      "id": "e0e025a7",
      "metadata": {
        "colab": {
          "base_uri": "https://localhost:8080/"
        },
        "id": "e0e025a7",
        "outputId": "a23c0b38-4e64-45fa-a8b4-c4c7c98f5c5d"
      },
      "outputs": [
        {
          "output_type": "stream",
          "name": "stdout",
          "text": [
            "Found 100000 files belonging to 2 classes.\n",
            "Using 80000 files for training.\n"
          ]
        },
        {
          "output_type": "execute_result",
          "data": {
            "text/plain": [
              "<_PrefetchDataset element_spec=(TensorSpec(shape=(None, 32, 32, 3), dtype=tf.float32, name=None), TensorSpec(shape=(None,), dtype=tf.int32, name=None))>"
            ]
          },
          "metadata": {},
          "execution_count": 4
        }
      ],
      "source": [
        "dataset_dir = \"C:/Users/Hannah/OneDrive/Documents/MIDS/207/Final_Project/mids_207_final_project/\"\n",
        "img_height = 32\n",
        "img_width = 32\n",
        "batch_size = 500\n",
        "\n",
        "# Load the training data\n",
        "train_ds = tf.keras.utils.image_dataset_from_directory(\n",
        "  \"train\",\n",
        "  validation_split=0.2,\n",
        "  subset=\"training\",\n",
        "  seed = 512,\n",
        "  image_size = (img_height, img_width),\n",
        "  batch_size = batch_size)\n",
        "train_ds"
      ]
    },
    {
      "cell_type": "code",
      "execution_count": 5,
      "id": "b4c9740e",
      "metadata": {
        "id": "b4c9740e",
        "colab": {
          "base_uri": "https://localhost:8080/"
        },
        "outputId": "a35e6ee1-c01d-4364-fd3f-fa79a5ed8a3e"
      },
      "outputs": [
        {
          "output_type": "stream",
          "name": "stdout",
          "text": [
            "Found 100000 files belonging to 2 classes.\n",
            "Using 20000 files for validation.\n"
          ]
        }
      ],
      "source": [
        "val_ds = tf.keras.utils.image_dataset_from_directory(\n",
        "  \"train\",\n",
        "  validation_split=0.2,\n",
        "  subset=\"validation\",\n",
        "  seed = 512,\n",
        "  image_size = (img_height, img_width),\n",
        "  batch_size = batch_size)"
      ]
    },
    {
      "cell_type": "code",
      "execution_count": 6,
      "id": "08629d91",
      "metadata": {
        "id": "08629d91",
        "colab": {
          "base_uri": "https://localhost:8080/"
        },
        "outputId": "f1d3fc5e-6fd8-4a70-a33c-ae477527c50f"
      },
      "outputs": [
        {
          "output_type": "execute_result",
          "data": {
            "text/plain": [
              "['FAKE', 'REAL']"
            ]
          },
          "metadata": {},
          "execution_count": 6
        }
      ],
      "source": [
        "classes = train_ds.class_names\n",
        "classes"
      ]
    },
    {
      "cell_type": "code",
      "execution_count": 7,
      "id": "d5fca634",
      "metadata": {
        "id": "d5fca634",
        "colab": {
          "base_uri": "https://localhost:8080/",
          "height": 853
        },
        "outputId": "355fd9bf-c73e-42cb-e5dc-0759915eb746"
      },
      "outputs": [
        {
          "output_type": "display_data",
          "data": {
            "text/plain": [
              "<Figure size 1000x1000 with 9 Axes>"
            ],
            "image/png": "[encoded data removed]"
          },
          "metadata": {}
        }
      ],
      "source": [
        "#first 9 images in training dataset\n",
        "plt.figure(figsize=(10, 10))\n",
        "for images, labels in train_ds.take(1):\n",
        "  for i in range(9):\n",
        "    ax = plt.subplot(3, 3, i + 1)\n",
        "    plt.imshow(images[i].numpy().astype(\"uint8\"))\n",
        "    plt.title(classes[labels[i]])\n"
      ]
    },
    {
      "cell_type": "code",
      "execution_count": 8,
      "id": "bdcfeacd",
      "metadata": {
        "id": "bdcfeacd"
      },
      "outputs": [],
      "source": [
        "#Rescaling images\n",
        "normalization_layer = tf.keras.layers.Rescaling(1./255)"
      ]
    },
    {
      "cell_type": "code",
      "execution_count": 9,
      "id": "70353b3e",
      "metadata": {
        "id": "70353b3e",
        "colab": {
          "base_uri": "https://localhost:8080/"
        },
        "outputId": "1b36c170-ec46-41a6-af84-efbfc781760b"
      },
      "outputs": [
        {
          "output_type": "stream",
          "name": "stdout",
          "text": [
            "0.0 0.9725491\n"
          ]
        }
      ],
      "source": [
        "normalized_ds = train_ds.map(lambda x, y: (normalization_layer(x), y))\n",
        "image_batch, labels_batch = next(iter(normalized_ds))\n",
        "first_image = image_batch[0]\n",
        "# The pixel values are now in `[0,1]`.\n",
        "print(np.min(first_image), np.max(first_image))"
      ]
    },
    {
      "cell_type": "code",
      "execution_count": null,
      "id": "50bab4e7",
      "metadata": {
        "scrolled": true,
        "id": "50bab4e7"
      },
      "outputs": [],
      "source": []
    },
    {
      "cell_type": "code",
      "execution_count": null,
      "id": "00aa6402",
      "metadata": {
        "id": "00aa6402"
      },
      "outputs": [],
      "source": []
    },
    {
      "cell_type": "code",
      "execution_count": null,
      "id": "54f31182",
      "metadata": {
        "id": "54f31182"
      },
      "outputs": [],
      "source": []
    },
    {
      "cell_type": "code",
      "execution_count": 10,
      "id": "f75d681b",
      "metadata": {
        "id": "f75d681b"
      },
      "outputs": [],
      "source": [
        "alist = list(train_ds)"
      ]
    },
    {
      "cell_type": "code",
      "execution_count": null,
      "id": "c651ecd5",
      "metadata": {
        "id": "c651ecd5"
      },
      "outputs": [],
      "source": []
    },
    {
      "cell_type": "markdown",
      "id": "0a4bc452",
      "metadata": {
        "id": "0a4bc452"
      },
      "source": [
        "# Start Here"
      ]
    },
    {
      "cell_type": "markdown",
      "id": "dbba5708",
      "metadata": {
        "id": "dbba5708"
      },
      "source": [
        "# Load data"
      ]
    },
    {
      "cell_type": "markdown",
      "id": "9f56195a",
      "metadata": {
        "id": "9f56195a"
      },
      "source": [
        "Loading it differently for Random Forest so that it is loaded in 1 batch"
      ]
    },
    {
      "cell_type": "code",
      "execution_count": 11,
      "id": "642fff91",
      "metadata": {
        "colab": {
          "base_uri": "https://localhost:8080/"
        },
        "id": "642fff91",
        "outputId": "a0e6a44a-1e4c-441a-a78a-b0e9d9ac784e"
      },
      "outputs": [
        {
          "output_type": "stream",
          "name": "stdout",
          "text": [
            "Found 100000 files belonging to 2 classes.\n",
            "Using 80000 files for training.\n",
            "Using 20000 files for validation.\n"
          ]
        },
        {
          "output_type": "execute_result",
          "data": {
            "text/plain": [
              "<_PrefetchDataset element_spec=(TensorSpec(shape=(None, 32, 32, 3), dtype=tf.float32, name=None), TensorSpec(shape=(None,), dtype=tf.int32, name=None))>"
            ]
          },
          "metadata": {},
          "execution_count": 11
        }
      ],
      "source": [
        "dataset_dir = \"C:/Users/Hannah/OneDrive/Documents/MIDS/207/Final_Project/mids_207_final_project/\"\n",
        "img_height = 32\n",
        "img_width = 32\n",
        "batch_size = 500\n",
        "train_ds_rf, val_ds_rf = tf.keras.utils.image_dataset_from_directory(\n",
        "  \"train\",\n",
        "  validation_split=0.2,\n",
        "  subset=\"both\",\n",
        "  seed = 512,\n",
        "  image_size = (img_height, img_width),\n",
        "  batch_size = 80000)\n",
        "train_ds_rf"
      ]
    },
    {
      "cell_type": "code",
      "execution_count": null,
      "id": "cd81315d",
      "metadata": {
        "id": "cd81315d"
      },
      "outputs": [],
      "source": []
    },
    {
      "cell_type": "code",
      "execution_count": 12,
      "id": "0aa5facc",
      "metadata": {
        "id": "0aa5facc"
      },
      "outputs": [],
      "source": [
        "# val_ds_rf = tf.keras.utils.image_dataset_from_directory(\n",
        "#   dataset_dir + \"train\",\n",
        "#   validation_split=0.2,\n",
        "#   subset=\"validation\",\n",
        "#   seed = 512,\n",
        "#   image_size = (img_height, img_width),\n",
        "#   batch_size = 20000)\n",
        "# val_ds_rf"
      ]
    },
    {
      "cell_type": "markdown",
      "id": "9bc71955",
      "metadata": {
        "id": "9bc71955"
      },
      "source": [
        "Converting Prefetched Datasets to numpy ndarrays to use in scikit-learn Random Forest Classifier"
      ]
    },
    {
      "cell_type": "code",
      "execution_count": 13,
      "id": "7d343abc",
      "metadata": {
        "id": "7d343abc"
      },
      "outputs": [],
      "source": [
        "rf_train_list = list(train_ds_rf)"
      ]
    },
    {
      "cell_type": "code",
      "execution_count": 14,
      "id": "2514dd97",
      "metadata": {
        "id": "2514dd97"
      },
      "outputs": [],
      "source": [
        "train_imgs = rf_train_list[0][0].numpy()\n",
        "train_labels = rf_train_list[0][1].numpy()"
      ]
    },
    {
      "cell_type": "code",
      "execution_count": 15,
      "id": "3e4bd839",
      "metadata": {
        "colab": {
          "base_uri": "https://localhost:8080/"
        },
        "id": "3e4bd839",
        "outputId": "b9c1496f-1522-4b5a-a709-8b248937a886"
      },
      "outputs": [
        {
          "output_type": "execute_result",
          "data": {
            "text/plain": [
              "(80000, 32, 32, 3)"
            ]
          },
          "metadata": {},
          "execution_count": 15
        }
      ],
      "source": [
        "norm_train_imgs = train_imgs/255.0\n",
        "norm_train_imgs.shape"
      ]
    },
    {
      "cell_type": "code",
      "execution_count": 16,
      "id": "3a4e4c6c",
      "metadata": {
        "id": "3a4e4c6c"
      },
      "outputs": [],
      "source": [
        "rf_val_list = list(val_ds_rf)\n",
        "val_imgs = rf_val_list[0][0].numpy()\n",
        "val_labels = rf_val_list[0][1].numpy()"
      ]
    },
    {
      "cell_type": "code",
      "execution_count": 17,
      "id": "a355dc30",
      "metadata": {
        "colab": {
          "base_uri": "https://localhost:8080/"
        },
        "id": "a355dc30",
        "outputId": "e30ba974-0c8c-453d-9862-32f444c5b3fe"
      },
      "outputs": [
        {
          "output_type": "execute_result",
          "data": {
            "text/plain": [
              "(20000, 32, 32, 3)"
            ]
          },
          "metadata": {},
          "execution_count": 17
        }
      ],
      "source": [
        "norm_val_imgs = val_imgs/255.0\n",
        "norm_val_imgs.shape"
      ]
    },
    {
      "cell_type": "code",
      "execution_count": 18,
      "id": "74e5047f",
      "metadata": {
        "colab": {
          "base_uri": "https://localhost:8080/"
        },
        "id": "74e5047f",
        "outputId": "a010cd7e-c2c1-431d-c837-95adcd0572f4"
      },
      "outputs": [
        {
          "output_type": "execute_result",
          "data": {
            "text/plain": [
              "(80000, 3072)"
            ]
          },
          "metadata": {},
          "execution_count": 18
        }
      ],
      "source": [
        "nsamples, nx, ny, nrgb = norm_train_imgs.shape\n",
        "norm_train_imgs2 = norm_train_imgs.reshape((nsamples,nx*ny*nrgb))\n",
        "norm_train_imgs2.shape"
      ]
    },
    {
      "cell_type": "code",
      "execution_count": 19,
      "id": "595bc06d",
      "metadata": {
        "colab": {
          "base_uri": "https://localhost:8080/"
        },
        "id": "595bc06d",
        "outputId": "4bd97369-47b2-43ba-ebb1-2e70f7ce12b1"
      },
      "outputs": [
        {
          "output_type": "execute_result",
          "data": {
            "text/plain": [
              "(20000, 3072)"
            ]
          },
          "metadata": {},
          "execution_count": 19
        }
      ],
      "source": [
        "nsamplesv, nxv, nyv, nrgbv = norm_val_imgs.shape\n",
        "norm_val_imgs2 = norm_val_imgs.reshape((nsamplesv,nxv*nyv*nrgbv))\n",
        "norm_val_imgs2.shape"
      ]
    },
    {
      "cell_type": "markdown",
      "id": "1bb74049",
      "metadata": {
        "id": "1bb74049"
      },
      "source": [
        "# EDA"
      ]
    },
    {
      "cell_type": "code",
      "execution_count": 20,
      "id": "abc2b620",
      "metadata": {
        "colab": {
          "base_uri": "https://localhost:8080/"
        },
        "id": "abc2b620",
        "outputId": "fc6f2b31-2401-4970-f718-84133c6d3162"
      },
      "outputs": [
        {
          "output_type": "execute_result",
          "data": {
            "text/plain": [
              "['FAKE', 'REAL']"
            ]
          },
          "metadata": {},
          "execution_count": 20
        }
      ],
      "source": [
        "classes = train_ds_rf.class_names\n",
        "classes"
      ]
    },
    {
      "cell_type": "code",
      "execution_count": 21,
      "id": "c3bbc59e",
      "metadata": {
        "id": "c3bbc59e"
      },
      "outputs": [],
      "source": [
        "train_wordlabels = [classes[i] for i in train_labels]"
      ]
    },
    {
      "cell_type": "code",
      "execution_count": 22,
      "id": "586d14d8",
      "metadata": {
        "id": "586d14d8",
        "colab": {
          "base_uri": "https://localhost:8080/"
        },
        "outputId": "d8939d56-bfe9-4cbe-f735-1d6c6d739bc4"
      },
      "outputs": [
        {
          "output_type": "execute_result",
          "data": {
            "text/plain": [
              "[39985, 40015]"
            ]
          },
          "metadata": {},
          "execution_count": 22
        }
      ],
      "source": [
        "label_counts = [train_wordlabels.count('REAL'),  train_wordlabels.count('FAKE')]\n",
        "label_counts"
      ]
    },
    {
      "cell_type": "code",
      "execution_count": 23,
      "id": "ab13164b",
      "metadata": {
        "id": "ab13164b",
        "colab": {
          "base_uri": "https://localhost:8080/",
          "height": 489
        },
        "outputId": "7ee19e08-17d8-4f1b-f0e3-9f3bc6d7e89e"
      },
      "outputs": [
        {
          "output_type": "execute_result",
          "data": {
            "text/plain": [
              "Text(0, 0.5, 'Count')"
            ]
          },
          "metadata": {},
          "execution_count": 23
        },
        {
          "output_type": "display_data",
          "data": {
            "text/plain": [
              "<Figure size 640x480 with 1 Axes>"
            ],
            "image/png": "[encoded data removed]"
          },
          "metadata": {}
        }
      ],
      "source": [
        "plt.bar(['REAL', 'FAKE'], label_counts)\n",
        "plt.title(\"Number of Images by Class\")\n",
        "plt.xlabel(\"Classes\")\n",
        "plt.ylabel(\"Count\")"
      ]
    },
    {
      "cell_type": "code",
      "execution_count": 24,
      "id": "10c57045",
      "metadata": {
        "id": "10c57045",
        "colab": {
          "base_uri": "https://localhost:8080/"
        },
        "outputId": "2f5b6875-0858-44fe-c1b9-d59a6c4c8478"
      },
      "outputs": [
        {
          "output_type": "execute_result",
          "data": {
            "text/plain": [
              "((39985, 32, 32, 3), (40015, 32, 32, 3))"
            ]
          },
          "metadata": {},
          "execution_count": 24
        }
      ],
      "source": [
        "real_imgs = train_imgs[train_labels == 1]\n",
        "fake_imgs = train_imgs[train_labels == 0]\n",
        "real_imgs.shape, fake_imgs.shape"
      ]
    },
    {
      "cell_type": "code",
      "execution_count": 25,
      "id": "ce03938a",
      "metadata": {
        "id": "ce03938a",
        "colab": {
          "base_uri": "https://localhost:8080/"
        },
        "outputId": "68f05225-d7cb-4cc7-c97e-698655df3802"
      },
      "outputs": [
        {
          "output_type": "execute_result",
          "data": {
            "text/plain": [
              "(40944640,)"
            ]
          },
          "metadata": {},
          "execution_count": 25
        }
      ],
      "source": [
        "realimg_R = real_imgs[:,:,:,0].flatten()\n",
        "realimg_G = real_imgs[:,:,:,1].flatten()\n",
        "realimg_B = real_imgs[:,:,:,2].flatten()\n",
        "realimg_R.shape"
      ]
    },
    {
      "cell_type": "code",
      "execution_count": 26,
      "id": "5b97b0a9",
      "metadata": {
        "id": "5b97b0a9",
        "colab": {
          "base_uri": "https://localhost:8080/"
        },
        "outputId": "4f639ed7-cc8e-41ab-8870-a47bd604fe10"
      },
      "outputs": [
        {
          "output_type": "execute_result",
          "data": {
            "text/plain": [
              "(40975360,)"
            ]
          },
          "metadata": {},
          "execution_count": 26
        }
      ],
      "source": [
        "fakeimg_R = fake_imgs[:,:,:,0].flatten()\n",
        "fakeimg_G = fake_imgs[:,:,:,1].flatten()\n",
        "fakeimg_B = fake_imgs[:,:,:,2].flatten()\n",
        "fakeimg_R.shape"
      ]
    },
    {
      "cell_type": "code",
      "execution_count": 27,
      "id": "4037b645",
      "metadata": {
        "id": "4037b645",
        "colab": {
          "base_uri": "https://localhost:8080/",
          "height": 565
        },
        "outputId": "5cc1bfa6-28c9-46bb-84c7-60087b3f8b6b"
      },
      "outputs": [
        {
          "output_type": "execute_result",
          "data": {
            "text/plain": [
              "[Text(0.5, 23.52222222222222, 'RGB Value'),\n",
              " Text(313.26767676767673, 0.5, 'Count'),\n",
              " Text(0.5, 1.0, 'Fake Images RGB')]"
            ]
          },
          "metadata": {},
          "execution_count": 27
        },
        {
          "output_type": "display_data",
          "data": {
            "text/plain": [
              "<Figure size 640x480 with 2 Axes>"
            ],
            "image/png": "[encoded data removed]"
          },
          "metadata": {}
        }
      ],
      "source": [
        "fig, (ax1, ax2) = plt.subplots(1, 2)\n",
        "fig.suptitle('Comparison')\n",
        "fig.tight_layout(pad=1.0)\n",
        "my_alpha=0.5\n",
        "ax1.hist(realimg_R, bins=25, color='red', alpha=my_alpha)\n",
        "ax1.hist(realimg_G, bins=25, color='green', alpha=my_alpha)\n",
        "ax1.hist(realimg_B, bins=25, color='blue', alpha=my_alpha)\n",
        "ax1.set(xlabel='RGB Value', ylabel='Count', title = \"Real Images RGB\")\n",
        "\n",
        "ax2.hist(fakeimg_R, bins=25, color='red', alpha=my_alpha)\n",
        "ax2.hist(fakeimg_G, bins=25, color='green', alpha=my_alpha)\n",
        "ax2.hist(fakeimg_B, bins=25, color='blue', alpha=my_alpha)\n",
        "ax2.set(xlabel='RGB Value', ylabel='Count', title = \"Fake Images RGB\")\n",
        "\n"
      ]
    },
    {
      "cell_type": "code",
      "execution_count": 28,
      "id": "32212251",
      "metadata": {
        "id": "32212251"
      },
      "outputs": [],
      "source": [
        "real_imgs_norm = real_imgs/255.0\n",
        "fake_imgs_norm = fake_imgs/255.0\n",
        "\n",
        "#Upper Left Pixel\n",
        "Rf_vals_real = real_imgs_norm[:,0,0,0]\n",
        "Gf_vals_real = real_imgs_norm[:,0,0,1]\n",
        "Bf_vals_real = real_imgs_norm[:,0,0,2]\n",
        "\n",
        "Rf_vals_fake = fake_imgs_norm[:,0,0,0]\n",
        "Gf_vals_fake = fake_imgs_norm[:,0,0,1]\n",
        "Bf_vals_fake = fake_imgs_norm[:,0,0,2]\n",
        "\n",
        "#Center pixel\n",
        "Rmid_vals_real = real_imgs_norm[:,16,16,0]\n",
        "Gmid_vals_real = real_imgs_norm[:,16,16,1]\n",
        "Bmid_vals_real = real_imgs_norm[:,16,16,2]\n",
        "\n",
        "Rmid_vals_fake = fake_imgs_norm[:,16,16,0]\n",
        "Gmid_vals_fake = fake_imgs_norm[:,16,16,1]\n",
        "Bmid_vals_fake = fake_imgs_norm[:,16,16,2]\n",
        "\n",
        "#Bottom Right Pixel\n",
        "Rl_vals_real = real_imgs_norm[:,31,31,0]\n",
        "Gl_vals_real = real_imgs_norm[:,31,31,1]\n",
        "Bl_vals_real = real_imgs_norm[:,31,31,2]\n",
        "\n",
        "Rl_vals_fake = fake_imgs_norm[:,31,31,0]\n",
        "Gl_vals_fake = fake_imgs_norm[:,31,31,1]\n",
        "Bl_vals_fake = fake_imgs_norm[:,31,31,2]"
      ]
    },
    {
      "cell_type": "code",
      "execution_count": 29,
      "id": "5a6b75f8",
      "metadata": {
        "id": "5a6b75f8",
        "colab": {
          "base_uri": "https://localhost:8080/",
          "height": 874
        },
        "outputId": "576e3845-cf27-4e6a-a62f-04e724ba9a63"
      },
      "outputs": [
        {
          "output_type": "display_data",
          "data": {
            "text/plain": [
              "<Figure size 1200x1200 with 6 Axes>"
            ],
            "image/png": "[encoded data removed]"
          },
          "metadata": {}
        }
      ],
      "source": [
        "fig, ((ax1, ax2), (ax3, ax4), (ax5, ax6)) = plt.subplots(3, 2, figsize=(12, 12))\n",
        "fig.suptitle('Pixel RGB Comparisons')\n",
        "fig.tight_layout(pad=1.0)\n",
        "\n",
        "data00 = [Rf_vals_real, Gf_vals_real, Bf_vals_real]\n",
        "data01 = [Rf_vals_fake, Gf_vals_fake, Bf_vals_fake]\n",
        "\n",
        "data10 = [Rmid_vals_real, Gmid_vals_real, Bmid_vals_real]\n",
        "data11 = [Rmid_vals_fake, Gmid_vals_fake, Bmid_vals_fake]\n",
        "\n",
        "data20 = [Rl_vals_real, Gl_vals_real, Bl_vals_real]\n",
        "data21 = [Rl_vals_fake, Gl_vals_fake, Bl_vals_fake]\n",
        "\n",
        "bplot00 = ax1.boxplot(data00, patch_artist=True)\n",
        "ax1.set(title = \"Top Left Pixel - Real\")\n",
        "ax1.set_xticklabels(['R', 'G', 'B'])\n",
        "bplot01 = ax2.boxplot(data01, patch_artist=True)\n",
        "ax2.set(title = \"Top Left Pixel - Fake\")\n",
        "ax2.set_xticklabels(['R', 'G', 'B'])\n",
        "\n",
        "\n",
        "bplot10 = ax3.boxplot(data10, patch_artist=True)\n",
        "ax3.set(title = \"Center Pixel - Real\")\n",
        "ax3.set_xticklabels(['R', 'G', 'B'])\n",
        "bplot11 = ax4.boxplot(data11, patch_artist=True)\n",
        "ax4.set(title = \"Center Pixel - Fake\")\n",
        "ax4.set_xticklabels(['R', 'G', 'B'])\n",
        "\n",
        "bplot20 = ax5.boxplot(data20, patch_artist=True)\n",
        "ax5.set(title = \"Bottom Right Pixel - Real\")\n",
        "ax5.set_xticklabels(['R', 'G', 'B'])\n",
        "bplot21 = ax6.boxplot(data21, patch_artist=True)\n",
        "ax6.set(title = \"Bottom Right Pixel - Fake\")\n",
        "ax6.set_xticklabels(['R', 'G', 'B'])\n",
        "\n",
        "\n",
        "colors = ['red', 'green', 'blue']\n",
        "for bplot in (bplot00, bplot01, bplot10, bplot11, bplot20, bplot21):\n",
        "    for patch, color in zip(bplot['boxes'], colors):\n",
        "        patch.set_facecolor(color)\n",
        "\n",
        "plt.show()"
      ]
    },
    {
      "cell_type": "code",
      "execution_count": 29,
      "id": "74b5ea26",
      "metadata": {
        "id": "74b5ea26"
      },
      "outputs": [],
      "source": []
    },
    {
      "cell_type": "markdown",
      "id": "3977bc6b",
      "metadata": {
        "id": "3977bc6b"
      },
      "source": [
        "# Random Forest"
      ]
    },
    {
      "cell_type": "code",
      "execution_count": 31,
      "id": "c76a9ff0",
      "metadata": {
        "colab": {
          "base_uri": "https://localhost:8080/"
        },
        "id": "c76a9ff0",
        "outputId": "b77de8fa-b7c9-4db1-8656-c387f3dacad6"
      },
      "outputs": [
        {
          "output_type": "stream",
          "name": "stdout",
          "text": [
            "              precision    recall  f1-score   support\n",
            "\n",
            "           0       0.87      0.81      0.84     10612\n",
            "           1       0.80      0.86      0.83      9388\n",
            "\n",
            "    accuracy                           0.83     20000\n",
            "   macro avg       0.83      0.84      0.83     20000\n",
            "weighted avg       0.84      0.83      0.83     20000\n",
            "\n"
          ]
        }
      ],
      "source": [
        "from sklearn.ensemble import RandomForestClassifier\n",
        "from sklearn.metrics import accuracy_score,confusion_matrix,classification_report\n",
        "\n",
        "rfmodel = RandomForestClassifier(random_state = 42)\n",
        "rfmodel.fit(norm_train_imgs2, train_labels)\n",
        "\n",
        "y_pred = rfmodel.predict(norm_val_imgs2)\n",
        "\n",
        "accuracy_score(y_pred, val_labels)\n",
        "print(classification_report(y_pred, val_labels))"
      ]
    },
    {
      "cell_type": "code",
      "execution_count": 32,
      "id": "a90cfec7",
      "metadata": {
        "colab": {
          "base_uri": "https://localhost:8080/"
        },
        "id": "a90cfec7",
        "outputId": "751483f6-9978-4833-e8fb-cc82eca1685e"
      },
      "outputs": [
        {
          "output_type": "execute_result",
          "data": {
            "text/plain": [
              "0.83415"
            ]
          },
          "metadata": {},
          "execution_count": 32
        }
      ],
      "source": [
        "accuracy_score(y_pred, val_labels)"
      ]
    },
    {
      "cell_type": "code",
      "execution_count": 33,
      "id": "5a710d00",
      "metadata": {
        "colab": {
          "base_uri": "https://localhost:8080/",
          "height": 449
        },
        "id": "5a710d00",
        "outputId": "cc11b73e-6b2a-4d41-ecd1-b072cf375010"
      },
      "outputs": [
        {
          "output_type": "display_data",
          "data": {
            "text/plain": [
              "<Figure size 640x480 with 1 Axes>"
            ],
            "image/png": "[encoded data removed]"
          },
          "metadata": {}
        }
      ],
      "source": [
        "import seaborn as sns\n",
        "ax = sns.heatmap(confusion_matrix(val_labels, y_pred), annot=True, fmt='.0f', cmap='Blues', xticklabels=classes, yticklabels=classes,\n",
        "                  cbar=False)\n",
        "ax.set(xlabel='Predicted Label', ylabel='True Label')\n",
        "plt.show()"
      ]
    },
    {
      "cell_type": "code",
      "execution_count": 34,
      "id": "d83d39e2",
      "metadata": {
        "colab": {
          "base_uri": "https://localhost:8080/"
        },
        "id": "d83d39e2",
        "outputId": "fb8a2fb6-7b14-415f-a7c8-e23d14e2ac99"
      },
      "outputs": [
        {
          "output_type": "stream",
          "name": "stdout",
          "text": [
            "{'n_estimators': [50, 100, 150], 'max_features': ['sqrt', 'log2'], 'max_depth': [None, 10, 20]}\n"
          ]
        }
      ],
      "source": [
        "from sklearn.model_selection import RandomizedSearchCV\n",
        "# Number of trees in random forest\n",
        "n_estimators = [50, 100, 150]\n",
        "# Number of features to consider at every split\n",
        "max_features = ['sqrt', 'log2']\n",
        "# Maximum number of levels in tree\n",
        "max_depth = [None, 10, 20]\n",
        "# Create the random grid\n",
        "random_grid = {'n_estimators': n_estimators,\n",
        "               'max_features': max_features,\n",
        "               'max_depth': max_depth\n",
        "               }\n",
        "print(random_grid)"
      ]
    },
    {
      "cell_type": "code",
      "execution_count": 35,
      "id": "b821f4e4",
      "metadata": {
        "colab": {
          "base_uri": "https://localhost:8080/",
          "height": 258
        },
        "id": "b821f4e4",
        "outputId": "888135a4-bfca-401e-c469-97e62386e3e5"
      },
      "outputs": [
        {
          "output_type": "stream",
          "name": "stdout",
          "text": [
            "Fitting 3 folds for each of 18 candidates, totalling 54 fits\n"
          ]
        },
        {
          "output_type": "stream",
          "name": "stderr",
          "text": [
            "/usr/local/lib/python3.10/dist-packages/joblib/externals/loky/backend/fork_exec.py:38: RuntimeWarning: os.fork() was called. os.fork() is incompatible with multithreaded code, and JAX is multithreaded, so this will likely lead to a deadlock.\n",
            "  pid = os.fork()\n",
            "/usr/local/lib/python3.10/dist-packages/sklearn/model_selection/_search.py:305: UserWarning: The total space of parameters 18 is smaller than n_iter=100. Running 18 iterations. For exhaustive searches, use GridSearchCV.\n",
            "  warnings.warn(\n",
            "/usr/local/lib/python3.10/dist-packages/joblib/externals/loky/backend/fork_exec.py:38: RuntimeWarning: os.fork() was called. os.fork() is incompatible with multithreaded code, and JAX is multithreaded, so this will likely lead to a deadlock.\n",
            "  pid = os.fork()\n"
          ]
        },
        {
          "output_type": "execute_result",
          "data": {
            "text/plain": [
              "RandomizedSearchCV(cv=3, estimator=RandomForestClassifier(random_state=42),\n",
              "                   n_iter=100, n_jobs=-1,\n",
              "                   param_distributions={'max_depth': [None, 10, 20],\n",
              "                                        'max_features': ['sqrt', 'log2'],\n",
              "                                        'n_estimators': [50, 100, 150]},\n",
              "                   random_state=42, verbose=3)"
            ],
            "text/html": [
              "<style>#sk-container-id-1 {color: black;background-color: white;}#sk-container-id-1 pre{padding: 0;}#sk-container-id-1 div.sk-toggleable {background-color: white;}#sk-container-id-1 label.sk-toggleable__label {cursor: pointer;display: block;width: 100%;margin-bottom: 0;padding: 0.3em;box-sizing: border-box;text-align: center;}#sk-container-id-1 label.sk-toggleable__label-arrow:before {content: \"▸\";float: left;margin-right: 0.25em;color: #696969;}#sk-container-id-1 label.sk-toggleable__label-arrow:hover:before {color: black;}#sk-container-id-1 div.sk-estimator:hover label.sk-toggleable__label-arrow:before {color: black;}#sk-container-id-1 div.sk-toggleable__content {max-height: 0;max-width: 0;overflow: hidden;text-align: left;background-color: #f0f8ff;}#sk-container-id-1 div.sk-toggleable__content pre {margin: 0.2em;color: black;border-radius: 0.25em;background-color: #f0f8ff;}#sk-container-id-1 input.sk-toggleable__control:checked~div.sk-toggleable__content {max-height: 200px;max-width: 100%;overflow: auto;}#sk-container-id-1 input.sk-toggleable__control:checked~label.sk-toggleable__label-arrow:before {content: \"▾\";}#sk-container-id-1 div.sk-estimator input.sk-toggleable__control:checked~label.sk-toggleable__label {background-color: #d4ebff;}#sk-container-id-1 div.sk-label input.sk-toggleable__control:checked~label.sk-toggleable__label {background-color: #d4ebff;}#sk-container-id-1 input.sk-hidden--visually {border: 0;clip: rect(1px 1px 1px 1px);clip: rect(1px, 1px, 1px, 1px);height: 1px;margin: -1px;overflow: hidden;padding: 0;position: absolute;width: 1px;}#sk-container-id-1 div.sk-estimator {font-family: monospace;background-color: #f0f8ff;border: 1px dotted black;border-radius: 0.25em;box-sizing: border-box;margin-bottom: 0.5em;}#sk-container-id-1 div.sk-estimator:hover {background-color: #d4ebff;}#sk-container-id-1 div.sk-parallel-item::after {content: \"\";width: 100%;border-bottom: 1px solid gray;flex-grow: 1;}#sk-container-id-1 div.sk-label:hover label.sk-toggleable__label {background-color: #d4ebff;}#sk-container-id-1 div.sk-serial::before {content: \"\";position: absolute;border-left: 1px solid gray;box-sizing: border-box;top: 0;bottom: 0;left: 50%;z-index: 0;}#sk-container-id-1 div.sk-serial {display: flex;flex-direction: column;align-items: center;background-color: white;padding-right: 0.2em;padding-left: 0.2em;position: relative;}#sk-container-id-1 div.sk-item {position: relative;z-index: 1;}#sk-container-id-1 div.sk-parallel {display: flex;align-items: stretch;justify-content: center;background-color: white;position: relative;}#sk-container-id-1 div.sk-item::before, #sk-container-id-1 div.sk-parallel-item::before {content: \"\";position: absolute;border-left: 1px solid gray;box-sizing: border-box;top: 0;bottom: 0;left: 50%;z-index: -1;}#sk-container-id-1 div.sk-parallel-item {display: flex;flex-direction: column;z-index: 1;position: relative;background-color: white;}#sk-container-id-1 div.sk-parallel-item:first-child::after {align-self: flex-end;width: 50%;}#sk-container-id-1 div.sk-parallel-item:last-child::after {align-self: flex-start;width: 50%;}#sk-container-id-1 div.sk-parallel-item:only-child::after {width: 0;}#sk-container-id-1 div.sk-dashed-wrapped {border: 1px dashed gray;margin: 0 0.4em 0.5em 0.4em;box-sizing: border-box;padding-bottom: 0.4em;background-color: white;}#sk-container-id-1 div.sk-label label {font-family: monospace;font-weight: bold;display: inline-block;line-height: 1.2em;}#sk-container-id-1 div.sk-label-container {text-align: center;}#sk-container-id-1 div.sk-container {/* jupyter's `normalize.less` sets `[hidden] { display: none; }` but bootstrap.min.css set `[hidden] { display: none !important; }` so we also need the `!important` here to be able to override the default hidden behavior on the sphinx rendered scikit-learn.org. See: https://github.com/scikit-learn/scikit-learn/issues/21755 */display: inline-block !important;position: relative;}#sk-container-id-1 div.sk-text-repr-fallback {display: none;}</style><div id=\"sk-container-id-1\" class=\"sk-top-container\"><div class=\"sk-text-repr-fallback\"><pre>RandomizedSearchCV(cv=3, estimator=RandomForestClassifier(random_state=42),\n",
              "                   n_iter=100, n_jobs=-1,\n",
              "                   param_distributions={&#x27;max_depth&#x27;: [None, 10, 20],\n",
              "                                        &#x27;max_features&#x27;: [&#x27;sqrt&#x27;, &#x27;log2&#x27;],\n",
              "                                        &#x27;n_estimators&#x27;: [50, 100, 150]},\n",
              "                   random_state=42, verbose=3)</pre><b>In a Jupyter environment, please rerun this cell to show the HTML representation or trust the notebook. <br />On GitHub, the HTML representation is unable to render, please try loading this page with nbviewer.org.</b></div><div class=\"sk-container\" hidden><div class=\"sk-item sk-dashed-wrapped\"><div class=\"sk-label-container\"><div class=\"sk-label sk-toggleable\"><input class=\"sk-toggleable__control sk-hidden--visually\" id=\"sk-estimator-id-1\" type=\"checkbox\" ><label for=\"sk-estimator-id-1\" class=\"sk-toggleable__label sk-toggleable__label-arrow\">RandomizedSearchCV</label><div class=\"sk-toggleable__content\"><pre>RandomizedSearchCV(cv=3, estimator=RandomForestClassifier(random_state=42),\n",
              "                   n_iter=100, n_jobs=-1,\n",
              "                   param_distributions={&#x27;max_depth&#x27;: [None, 10, 20],\n",
              "                                        &#x27;max_features&#x27;: [&#x27;sqrt&#x27;, &#x27;log2&#x27;],\n",
              "                                        &#x27;n_estimators&#x27;: [50, 100, 150]},\n",
              "                   random_state=42, verbose=3)</pre></div></div></div><div class=\"sk-parallel\"><div class=\"sk-parallel-item\"><div class=\"sk-item\"><div class=\"sk-label-container\"><div class=\"sk-label sk-toggleable\"><input class=\"sk-toggleable__control sk-hidden--visually\" id=\"sk-estimator-id-2\" type=\"checkbox\" ><label for=\"sk-estimator-id-2\" class=\"sk-toggleable__label sk-toggleable__label-arrow\">estimator: RandomForestClassifier</label><div class=\"sk-toggleable__content\"><pre>RandomForestClassifier(random_state=42)</pre></div></div></div><div class=\"sk-serial\"><div class=\"sk-item\"><div class=\"sk-estimator sk-toggleable\"><input class=\"sk-toggleable__control sk-hidden--visually\" id=\"sk-estimator-id-3\" type=\"checkbox\" ><label for=\"sk-estimator-id-3\" class=\"sk-toggleable__label sk-toggleable__label-arrow\">RandomForestClassifier</label><div class=\"sk-toggleable__content\"><pre>RandomForestClassifier(random_state=42)</pre></div></div></div></div></div></div></div></div></div></div>"
            ]
          },
          "metadata": {},
          "execution_count": 35
        }
      ],
      "source": [
        "rf_tune = RandomForestClassifier(random_state = 42)\n",
        "rf_random = RandomizedSearchCV(estimator = rf_tune, param_distributions = random_grid, n_iter = 100, cv = 3, verbose=3, random_state=42, n_jobs = -1)\n",
        "# Fit the random search model\n",
        "rf_random.fit(norm_train_imgs2, train_labels)"
      ]
    },
    {
      "cell_type": "code",
      "execution_count": 36,
      "id": "24b088c2",
      "metadata": {
        "id": "24b088c2",
        "colab": {
          "base_uri": "https://localhost:8080/"
        },
        "outputId": "0fc5013a-6f80-44fb-c093-e0f8e7a91134"
      },
      "outputs": [
        {
          "output_type": "execute_result",
          "data": {
            "text/plain": [
              "{'n_estimators': 150, 'max_features': 'sqrt', 'max_depth': None}"
            ]
          },
          "metadata": {},
          "execution_count": 36
        }
      ],
      "source": [
        "bp = rf_random.best_params_\n",
        "bp"
      ]
    },
    {
      "cell_type": "code",
      "execution_count": 37,
      "id": "0941bd8f",
      "metadata": {
        "id": "0941bd8f"
      },
      "outputs": [],
      "source": [
        "best_randomforest = rf_random.best_estimator_"
      ]
    },
    {
      "cell_type": "code",
      "execution_count": 38,
      "id": "c2499c91",
      "metadata": {
        "id": "c2499c91",
        "colab": {
          "base_uri": "https://localhost:8080/",
          "height": 74
        },
        "outputId": "bbd7708d-d7ca-4554-a84d-0a482197ccca"
      },
      "outputs": [
        {
          "output_type": "execute_result",
          "data": {
            "text/plain": [
              "RandomForestClassifier(n_estimators=150, random_state=42)"
            ],
            "text/html": [
              "<style>#sk-container-id-2 {color: black;background-color: white;}#sk-container-id-2 pre{padding: 0;}#sk-container-id-2 div.sk-toggleable {background-color: white;}#sk-container-id-2 label.sk-toggleable__label {cursor: pointer;display: block;width: 100%;margin-bottom: 0;padding: 0.3em;box-sizing: border-box;text-align: center;}#sk-container-id-2 label.sk-toggleable__label-arrow:before {content: \"▸\";float: left;margin-right: 0.25em;color: #696969;}#sk-container-id-2 label.sk-toggleable__label-arrow:hover:before {color: black;}#sk-container-id-2 div.sk-estimator:hover label.sk-toggleable__label-arrow:before {color: black;}#sk-container-id-2 div.sk-toggleable__content {max-height: 0;max-width: 0;overflow: hidden;text-align: left;background-color: #f0f8ff;}#sk-container-id-2 div.sk-toggleable__content pre {margin: 0.2em;color: black;border-radius: 0.25em;background-color: #f0f8ff;}#sk-container-id-2 input.sk-toggleable__control:checked~div.sk-toggleable__content {max-height: 200px;max-width: 100%;overflow: auto;}#sk-container-id-2 input.sk-toggleable__control:checked~label.sk-toggleable__label-arrow:before {content: \"▾\";}#sk-container-id-2 div.sk-estimator input.sk-toggleable__control:checked~label.sk-toggleable__label {background-color: #d4ebff;}#sk-container-id-2 div.sk-label input.sk-toggleable__control:checked~label.sk-toggleable__label {background-color: #d4ebff;}#sk-container-id-2 input.sk-hidden--visually {border: 0;clip: rect(1px 1px 1px 1px);clip: rect(1px, 1px, 1px, 1px);height: 1px;margin: -1px;overflow: hidden;padding: 0;position: absolute;width: 1px;}#sk-container-id-2 div.sk-estimator {font-family: monospace;background-color: #f0f8ff;border: 1px dotted black;border-radius: 0.25em;box-sizing: border-box;margin-bottom: 0.5em;}#sk-container-id-2 div.sk-estimator:hover {background-color: #d4ebff;}#sk-container-id-2 div.sk-parallel-item::after {content: \"\";width: 100%;border-bottom: 1px solid gray;flex-grow: 1;}#sk-container-id-2 div.sk-label:hover label.sk-toggleable__label {background-color: #d4ebff;}#sk-container-id-2 div.sk-serial::before {content: \"\";position: absolute;border-left: 1px solid gray;box-sizing: border-box;top: 0;bottom: 0;left: 50%;z-index: 0;}#sk-container-id-2 div.sk-serial {display: flex;flex-direction: column;align-items: center;background-color: white;padding-right: 0.2em;padding-left: 0.2em;position: relative;}#sk-container-id-2 div.sk-item {position: relative;z-index: 1;}#sk-container-id-2 div.sk-parallel {display: flex;align-items: stretch;justify-content: center;background-color: white;position: relative;}#sk-container-id-2 div.sk-item::before, #sk-container-id-2 div.sk-parallel-item::before {content: \"\";position: absolute;border-left: 1px solid gray;box-sizing: border-box;top: 0;bottom: 0;left: 50%;z-index: -1;}#sk-container-id-2 div.sk-parallel-item {display: flex;flex-direction: column;z-index: 1;position: relative;background-color: white;}#sk-container-id-2 div.sk-parallel-item:first-child::after {align-self: flex-end;width: 50%;}#sk-container-id-2 div.sk-parallel-item:last-child::after {align-self: flex-start;width: 50%;}#sk-container-id-2 div.sk-parallel-item:only-child::after {width: 0;}#sk-container-id-2 div.sk-dashed-wrapped {border: 1px dashed gray;margin: 0 0.4em 0.5em 0.4em;box-sizing: border-box;padding-bottom: 0.4em;background-color: white;}#sk-container-id-2 div.sk-label label {font-family: monospace;font-weight: bold;display: inline-block;line-height: 1.2em;}#sk-container-id-2 div.sk-label-container {text-align: center;}#sk-container-id-2 div.sk-container {/* jupyter's `normalize.less` sets `[hidden] { display: none; }` but bootstrap.min.css set `[hidden] { display: none !important; }` so we also need the `!important` here to be able to override the default hidden behavior on the sphinx rendered scikit-learn.org. See: https://github.com/scikit-learn/scikit-learn/issues/21755 */display: inline-block !important;position: relative;}#sk-container-id-2 div.sk-text-repr-fallback {display: none;}</style><div id=\"sk-container-id-2\" class=\"sk-top-container\"><div class=\"sk-text-repr-fallback\"><pre>RandomForestClassifier(n_estimators=150, random_state=42)</pre><b>In a Jupyter environment, please rerun this cell to show the HTML representation or trust the notebook. <br />On GitHub, the HTML representation is unable to render, please try loading this page with nbviewer.org.</b></div><div class=\"sk-container\" hidden><div class=\"sk-item\"><div class=\"sk-estimator sk-toggleable\"><input class=\"sk-toggleable__control sk-hidden--visually\" id=\"sk-estimator-id-4\" type=\"checkbox\" checked><label for=\"sk-estimator-id-4\" class=\"sk-toggleable__label sk-toggleable__label-arrow\">RandomForestClassifier</label><div class=\"sk-toggleable__content\"><pre>RandomForestClassifier(n_estimators=150, random_state=42)</pre></div></div></div></div></div>"
            ]
          },
          "metadata": {},
          "execution_count": 38
        }
      ],
      "source": [
        "best_randomforest"
      ]
    },
    {
      "cell_type": "code",
      "execution_count": 39,
      "id": "e04a515a",
      "metadata": {
        "id": "e04a515a"
      },
      "outputs": [],
      "source": [
        "y_predbest = best_randomforest.predict(norm_val_imgs2)"
      ]
    },
    {
      "cell_type": "code",
      "execution_count": 40,
      "id": "5ef9b00c",
      "metadata": {
        "id": "5ef9b00c",
        "colab": {
          "base_uri": "https://localhost:8080/"
        },
        "outputId": "90bdab5b-2055-4ce6-f897-fe3842072373"
      },
      "outputs": [
        {
          "output_type": "execute_result",
          "data": {
            "text/plain": [
              "0.84005"
            ]
          },
          "metadata": {},
          "execution_count": 40
        }
      ],
      "source": [
        "accuracy_score(y_predbest, val_labels)"
      ]
    },
    {
      "cell_type": "code",
      "execution_count": 41,
      "id": "c22feb71",
      "metadata": {
        "id": "c22feb71",
        "colab": {
          "base_uri": "https://localhost:8080/"
        },
        "outputId": "da1aa409-133c-4a02-9f0a-88ce6dea87cc"
      },
      "outputs": [
        {
          "output_type": "stream",
          "name": "stdout",
          "text": [
            "              precision    recall  f1-score   support\n",
            "\n",
            "           0       0.87      0.82      0.84     10578\n",
            "           1       0.81      0.86      0.84      9422\n",
            "\n",
            "    accuracy                           0.84     20000\n",
            "   macro avg       0.84      0.84      0.84     20000\n",
            "weighted avg       0.84      0.84      0.84     20000\n",
            "\n"
          ]
        }
      ],
      "source": [
        "print(classification_report(y_predbest, val_labels))"
      ]
    },
    {
      "cell_type": "code",
      "execution_count": 42,
      "id": "ca34748e",
      "metadata": {
        "id": "ca34748e",
        "colab": {
          "base_uri": "https://localhost:8080/"
        },
        "outputId": "b6751280-9906-4138-df2f-04c4cb93b9e1"
      },
      "outputs": [
        {
          "output_type": "execute_result",
          "data": {
            "text/plain": [
              "array([[8682, 1303],\n",
              "       [1896, 8119]])"
            ]
          },
          "metadata": {},
          "execution_count": 42
        }
      ],
      "source": [
        "confusion_matrix(val_labels, y_predbest)"
      ]
    },
    {
      "cell_type": "code",
      "execution_count": 43,
      "id": "831f7e22",
      "metadata": {
        "id": "831f7e22",
        "colab": {
          "base_uri": "https://localhost:8080/",
          "height": 449
        },
        "outputId": "934a14ce-ce6f-4c01-8ac8-c6d3841ccb06"
      },
      "outputs": [
        {
          "output_type": "display_data",
          "data": {
            "text/plain": [
              "<Figure size 640x480 with 1 Axes>"
            ],
            "image/png": "[encoded data removed]"
          },
          "metadata": {}
        }
      ],
      "source": [
        "import seaborn as sns\n",
        "ax = sns.heatmap(confusion_matrix(val_labels, y_predbest), annot=True, fmt='.0f', cmap='Blues', xticklabels=classes, yticklabels=classes,\n",
        "                  cbar=False)\n",
        "ax.set(xlabel='Predicted Label', ylabel='True Label')\n",
        "plt.show()"
      ]
    },
    {
      "cell_type": "code",
      "execution_count": 44,
      "id": "3eb6ab2f",
      "metadata": {
        "id": "3eb6ab2f",
        "colab": {
          "base_uri": "https://localhost:8080/"
        },
        "outputId": "032dcd70-a3f6-4d7c-8053-6639fdd6ef31"
      },
      "outputs": [
        {
          "output_type": "stream",
          "name": "stdout",
          "text": [
            "Found 20000 files belonging to 2 classes.\n"
          ]
        },
        {
          "output_type": "execute_result",
          "data": {
            "text/plain": [
              "<_PrefetchDataset element_spec=(TensorSpec(shape=(None, 32, 32, 3), dtype=tf.float32, name=None), TensorSpec(shape=(None,), dtype=tf.int32, name=None))>"
            ]
          },
          "metadata": {},
          "execution_count": 44
        }
      ],
      "source": [
        "test_ds_rf = tf.keras.utils.image_dataset_from_directory(\n",
        "  \"test\",\n",
        "  seed = 512,\n",
        "  image_size = (img_height, img_width),\n",
        "  batch_size = 20000)\n",
        "test_ds_rf"
      ]
    },
    {
      "cell_type": "code",
      "execution_count": 45,
      "id": "b414a74a",
      "metadata": {
        "id": "b414a74a"
      },
      "outputs": [],
      "source": [
        "rf_test_list = list(test_ds_rf)\n",
        "test_imgs = rf_test_list[0][0].numpy()\n",
        "test_labels = rf_test_list[0][1].numpy()"
      ]
    },
    {
      "cell_type": "code",
      "execution_count": 46,
      "id": "8e29cc63",
      "metadata": {
        "id": "8e29cc63",
        "colab": {
          "base_uri": "https://localhost:8080/"
        },
        "outputId": "26967fdc-f813-444a-b7af-9938d3189d9e"
      },
      "outputs": [
        {
          "output_type": "execute_result",
          "data": {
            "text/plain": [
              "(20000, 3072)"
            ]
          },
          "metadata": {},
          "execution_count": 46
        }
      ],
      "source": [
        "norm_test_imgs = test_imgs/255.0\n",
        "testsamples, testx, testy, testrgb = norm_test_imgs.shape\n",
        "norm_test_imgs2 = norm_test_imgs.reshape((testsamples,testx*testy*testrgb))\n",
        "norm_test_imgs2.shape"
      ]
    },
    {
      "cell_type": "code",
      "execution_count": 47,
      "id": "48ba8d96",
      "metadata": {
        "id": "48ba8d96"
      },
      "outputs": [],
      "source": [
        "final_y_pred = best_randomforest.predict(norm_test_imgs2)"
      ]
    },
    {
      "cell_type": "code",
      "execution_count": 48,
      "id": "ef4929e4",
      "metadata": {
        "id": "ef4929e4",
        "colab": {
          "base_uri": "https://localhost:8080/"
        },
        "outputId": "25c34616-da42-469e-ce75-f95f26222148"
      },
      "outputs": [
        {
          "output_type": "execute_result",
          "data": {
            "text/plain": [
              "0.8362"
            ]
          },
          "metadata": {},
          "execution_count": 48
        }
      ],
      "source": [
        "accuracy_score(final_y_pred, test_labels)"
      ]
    },
    {
      "cell_type": "code",
      "execution_count": 49,
      "id": "22acd91c",
      "metadata": {
        "id": "22acd91c",
        "colab": {
          "base_uri": "https://localhost:8080/"
        },
        "outputId": "4fc576a8-823f-4778-950b-c51a02a28ae4"
      },
      "outputs": [
        {
          "output_type": "stream",
          "name": "stdout",
          "text": [
            "              precision    recall  f1-score   support\n",
            "\n",
            "           0       0.87      0.81      0.84     10732\n",
            "           1       0.80      0.86      0.83      9268\n",
            "\n",
            "    accuracy                           0.84     20000\n",
            "   macro avg       0.84      0.84      0.84     20000\n",
            "weighted avg       0.84      0.84      0.84     20000\n",
            "\n"
          ]
        }
      ],
      "source": [
        "print(classification_report(final_y_pred, test_labels))"
      ]
    },
    {
      "cell_type": "code",
      "execution_count": 50,
      "id": "3f410d77",
      "metadata": {
        "id": "3f410d77",
        "colab": {
          "base_uri": "https://localhost:8080/",
          "height": 449
        },
        "outputId": "bb19bc7c-f9ee-43de-8049-113083af76b0"
      },
      "outputs": [
        {
          "output_type": "display_data",
          "data": {
            "text/plain": [
              "<Figure size 640x480 with 1 Axes>"
            ],
            "image/png": "[encoded data removed]"
          },
          "metadata": {}
        }
      ],
      "source": [
        "ax = sns.heatmap(confusion_matrix(test_labels, final_y_pred), annot=True, fmt='.0f', cmap='Blues', xticklabels=classes, yticklabels=classes,\n",
        "                  cbar=False)\n",
        "ax.set(xlabel='Predicted Label', ylabel='True Label')\n",
        "plt.show()"
      ]
    },
    {
      "cell_type": "code",
      "source": [
        "train_y_pred = best_randomforest.predict(norm_train_imgs2)"
      ],
      "metadata": {
        "id": "RAOLLAXqZN8_"
      },
      "id": "RAOLLAXqZN8_",
      "execution_count": 51,
      "outputs": []
    },
    {
      "cell_type": "code",
      "source": [
        "accuracy_score(train_y_pred, train_labels)"
      ],
      "metadata": {
        "id": "-Ba4f4xVZaio",
        "colab": {
          "base_uri": "https://localhost:8080/"
        },
        "outputId": "3c1f9cc5-feb8-4aa2-c04e-3e48e8737c50"
      },
      "id": "-Ba4f4xVZaio",
      "execution_count": 52,
      "outputs": [
        {
          "output_type": "execute_result",
          "data": {
            "text/plain": [
              "1.0"
            ]
          },
          "metadata": {},
          "execution_count": 52
        }
      ]
    },
    {
      "cell_type": "code",
      "source": [
        "print(classification_report(train_y_pred, train_labels))"
      ],
      "metadata": {
        "colab": {
          "base_uri": "https://localhost:8080/"
        },
        "id": "149TuTOY134k",
        "outputId": "bf4bb99a-700c-4154-da02-7649e7cbe3ce"
      },
      "id": "149TuTOY134k",
      "execution_count": 54,
      "outputs": [
        {
          "output_type": "stream",
          "name": "stdout",
          "text": [
            "              precision    recall  f1-score   support\n",
            "\n",
            "           0       1.00      1.00      1.00     40015\n",
            "           1       1.00      1.00      1.00     39985\n",
            "\n",
            "    accuracy                           1.00     80000\n",
            "   macro avg       1.00      1.00      1.00     80000\n",
            "weighted avg       1.00      1.00      1.00     80000\n",
            "\n"
          ]
        }
      ]
    }
  ],
  "metadata": {
    "kernelspec": {
      "display_name": "Python 3",
      "name": "python3"
    },
    "language_info": {
      "codemirror_mode": {
        "name": "ipython",
        "version": 3
      },
      "file_extension": ".py",
      "mimetype": "text/x-python",
      "name": "python",
      "nbconvert_exporter": "python",
      "pygments_lexer": "ipython3",
      "version": "3.11.7"
    },
    "colab": {
      "provenance": [],
      "gpuType": "V100",
      "machine_shape": "hm"
    },
    "accelerator": "GPU"
  },
  "nbformat": 4,
  "nbformat_minor": 5
}