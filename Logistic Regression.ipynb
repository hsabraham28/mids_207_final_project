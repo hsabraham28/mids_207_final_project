{
 "cells": [
  {
   "cell_type": "code",
   "execution_count": 1,
   "metadata": {
    "executionInfo": {
     "elapsed": 326,
     "status": "ok",
     "timestamp": 1709231119168,
     "user": {
      "displayName": "Jasmine Zhang",
      "userId": "06344520663330274377"
     },
     "user_tz": 480
    },
    "id": "elgCepU8IaaO",
    "tags": []
   },
   "outputs": [],
   "source": [
    "import matplotlib.pyplot as plt\n",
    "import numpy as np\n",
    "import pandas as pd\n",
    "import tensorflow as tf\n",
    "import os\n",
    "import seaborn as sns\n",
    "from tensorflow import keras\n",
    "from keras import layers\n",
    "from keras.models import Sequential\n",
    "from keras import metrics\n",
    "from sklearn.metrics import ConfusionMatrixDisplay"
   ]
  },
  {
   "cell_type": "code",
   "execution_count": 2,
   "metadata": {
    "colab": {
     "base_uri": "https://localhost:8080/"
    },
    "executionInfo": {
     "elapsed": 210999,
     "status": "ok",
     "timestamp": 1709225110655,
     "user": {
      "displayName": "Jasmine Zhang",
      "userId": "06344520663330274377"
     },
     "user_tz": 480
    },
    "id": "R6JsnIwNIi1E",
    "outputId": "1092d247-5643-4782-faf1-be3dbdc61781"
   },
   "outputs": [
    {
     "name": "stdout",
     "output_type": "stream",
     "text": [
      "Found 100000 files belonging to 2 classes.\n",
      "Using 80000 files for training.\n",
      "Using 20000 files for validation.\n"
     ]
    }
   ],
   "source": [
    "dataset_dir = os.path.join(os.getcwd(), \"CIFAKE\")\n",
    "\n",
    "img_height = 32\n",
    "img_width = 32\n",
    "batch_size = 500\n",
    "\n",
    "# Load training and validation data\n",
    "train, val = keras.utils.image_dataset_from_directory(\n",
    "  os.path.join(dataset_dir, \"train\"),\n",
    "  validation_split=0.2,\n",
    "  subset=\"both\",\n",
    "  seed = 512,\n",
    "  image_size = (img_height, img_width),\n",
    "  batch_size = batch_size)"
   ]
  },
  {
   "cell_type": "code",
   "execution_count": 3,
   "metadata": {
    "colab": {
     "base_uri": "https://localhost:8080/"
    },
    "executionInfo": {
     "elapsed": 13392,
     "status": "ok",
     "timestamp": 1709230112398,
     "user": {
      "displayName": "Jasmine Zhang",
      "userId": "06344520663330274377"
     },
     "user_tz": 480
    },
    "id": "4QlS-CFcvp1A",
    "outputId": "731824ef-534e-45eb-f75a-96d82fa7f33e"
   },
   "outputs": [
    {
     "name": "stdout",
     "output_type": "stream",
     "text": [
      "Found 20000 files belonging to 2 classes.\n"
     ]
    }
   ],
   "source": [
    "# Load test data\n",
    "test = keras.utils.image_dataset_from_directory(\n",
    "  os.path.join(dataset_dir, \"test\"),\n",
    "  seed = 512,\n",
    "  image_size = (img_height, img_width),\n",
    "  batch_size = batch_size)"
   ]
  },
  {
   "cell_type": "code",
   "execution_count": 4,
   "metadata": {},
   "outputs": [
    {
     "data": {
      "text/plain": [
       "['FAKE', 'REAL']"
      ]
     },
     "execution_count": 4,
     "metadata": {},
     "output_type": "execute_result"
    }
   ],
   "source": [
    "classes = train.class_names\n",
    "classes"
   ]
  },
  {
   "cell_type": "code",
   "execution_count": 5,
   "metadata": {
    "executionInfo": {
     "elapsed": 366,
     "status": "ok",
     "timestamp": 1709232026155,
     "user": {
      "displayName": "Jasmine Zhang",
      "userId": "06344520663330274377"
     },
     "user_tz": 480
    },
    "id": "UnWfs8xgNoIq"
   },
   "outputs": [],
   "source": [
    "# Build model\n",
    "keras.backend.clear_session()\n",
    "\n",
    "model = Sequential([\n",
    "    layers.Rescaling(1./255, input_shape=(img_height, img_width, 3)),\n",
    "    layers.Flatten(),\n",
    "    layers.Dense(units=1, use_bias=True, activation=\"sigmoid\")])"
   ]
  },
  {
   "cell_type": "code",
   "execution_count": 6,
   "metadata": {
    "executionInfo": {
     "elapsed": 166,
     "status": "ok",
     "timestamp": 1709232041123,
     "user": {
      "displayName": "Jasmine Zhang",
      "userId": "06344520663330274377"
     },
     "user_tz": 480
    },
    "id": "6IIxNrfWbJBN"
   },
   "outputs": [],
   "source": [
    "# Compile model\n",
    "model.compile(loss=\"binary_crossentropy\",\n",
    "                optimizer=\"adam\",\n",
    "                metrics=[\"accuracy\", metrics.Precision(name=\"precision\"), metrics.Recall(name=\"recall\")])"
   ]
  },
  {
   "cell_type": "code",
   "execution_count": 7,
   "metadata": {
    "colab": {
     "base_uri": "https://localhost:8080/"
    },
    "executionInfo": {
     "elapsed": 296,
     "status": "ok",
     "timestamp": 1709232042210,
     "user": {
      "displayName": "Jasmine Zhang",
      "userId": "06344520663330274377"
     },
     "user_tz": 480
    },
    "id": "EDT6t6L7ej6Y",
    "outputId": "ad379040-2a66-4f3e-aa47-101c34dcdfff"
   },
   "outputs": [
    {
     "name": "stdout",
     "output_type": "stream",
     "text": [
      "Model: \"sequential\"\n",
      "_________________________________________________________________\n",
      " Layer (type)                Output Shape              Param #   \n",
      "=================================================================\n",
      " rescaling (Rescaling)       (None, 32, 32, 3)         0         \n",
      "                                                                 \n",
      " flatten (Flatten)           (None, 3072)              0         \n",
      "                                                                 \n",
      " dense (Dense)               (None, 1)                 3073      \n",
      "                                                                 \n",
      "=================================================================\n",
      "Total params: 3,073\n",
      "Trainable params: 3,073\n",
      "Non-trainable params: 0\n",
      "_________________________________________________________________\n"
     ]
    }
   ],
   "source": [
    "model.summary()"
   ]
  },
  {
   "cell_type": "code",
   "execution_count": 8,
   "metadata": {
    "colab": {
     "base_uri": "https://localhost:8080/"
    },
    "id": "Xtma5Lageq8I",
    "outputId": "842d3807-9fea-470c-98ac-342a3754ab3d"
   },
   "outputs": [
    {
     "name": "stdout",
     "output_type": "stream",
     "text": [
      "Epoch 1/4\n",
      "160/160 [==============================] - 26s 153ms/step - loss: 0.6577 - accuracy: 0.6048 - precision: 0.6003 - recall: 0.6264 - val_loss: 0.6316 - val_accuracy: 0.6414 - val_precision: 0.6323 - val_recall: 0.6783\n",
      "Epoch 2/4\n",
      "160/160 [==============================] - 11s 65ms/step - loss: 0.6326 - accuracy: 0.6400 - precision: 0.6356 - recall: 0.6557 - val_loss: 0.6230 - val_accuracy: 0.6571 - val_precision: 0.6380 - val_recall: 0.7284\n",
      "Epoch 3/4\n",
      "160/160 [==============================] - 11s 64ms/step - loss: 0.6221 - accuracy: 0.6541 - precision: 0.6488 - recall: 0.6711 - val_loss: 0.6181 - val_accuracy: 0.6579 - val_precision: 0.6548 - val_recall: 0.6702\n",
      "Epoch 4/4\n",
      "160/160 [==============================] - 11s 65ms/step - loss: 0.6202 - accuracy: 0.6547 - precision: 0.6503 - recall: 0.6688 - val_loss: 0.6160 - val_accuracy: 0.6593 - val_precision: 0.6607 - val_recall: 0.6570\n"
     ]
    },
    {
     "data": {
      "text/html": [
       "<div>\n",
       "<style scoped>\n",
       "    .dataframe tbody tr th:only-of-type {\n",
       "        vertical-align: middle;\n",
       "    }\n",
       "\n",
       "    .dataframe tbody tr th {\n",
       "        vertical-align: top;\n",
       "    }\n",
       "\n",
       "    .dataframe thead th {\n",
       "        text-align: right;\n",
       "    }\n",
       "</style>\n",
       "<table border=\"1\" class=\"dataframe\">\n",
       "  <thead>\n",
       "    <tr style=\"text-align: right;\">\n",
       "      <th></th>\n",
       "      <th>loss</th>\n",
       "      <th>accuracy</th>\n",
       "      <th>precision</th>\n",
       "      <th>recall</th>\n",
       "      <th>val_loss</th>\n",
       "      <th>val_accuracy</th>\n",
       "      <th>val_precision</th>\n",
       "      <th>val_recall</th>\n",
       "    </tr>\n",
       "  </thead>\n",
       "  <tbody>\n",
       "    <tr>\n",
       "      <th>0</th>\n",
       "      <td>0.657722</td>\n",
       "      <td>0.604813</td>\n",
       "      <td>0.600297</td>\n",
       "      <td>0.626435</td>\n",
       "      <td>0.631616</td>\n",
       "      <td>0.64140</td>\n",
       "      <td>0.632319</td>\n",
       "      <td>0.678283</td>\n",
       "    </tr>\n",
       "    <tr>\n",
       "      <th>1</th>\n",
       "      <td>0.632573</td>\n",
       "      <td>0.639988</td>\n",
       "      <td>0.635557</td>\n",
       "      <td>0.655696</td>\n",
       "      <td>0.622999</td>\n",
       "      <td>0.65705</td>\n",
       "      <td>0.638009</td>\n",
       "      <td>0.728407</td>\n",
       "    </tr>\n",
       "    <tr>\n",
       "      <th>2</th>\n",
       "      <td>0.622092</td>\n",
       "      <td>0.654063</td>\n",
       "      <td>0.648837</td>\n",
       "      <td>0.671052</td>\n",
       "      <td>0.618062</td>\n",
       "      <td>0.65795</td>\n",
       "      <td>0.654829</td>\n",
       "      <td>0.670195</td>\n",
       "    </tr>\n",
       "    <tr>\n",
       "      <th>3</th>\n",
       "      <td>0.620184</td>\n",
       "      <td>0.654688</td>\n",
       "      <td>0.650277</td>\n",
       "      <td>0.668801</td>\n",
       "      <td>0.616013</td>\n",
       "      <td>0.65930</td>\n",
       "      <td>0.660709</td>\n",
       "      <td>0.657014</td>\n",
       "    </tr>\n",
       "  </tbody>\n",
       "</table>\n",
       "</div>"
      ],
      "text/plain": [
       "       loss  accuracy  precision    recall  val_loss  val_accuracy  \\\n",
       "0  0.657722  0.604813   0.600297  0.626435  0.631616       0.64140   \n",
       "1  0.632573  0.639988   0.635557  0.655696  0.622999       0.65705   \n",
       "2  0.622092  0.654063   0.648837  0.671052  0.618062       0.65795   \n",
       "3  0.620184  0.654688   0.650277  0.668801  0.616013       0.65930   \n",
       "\n",
       "   val_precision  val_recall  \n",
       "0       0.632319    0.678283  \n",
       "1       0.638009    0.728407  \n",
       "2       0.654829    0.670195  \n",
       "3       0.660709    0.657014  "
      ]
     },
     "metadata": {},
     "output_type": "display_data"
    }
   ],
   "source": [
    "# Train model\n",
    "epochs = 4\n",
    "\n",
    "history = model.fit(\n",
    "  train,\n",
    "  validation_data=val,\n",
    "  epochs=epochs,\n",
    "  verbose=1)\n",
    "\n",
    "history = pd.DataFrame(history.history)\n",
    "display(history)"
   ]
  },
  {
   "cell_type": "code",
   "execution_count": 9,
   "metadata": {},
   "outputs": [
    {
     "data": {
      "image/png": "[encoded data removed]",
      "text/plain": [
       "<Figure size 640x480 with 1 Axes>"
      ]
     },
     "metadata": {},
     "output_type": "display_data"
    }
   ],
   "source": [
    "# Plot training and validation accuracy\n",
    "plt.plot(range(epochs), history[\"accuracy\"], label=\"Training Accuracy\")\n",
    "plt.plot(range(epochs), history[\"val_accuracy\"], label=\"Validation Accuracy\")\n",
    "plt.legend(loc=\"lower right\")\n",
    "plt.title(\"Training and Validation Accuracy\")\n",
    "plt.show()"
   ]
  },
  {
   "cell_type": "code",
   "execution_count": 10,
   "metadata": {},
   "outputs": [
    {
     "name": "stdout",
     "output_type": "stream",
     "text": [
      "40/40 [==============================] - 2s 44ms/step - loss: 0.6163 - accuracy: 0.6590 - precision: 0.6610 - recall: 0.6530\n"
     ]
    },
    {
     "data": {
      "text/plain": [
       "{'loss': 0.6162513494491577,\n",
       " 'accuracy': 0.6590499877929688,\n",
       " 'precision': 0.6609981060028076,\n",
       " 'recall': 0.652999997138977}"
      ]
     },
     "execution_count": 10,
     "metadata": {},
     "output_type": "execute_result"
    }
   ],
   "source": [
    "# Evaluate on test data\n",
    "model.evaluate(test, return_dict=True)"
   ]
  },
  {
   "cell_type": "code",
   "execution_count": 11,
   "metadata": {},
   "outputs": [
    {
     "data": {
      "image/png": "[encoded data removed]",
      "text/plain": [
       "<Figure size 640x480 with 2 Axes>"
      ]
     },
     "metadata": {},
     "output_type": "display_data"
    }
   ],
   "source": [
    "# Confusion matrix\n",
    "test_predictions = np.array([])\n",
    "test_labels = np.array([])\n",
    "for x, y in test:\n",
    "    test_predictions = np.append(test_predictions, model(x) > 0.5)\n",
    "    test_labels = np.append(test_labels, y)\n",
    "ConfusionMatrixDisplay.from_predictions(test_labels, test_predictions, display_labels=classes, cmap=\"Blues\");"
   ]
  },
  {
   "cell_type": "code",
   "execution_count": null,
   "metadata": {},
   "outputs": [],
   "source": []
  }
 ],
 "metadata": {
  "colab": {
   "provenance": []
  },
  "kernelspec": {
   "display_name": "Python 3 (ipykernel)",
   "language": "python",
   "name": "python3"
  },
  "language_info": {
   "codemirror_mode": {
    "name": "ipython",
    "version": 3
   },
   "file_extension": ".py",
   "mimetype": "text/x-python",
   "name": "python",
   "nbconvert_exporter": "python",
   "pygments_lexer": "ipython3",
   "version": "3.10.13"
  }
 },
 "nbformat": 4,
 "nbformat_minor": 4
}
