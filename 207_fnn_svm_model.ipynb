{
 "cells": [
  {
   "cell_type": "code",
   "execution_count": 1,
   "metadata": {},
   "outputs": [],
   "source": [
    "import matplotlib.pyplot as plt\n",
    "import numpy as np\n",
    "\n",
    "import seaborn as sns\n",
    "\n",
    "import tensorflow as tf\n",
    "from tensorflow import keras\n",
    "from tensorflow.keras import layers\n",
    "from tensorflow.keras.models import Sequential\n",
    "\n",
    "from sklearn import svm\n",
    "from sklearn.model_selection import GridSearchCV\n",
    "from sklearn.metrics import accuracy_score \n",
    "from sklearn.metrics import classification_report\n",
    "from sklearn.metrics import confusion_matrix, ConfusionMatrixDisplay\n"
   ]
  },
  {
   "cell_type": "markdown",
   "metadata": {},
   "source": [
    "# Loading + Preprocessing Data"
   ]
  },
  {
   "cell_type": "code",
   "execution_count": 3,
   "metadata": {
    "colab": {
     "base_uri": "https://localhost:8080/"
    },
    "id": "R6JsnIwNIi1E",
    "outputId": "2a7f6029-4b56-498a-de4b-d13656dae57a"
   },
   "outputs": [
    {
     "name": "stdout",
     "output_type": "stream",
     "text": [
      "Found 45552 files belonging to 2 classes.\n",
      "Using 36442 files for training.\n"
     ]
    },
    {
     "data": {
      "text/plain": [
       "<_BatchDataset element_spec=(TensorSpec(shape=(None, 32, 32, 3), dtype=tf.float32, name=None), TensorSpec(shape=(None,), dtype=tf.int32, name=None))>"
      ]
     },
     "execution_count": 3,
     "metadata": {},
     "output_type": "execute_result"
    }
   ],
   "source": [
    "dataset_dir = \"/Users/annie/Documents/DATA_207/finalproj/CIFAKE/\"\n",
    "#Thank you for running this :) \n",
    "#dataset_dir = \"FILLIN\"\n",
    "\n",
    "img_height = 32\n",
    "img_width = 32\n",
    "batch_size = 500\n",
    "\n",
    "# Load the training data\n",
    "train_ds = tf.keras.utils.image_dataset_from_directory(\n",
    "  dataset_dir + \"train\",\n",
    "  validation_split=0.2,\n",
    "  subset=\"training\",\n",
    "  seed = 512,\n",
    "  image_size = (img_height, img_width),\n",
    "  batch_size = 80000)\n",
    "train_ds"
   ]
  },
  {
   "cell_type": "code",
   "execution_count": 4,
   "metadata": {
    "colab": {
     "base_uri": "https://localhost:8080/"
    },
    "id": "UJdicRBZIisJ",
    "outputId": "18455361-bad8-48b2-a9b7-3967c9d6d094"
   },
   "outputs": [
    {
     "name": "stdout",
     "output_type": "stream",
     "text": [
      "Found 45552 files belonging to 2 classes.\n",
      "Using 9110 files for validation.\n"
     ]
    },
    {
     "data": {
      "text/plain": [
       "<_BatchDataset element_spec=(TensorSpec(shape=(None, 32, 32, 3), dtype=tf.float32, name=None), TensorSpec(shape=(None,), dtype=tf.int32, name=None))>"
      ]
     },
     "execution_count": 4,
     "metadata": {},
     "output_type": "execute_result"
    }
   ],
   "source": [
    "val_ds = tf.keras.utils.image_dataset_from_directory(\n",
    "  dataset_dir + \"train\",\n",
    "  validation_split=0.2,\n",
    "  subset=\"validation\",\n",
    "  seed = 512,\n",
    "  image_size = (img_height, img_width),\n",
    "  batch_size = 20000)\n",
    "val_ds"
   ]
  },
  {
   "cell_type": "code",
   "execution_count": 5,
   "metadata": {},
   "outputs": [
    {
     "name": "stdout",
     "output_type": "stream",
     "text": [
      "Found 19983 files belonging to 2 classes.\n"
     ]
    },
    {
     "data": {
      "text/plain": [
       "<_BatchDataset element_spec=(TensorSpec(shape=(None, 32, 32, 3), dtype=tf.float32, name=None), TensorSpec(shape=(None,), dtype=tf.int32, name=None))>"
      ]
     },
     "execution_count": 5,
     "metadata": {},
     "output_type": "execute_result"
    }
   ],
   "source": [
    "test_ds = tf.keras.utils.image_dataset_from_directory(\n",
    "  dataset_dir + \"test\",\n",
    "  seed = 512,\n",
    "  image_size = (img_height, img_width), \n",
    "  batch_size = 20000)\n",
    "test_ds"
   ]
  },
  {
   "cell_type": "code",
   "execution_count": 6,
   "metadata": {
    "id": "cqvfJ1GqqR-1"
   },
   "outputs": [
    {
     "name": "stderr",
     "output_type": "stream",
     "text": [
      "2024-03-04 10:24:03.195193: I tensorflow/core/common_runtime/executor.cc:1197] [/device:CPU:0] (DEBUG INFO) Executor start aborting (this does not indicate an error and you can ignore this message): INVALID_ARGUMENT: You must feed a value for placeholder tensor 'Placeholder/_4' with dtype int32 and shape [36442]\n",
      "\t [[{{node Placeholder/_4}}]]\n",
      "2024-03-04 10:24:03.195595: I tensorflow/core/common_runtime/executor.cc:1197] [/device:CPU:0] (DEBUG INFO) Executor start aborting (this does not indicate an error and you can ignore this message): INVALID_ARGUMENT: You must feed a value for placeholder tensor 'Placeholder/_4' with dtype int32 and shape [36442]\n",
      "\t [[{{node Placeholder/_4}}]]\n",
      "2024-03-04 10:24:03.237894: W tensorflow/tsl/platform/profile_utils/cpu_utils.cc:128] Failed to get CPU frequency: 0 Hz\n"
     ]
    }
   ],
   "source": [
    "train_list = list(train_ds)"
   ]
  },
  {
   "cell_type": "code",
   "execution_count": 7,
   "metadata": {
    "id": "_SRjMiQbqVAt"
   },
   "outputs": [],
   "source": [
    "train_imgs = train_list[0][0].numpy()\n",
    "train_labels = train_list[0][1].numpy()"
   ]
  },
  {
   "cell_type": "code",
   "execution_count": 8,
   "metadata": {
    "colab": {
     "base_uri": "https://localhost:8080/"
    },
    "id": "BX7XDm8GqWy3",
    "outputId": "5bbe4f96-0a11-40b0-f197-1945bdc75dc7"
   },
   "outputs": [
    {
     "data": {
      "text/plain": [
       "(36442, 32, 32, 3)"
      ]
     },
     "execution_count": 8,
     "metadata": {},
     "output_type": "execute_result"
    }
   ],
   "source": [
    "norm_train_imgs = train_imgs/255.0\n",
    "norm_train_imgs.shape"
   ]
  },
  {
   "cell_type": "code",
   "execution_count": 9,
   "metadata": {
    "id": "tQDvIsIAIiet"
   },
   "outputs": [],
   "source": [
    "classes = train_ds.class_names"
   ]
  },
  {
   "cell_type": "code",
   "execution_count": 10,
   "metadata": {
    "id": "JGGYq-C10G7c"
   },
   "outputs": [
    {
     "name": "stderr",
     "output_type": "stream",
     "text": [
      "2024-03-04 10:24:09.615557: I tensorflow/core/common_runtime/executor.cc:1197] [/device:CPU:0] (DEBUG INFO) Executor start aborting (this does not indicate an error and you can ignore this message): INVALID_ARGUMENT: You must feed a value for placeholder tensor 'Placeholder/_4' with dtype int32 and shape [9110]\n",
      "\t [[{{node Placeholder/_4}}]]\n",
      "2024-03-04 10:24:09.616225: I tensorflow/core/common_runtime/executor.cc:1197] [/device:CPU:0] (DEBUG INFO) Executor start aborting (this does not indicate an error and you can ignore this message): INVALID_ARGUMENT: You must feed a value for placeholder tensor 'Placeholder/_4' with dtype int32 and shape [9110]\n",
      "\t [[{{node Placeholder/_4}}]]\n"
     ]
    }
   ],
   "source": [
    "val_list = list(val_ds)\n",
    "val_imgs = val_list[0][0].numpy()\n",
    "val_labels = val_list[0][1].numpy()"
   ]
  },
  {
   "cell_type": "code",
   "execution_count": 11,
   "metadata": {
    "colab": {
     "base_uri": "https://localhost:8080/"
    },
    "id": "SCVS-VjaBNE4",
    "outputId": "a26ec386-b0bd-4bce-a5fd-f46b60dc3613"
   },
   "outputs": [
    {
     "data": {
      "text/plain": [
       "(9110, 32, 32, 3)"
      ]
     },
     "execution_count": 11,
     "metadata": {},
     "output_type": "execute_result"
    }
   ],
   "source": [
    "norm_val_imgs = val_imgs/255.0\n",
    "norm_val_imgs.shape"
   ]
  },
  {
   "cell_type": "code",
   "execution_count": 12,
   "metadata": {
    "colab": {
     "base_uri": "https://localhost:8080/"
    },
    "id": "QM9_eoFQ0GJ_",
    "outputId": "930ea741-5adf-4991-c226-9cbccd10c1c2"
   },
   "outputs": [
    {
     "data": {
      "text/plain": [
       "(36442, 3072)"
      ]
     },
     "execution_count": 12,
     "metadata": {},
     "output_type": "execute_result"
    }
   ],
   "source": [
    "nsamples, nx, ny, nrgb = norm_train_imgs.shape\n",
    "norm_train_imgs2 = norm_train_imgs.reshape((nsamples,nx*ny*nrgb))\n",
    "norm_train_imgs2.shape"
   ]
  },
  {
   "cell_type": "code",
   "execution_count": 13,
   "metadata": {
    "colab": {
     "base_uri": "https://localhost:8080/"
    },
    "id": "eB-_mucCrsSO",
    "outputId": "8f56f763-897c-4e8e-9683-2e2601cd908a"
   },
   "outputs": [
    {
     "data": {
      "text/plain": [
       "(9110, 3072)"
      ]
     },
     "execution_count": 13,
     "metadata": {},
     "output_type": "execute_result"
    }
   ],
   "source": [
    "nsamplesv, nxv, nyv, nrgbv = norm_val_imgs.shape\n",
    "norm_val_imgs2 = norm_val_imgs.reshape((nsamplesv,nxv*nyv*nrgbv))\n",
    "norm_val_imgs2.shape"
   ]
  },
  {
   "cell_type": "code",
   "execution_count": 14,
   "metadata": {},
   "outputs": [
    {
     "name": "stderr",
     "output_type": "stream",
     "text": [
      "2024-03-04 10:24:11.351074: I tensorflow/core/common_runtime/executor.cc:1197] [/device:CPU:0] (DEBUG INFO) Executor start aborting (this does not indicate an error and you can ignore this message): INVALID_ARGUMENT: You must feed a value for placeholder tensor 'Placeholder/_4' with dtype int32 and shape [19983]\n",
      "\t [[{{node Placeholder/_4}}]]\n",
      "2024-03-04 10:24:11.351450: I tensorflow/core/common_runtime/executor.cc:1197] [/device:CPU:0] (DEBUG INFO) Executor start aborting (this does not indicate an error and you can ignore this message): INVALID_ARGUMENT: You must feed a value for placeholder tensor 'Placeholder/_4' with dtype int32 and shape [19983]\n",
      "\t [[{{node Placeholder/_4}}]]\n"
     ]
    }
   ],
   "source": [
    "test_list = list(test_ds)\n",
    "test_imgs = test_list[0][0].numpy()\n",
    "test_labels = test_list[0][1].numpy()"
   ]
  },
  {
   "cell_type": "code",
   "execution_count": 15,
   "metadata": {},
   "outputs": [
    {
     "data": {
      "text/plain": [
       "(19983, 3072)"
      ]
     },
     "execution_count": 15,
     "metadata": {},
     "output_type": "execute_result"
    }
   ],
   "source": [
    "norm_test_imgs = test_imgs/255.0\n",
    "testsamples, testx, testy, testrgb = norm_test_imgs.shape\n",
    "norm_test_imgs2 = norm_test_imgs.reshape((testsamples,testx*testy*testrgb))\n",
    "norm_test_imgs2.shape"
   ]
  },
  {
   "cell_type": "markdown",
   "metadata": {},
   "source": [
    "# Neural Network Model"
   ]
  },
  {
   "cell_type": "code",
   "execution_count": 17,
   "metadata": {},
   "outputs": [
    {
     "data": {
      "text/plain": [
       "2"
      ]
     },
     "execution_count": 17,
     "metadata": {},
     "output_type": "execute_result"
    }
   ],
   "source": [
    "len(classes)"
   ]
  },
  {
   "cell_type": "code",
   "execution_count": 78,
   "metadata": {},
   "outputs": [
    {
     "name": "stderr",
     "output_type": "stream",
     "text": [
      "WARNING:absl:At this time, the v2.11+ optimizer `tf.keras.optimizers.SGD` runs slowly on M1/M2 Macs, please use the legacy Keras optimizer instead, located at `tf.keras.optimizers.legacy.SGD`.\n",
      "WARNING:absl:There is a known slowdown when using v2.11+ Keras optimizers on M1/M2 Macs. Falling back to the legacy Keras optimizer, i.e., `tf.keras.optimizers.legacy.SGD`.\n"
     ]
    }
   ],
   "source": [
    "n_classes = len(classes)\n",
    "hidden_layer_sizes=[256,128]\n",
    "activation='relu'\n",
    "optimizer='Adam',\n",
    "learning_rate=0.01\n",
    "\n",
    "tf.keras.backend.clear_session()\n",
    "np.random.seed(0)\n",
    "tf.random.set_seed(0)\n",
    "    \n",
    "model = tf.keras.Sequential()\n",
    "#model.add(Dense(16, input_shape=(X.shape[1],)\n",
    "\n",
    "model.add(tf.keras.layers.Flatten())\n",
    "    \n",
    "for hidden_layer_size in hidden_layer_sizes:\n",
    "    model.add(tf.keras.layers.Dense(units=hidden_layer_size,\n",
    "                                    activation=activation,))\n",
    "        \n",
    "model.add(tf.keras.layers.Dense(1, activation=\"sigmoid\"))\n",
    "\n",
    "if optimizer == 'Adam':\n",
    "    optimizer = tf.keras.optimizers.Adam(learning_rate = learning_rate)\n",
    "else:\n",
    "    optimizer = tf.keras.optimizers.SGD(learning_rate = learning_rate)\n",
    "\n",
    "model.compile(loss='binary_crossentropy', optimizer = optimizer, metrics = ['accuracy'])\n",
    "\n",
    "\n",
    "    \n"
   ]
  },
  {
   "cell_type": "code",
   "execution_count": 79,
   "metadata": {},
   "outputs": [
    {
     "data": {
      "image/png": "[encoded data removed]",
      "text/plain": [
       "<Figure size 640x480 with 1 Axes>"
      ]
     },
     "metadata": {},
     "output_type": "display_data"
    },
    {
     "name": "stdout",
     "output_type": "stream",
     "text": [
      "Model: \"sequential\"\n",
      "_________________________________________________________________\n",
      " Layer (type)                Output Shape              Param #   \n",
      "=================================================================\n",
      " flatten (Flatten)           (None, 3072)              0         \n",
      "                                                                 \n",
      " dense (Dense)               (None, 256)               786688    \n",
      "                                                                 \n",
      " dense_1 (Dense)             (None, 128)               32896     \n",
      "                                                                 \n",
      " dense_2 (Dense)             (None, 1)                 129       \n",
      "                                                                 \n",
      "=================================================================\n",
      "Total params: 819,713\n",
      "Trainable params: 819,713\n",
      "Non-trainable params: 0\n",
      "_________________________________________________________________\n",
      "None\n"
     ]
    }
   ],
   "source": [
    "\n",
    "learning_rate=0.01,\n",
    "num_epochs=5\n",
    "      \n",
    "\n",
    "# Train the model.\n",
    "history = model.fit(x=norm_train_imgs2,y=train_labels, epochs=num_epochs, batch_size=64,\n",
    "                    validation_data=(norm_val_imgs2, val_labels),verbose=0)\n",
    "\n",
    "\n",
    "train_accuracy = history.history['accuracy']\n",
    "val_accuracy = history.history['val_accuracy']\n",
    "plt.plot(train_accuracy, label='train_accuracy')\n",
    "plt.plot(val_accuracy, label='validation accuracy')\n",
    "plt.xticks(range(num_epochs))\n",
    "plt.xlabel('Train epochs')\n",
    "plt.legend()\n",
    "plt.show()\n",
    "\n",
    "\n",
    "\n",
    "print(model.summary())\n"
   ]
  },
  {
   "cell_type": "code",
   "execution_count": 58,
   "metadata": {},
   "outputs": [
    {
     "name": "stdout",
     "output_type": "stream",
     "text": [
      "0.7603863477706909\n",
      "0.7343578338623047\n"
     ]
    }
   ],
   "source": [
    "print(train_accuracy[-1])\n",
    "print(val_accuracy[-1])"
   ]
  },
  {
   "cell_type": "code",
   "execution_count": 93,
   "metadata": {},
   "outputs": [
    {
     "name": "stderr",
     "output_type": "stream",
     "text": [
      "WARNING:absl:At this time, the v2.11+ optimizer `tf.keras.optimizers.SGD` runs slowly on M1/M2 Macs, please use the legacy Keras optimizer instead, located at `tf.keras.optimizers.legacy.SGD`.\n",
      "WARNING:absl:There is a known slowdown when using v2.11+ Keras optimizers on M1/M2 Macs. Falling back to the legacy Keras optimizer, i.e., `tf.keras.optimizers.legacy.SGD`.\n"
     ]
    }
   ],
   "source": [
    "hidden_layer_sizes=[256, 128]\n",
    "activation='tanh'\n",
    "optimizer='SGD',\n",
    "learning_rate=0.01\n",
    "\n",
    "tf.keras.backend.clear_session()\n",
    "np.random.seed(0)\n",
    "tf.random.set_seed(0)\n",
    "    \n",
    "model2 = tf.keras.Sequential()\n",
    "model2.add(tf.keras.layers.Flatten())\n",
    "    \n",
    "for hidden_layer_size in hidden_layer_sizes:\n",
    "    model2.add(tf.keras.layers.Dense(units=hidden_layer_size,\n",
    "                                    activation=activation,))\n",
    "        \n",
    "model2.add(tf.keras.layers.Dense(1, activation=\"sigmoid\"))\n",
    "\n",
    "if optimizer == 'Adam':\n",
    "    optimizer = tf.keras.optimizers.Adam(learning_rate = learning_rate)\n",
    "else:\n",
    "    optimizer = tf.keras.optimizers.SGD(learning_rate = learning_rate)\n",
    "\n",
    "model2.compile(loss='binary_crossentropy', optimizer = optimizer, metrics = ['accuracy'])\n",
    "\n"
   ]
  },
  {
   "cell_type": "code",
   "execution_count": 94,
   "metadata": {},
   "outputs": [
    {
     "data": {
      "image/png": "[encoded data removed]",
      "text/plain": [
       "<Figure size 640x480 with 1 Axes>"
      ]
     },
     "metadata": {},
     "output_type": "display_data"
    },
    {
     "name": "stdout",
     "output_type": "stream",
     "text": [
      "Model: \"sequential\"\n",
      "_________________________________________________________________\n",
      " Layer (type)                Output Shape              Param #   \n",
      "=================================================================\n",
      " flatten (Flatten)           (None, 3072)              0         \n",
      "                                                                 \n",
      " dense (Dense)               (None, 256)               786688    \n",
      "                                                                 \n",
      " dense_1 (Dense)             (None, 128)               32896     \n",
      "                                                                 \n",
      " dense_2 (Dense)             (None, 1)                 129       \n",
      "                                                                 \n",
      "=================================================================\n",
      "Total params: 819,713\n",
      "Trainable params: 819,713\n",
      "Non-trainable params: 0\n",
      "_________________________________________________________________\n",
      "None\n"
     ]
    }
   ],
   "source": [
    "num_epochs2=7\n",
    "      \n",
    "\n",
    "# Train the model.\n",
    "history2 = model2.fit(x=norm_train_imgs2,y=train_labels, epochs=num_epochs2, batch_size=64,\n",
    "                    validation_data=(norm_val_imgs2, val_labels),verbose=0)\n",
    "\n",
    "\n",
    "train2_accuracy = history2.history['accuracy']\n",
    "val2_accuracy = history2.history['val_accuracy']\n",
    "plt.plot(train2_accuracy, label='train_accuracy')\n",
    "plt.plot(val2_accuracy, label='validation accuracy')\n",
    "plt.xticks(range(num_epochs2))\n",
    "plt.xlabel('Train epochs')\n",
    "plt.legend()\n",
    "plt.show()\n",
    "\n",
    "\n",
    "\n",
    "print(model2.summary())"
   ]
  },
  {
   "cell_type": "code",
   "execution_count": 95,
   "metadata": {},
   "outputs": [
    {
     "name": "stdout",
     "output_type": "stream",
     "text": [
      "0.744964599609375\n",
      "0.7259055972099304\n"
     ]
    }
   ],
   "source": [
    "print(train2_accuracy[-1])\n",
    "print(val2_accuracy[-1])\n",
    "\n"
   ]
  },
  {
   "cell_type": "code",
   "execution_count": 100,
   "metadata": {},
   "outputs": [
    {
     "name": "stderr",
     "output_type": "stream",
     "text": [
      "WARNING:absl:At this time, the v2.11+ optimizer `tf.keras.optimizers.SGD` runs slowly on M1/M2 Macs, please use the legacy Keras optimizer instead, located at `tf.keras.optimizers.legacy.SGD`.\n",
      "WARNING:absl:There is a known slowdown when using v2.11+ Keras optimizers on M1/M2 Macs. Falling back to the legacy Keras optimizer, i.e., `tf.keras.optimizers.legacy.SGD`.\n"
     ]
    }
   ],
   "source": [
    "hidden_layer_sizes=[256, 128]\n",
    "activation='relu'\n",
    "optimizer='SGD',\n",
    "learning_rate=0.01\n",
    "\n",
    "tf.keras.backend.clear_session()\n",
    "np.random.seed(0)\n",
    "tf.random.set_seed(0)\n",
    "    \n",
    "model3 = tf.keras.Sequential()\n",
    "model3.add(tf.keras.layers.Flatten())\n",
    "    \n",
    "for hidden_layer_size in hidden_layer_sizes:\n",
    "    model3.add(tf.keras.layers.Dense(units=hidden_layer_size,\n",
    "                                    activation=activation,))\n",
    "        \n",
    "model3.add(tf.keras.layers.Dense(1, activation=\"sigmoid\"))\n",
    "\n",
    "if optimizer == 'Adam':\n",
    "    optimizer = tf.keras.optimizers.Adam(learning_rate = learning_rate)\n",
    "else:\n",
    "    optimizer = tf.keras.optimizers.SGD(learning_rate = learning_rate)\n",
    "\n",
    "model3.compile(loss='binary_crossentropy', optimizer = optimizer, metrics = ['accuracy'])\n",
    "\n"
   ]
  },
  {
   "cell_type": "code",
   "execution_count": 101,
   "metadata": {},
   "outputs": [
    {
     "data": {
      "image/png": "[encoded data removed]",
      "text/plain": [
       "<Figure size 640x480 with 1 Axes>"
      ]
     },
     "metadata": {},
     "output_type": "display_data"
    },
    {
     "name": "stdout",
     "output_type": "stream",
     "text": [
      "Model: \"sequential\"\n",
      "_________________________________________________________________\n",
      " Layer (type)                Output Shape              Param #   \n",
      "=================================================================\n",
      " flatten (Flatten)           (None, 3072)              0         \n",
      "                                                                 \n",
      " dense (Dense)               (None, 256)               786688    \n",
      "                                                                 \n",
      " dense_1 (Dense)             (None, 128)               32896     \n",
      "                                                                 \n",
      " dense_2 (Dense)             (None, 1)                 129       \n",
      "                                                                 \n",
      "=================================================================\n",
      "Total params: 819,713\n",
      "Trainable params: 819,713\n",
      "Non-trainable params: 0\n",
      "_________________________________________________________________\n",
      "None\n"
     ]
    }
   ],
   "source": [
    "num_epochs3=7\n",
    "      \n",
    "\n",
    "# Train the model.\n",
    "history3 = model3.fit(x=norm_train_imgs2,y=train_labels, epochs=num_epochs3, batch_size=64,\n",
    "                    validation_data=(norm_val_imgs2, val_labels),verbose=0)\n",
    "\n",
    "\n",
    "train3_accuracy = history3.history['accuracy']\n",
    "val3_accuracy = history3.history['val_accuracy']\n",
    "plt.plot(train3_accuracy, label='train_accuracy')\n",
    "plt.plot(val3_accuracy, label='validation accuracy')\n",
    "plt.xticks(range(num_epochs3))\n",
    "plt.xlabel('Train epochs')\n",
    "plt.legend()\n",
    "plt.show()\n",
    "\n",
    "\n",
    "\n",
    "print(model3.summary())"
   ]
  },
  {
   "cell_type": "code",
   "execution_count": 102,
   "metadata": {},
   "outputs": [
    {
     "name": "stdout",
     "output_type": "stream",
     "text": [
      "0.768152117729187\n",
      "0.7251372337341309\n"
     ]
    }
   ],
   "source": [
    "print(train3_accuracy[-1])\n",
    "print(val3_accuracy[-1])"
   ]
  },
  {
   "cell_type": "code",
   "execution_count": 134,
   "metadata": {},
   "outputs": [
    {
     "ename": "SyntaxError",
     "evalue": "unmatched ')' (310769049.py, line 26)",
     "output_type": "error",
     "traceback": [
      "\u001b[0;36m  Cell \u001b[0;32mIn[134], line 26\u001b[0;36m\u001b[0m\n\u001b[0;31m    model4.compile(loss='binary_crossentropy', optimizer = optimizer, metrics = ['accuracy', metrics.Precision(name=\"precision\"), metrics.Recall(name=\"recall\")]))\u001b[0m\n\u001b[0m                                                                                                                                                                 ^\u001b[0m\n\u001b[0;31mSyntaxError\u001b[0m\u001b[0;31m:\u001b[0m unmatched ')'\n"
     ]
    }
   ],
   "source": [
    "n_classes = len(classes)\n",
    "hidden_layer_sizes=[256, 256]\n",
    "activation='relu'\n",
    "optimizer='SGD'\n",
    "\n",
    "tf.keras.backend.clear_session()\n",
    "np.random.seed(0)\n",
    "tf.random.set_seed(0)\n",
    "    \n",
    "model4 = tf.keras.Sequential()\n",
    "#model.add(Dense(16, input_shape=(X.shape[1],)\n",
    "\n",
    "model4.add(tf.keras.layers.Flatten())\n",
    "    \n",
    "for hidden_layer_size in hidden_layer_sizes:\n",
    "    model4.add(tf.keras.layers.Dense(units=hidden_layer_size,\n",
    "                                    activation=activation,))\n",
    "        \n",
    "model4.add(tf.keras.layers.Dense(1, activation=\"sigmoid\"))\n",
    "\n",
    "if optimizer == 'Adam':\n",
    "    optimizer = tf.keras.optimizers.Adam(learning_rate = 0.01)\n",
    "else:\n",
    "    optimizer = tf.keras.optimizers.SGD(learning_rate = 0.01)\n",
    "\n",
    "model4.compile(loss='binary_crossentropy', optimizer = optimizer, metrics = ['accuracy', metrics.Precision(name=\"precision\"), metrics.Recall(name=\"recall\")]))\n",
    "\n"
   ]
  },
  {
   "cell_type": "code",
   "execution_count": 135,
   "metadata": {},
   "outputs": [
    {
     "data": {
      "image/png": "[encoded data removed]",
      "text/plain": [
       "<Figure size 640x480 with 1 Axes>"
      ]
     },
     "metadata": {},
     "output_type": "display_data"
    },
    {
     "name": "stdout",
     "output_type": "stream",
     "text": [
      "Model: \"sequential\"\n",
      "_________________________________________________________________\n",
      " Layer (type)                Output Shape              Param #   \n",
      "=================================================================\n",
      " flatten (Flatten)           (None, 3072)              0         \n",
      "                                                                 \n",
      " dense (Dense)               (None, 256)               786688    \n",
      "                                                                 \n",
      " dense_1 (Dense)             (None, 256)               65792     \n",
      "                                                                 \n",
      " dense_2 (Dense)             (None, 1)                 257       \n",
      "                                                                 \n",
      "=================================================================\n",
      "Total params: 852,737\n",
      "Trainable params: 852,737\n",
      "Non-trainable params: 0\n",
      "_________________________________________________________________\n",
      "None\n"
     ]
    }
   ],
   "source": [
    "num_epochs4=7\n",
    "      \n",
    "\n",
    "# Train the model.\n",
    "history4 = model4.fit(x=norm_train_imgs2,y=train_labels, epochs=num_epochs4, batch_size=64,\n",
    "                    validation_data=(norm_val_imgs2, val_labels),verbose=0)\n",
    "\n",
    "\n",
    "train4_accuracy = history4.history['accuracy']\n",
    "val4_accuracy = history4.history['val_accuracy']\n",
    "plt.plot(train4_accuracy, label='train_accuracy')\n",
    "plt.plot(val4_accuracy, label='validation accuracy')\n",
    "plt.xticks(range(num_epochs4))\n",
    "plt.xlabel('Train epochs')\n",
    "plt.legend()\n",
    "plt.show()\n",
    "\n",
    "\n",
    "\n",
    "print(model4.summary())"
   ]
  },
  {
   "cell_type": "code",
   "execution_count": 136,
   "metadata": {},
   "outputs": [
    {
     "name": "stdout",
     "output_type": "stream",
     "text": [
      "0.7989956736564636\n",
      "0.7560921907424927\n"
     ]
    }
   ],
   "source": [
    "print(train4_accuracy[-1])\n",
    "print(val4_accuracy[-1])"
   ]
  },
  {
   "cell_type": "markdown",
   "metadata": {},
   "source": [
    "# Test Set Results"
   ]
  },
  {
   "cell_type": "code",
   "execution_count": 137,
   "metadata": {},
   "outputs": [],
   "source": [
    "test_accuracy = model4.evaluate(x=norm_test_imgs2, y=test_labels, verbose=0,return_dict=True)['accuracy']"
   ]
  },
  {
   "cell_type": "code",
   "execution_count": 138,
   "metadata": {},
   "outputs": [
    {
     "name": "stdout",
     "output_type": "stream",
     "text": [
      "0.7622479200363159\n"
     ]
    }
   ],
   "source": [
    "print(test_accuracy)"
   ]
  },
  {
   "cell_type": "code",
   "execution_count": 139,
   "metadata": {},
   "outputs": [
    {
     "name": "stdout",
     "output_type": "stream",
     "text": [
      "625/625 [==============================] - 0s 725us/step - loss: 0.4880 - accuracy: 0.7622\n"
     ]
    },
    {
     "data": {
      "text/plain": [
       "{'loss': 0.4880221486091614, 'accuracy': 0.7622479200363159}"
      ]
     },
     "execution_count": 139,
     "metadata": {},
     "output_type": "execute_result"
    }
   ],
   "source": [
    "model4.evaluate(x=norm_test_imgs2, y=test_labels, return_dict=True)"
   ]
  },
  {
   "cell_type": "code",
   "execution_count": 140,
   "metadata": {},
   "outputs": [
    {
     "name": "stdout",
     "output_type": "stream",
     "text": [
      "625/625 [==============================] - 0s 698us/step\n"
     ]
    }
   ],
   "source": [
    "test_preds = model4.predict(norm_test_imgs2).flatten()"
   ]
  },
  {
   "cell_type": "code",
   "execution_count": 141,
   "metadata": {},
   "outputs": [],
   "source": [
    "final_test_preds = [1 if t > 0.5 else 0 for t in test_preds]"
   ]
  },
  {
   "cell_type": "code",
   "execution_count": 142,
   "metadata": {},
   "outputs": [
    {
     "name": "stdout",
     "output_type": "stream",
     "text": [
      "              precision    recall  f1-score   support\n",
      "\n",
      "           0       0.90      0.71      0.79     12759\n",
      "           1       0.62      0.86      0.72      7224\n",
      "\n",
      "    accuracy                           0.76     19983\n",
      "   macro avg       0.76      0.78      0.76     19983\n",
      "weighted avg       0.80      0.76      0.77     19983\n",
      "\n"
     ]
    }
   ],
   "source": [
    "print(classification_report(final_test_preds, test_labels))"
   ]
  },
  {
   "cell_type": "code",
   "execution_count": 146,
   "metadata": {},
   "outputs": [
    {
     "data": {
      "text/plain": [
       "['FAKE', 'REAL']"
      ]
     },
     "execution_count": 146,
     "metadata": {},
     "output_type": "execute_result"
    }
   ],
   "source": [
    "classes"
   ]
  },
  {
   "cell_type": "code",
   "execution_count": 152,
   "metadata": {},
   "outputs": [
    {
     "data": {
      "text/plain": [
       "array([1, 1, 0, ..., 1, 1, 1], dtype=int32)"
      ]
     },
     "execution_count": 152,
     "metadata": {},
     "output_type": "execute_result"
    }
   ],
   "source": [
    "train_list[0][1].numpy()"
   ]
  },
  {
   "cell_type": "code",
   "execution_count": 145,
   "metadata": {},
   "outputs": [
    {
     "data": {
      "image/png": "[encoded data removed]",
      "text/plain": [
       "<Figure size 640x480 with 2 Axes>"
      ]
     },
     "metadata": {},
     "output_type": "display_data"
    }
   ],
   "source": [
    "ConfusionMatrixDisplay.from_predictions(test_labels, final_test_preds, display_labels=classes, cmap='Blues')\n",
    "\n",
    "plt.title('Confusion matrix of test set')\n",
    "plt.xticks(rotation=45, ha='right')\n",
    "plt.show()\n"
   ]
  },
  {
   "cell_type": "markdown",
   "metadata": {},
   "source": [
    "# IGNORE Model Creation + Training + Validation Accuracy"
   ]
  },
  {
   "cell_type": "code",
   "execution_count": null,
   "metadata": {
    "id": "3O_DcjarrkpY"
   },
   "outputs": [],
   "source": [
    "#support vector machine implementation\n",
    "param_grid={'C':[0.1,1,10,100],\n",
    "            'gamma':[0.0001,0.001,0.1,1],\n",
    "            'kernel':['rbf','poly']}\n",
    "\n",
    "svc=svm.SVC(probability=True)\n",
    "\n",
    "model=GridSearchCV(svc,param_grid)"
   ]
  },
  {
   "cell_type": "code",
   "execution_count": null,
   "metadata": {
    "colab": {
     "base_uri": "https://localhost:8080/",
     "height": 321
    },
    "id": "Ky3eM0eywD_g",
    "outputId": "fc818242-597b-42b4-fe69-7440caaa8540"
   },
   "outputs": [],
   "source": [
    "model.fit(norm_train_imgs2, train_labels)"
   ]
  },
  {
   "cell_type": "code",
   "execution_count": null,
   "metadata": {
    "id": "BRvU77PtEYw4"
   },
   "outputs": [],
   "source": [
    "# Testing the model using the validation data\n",
    "y_pred_val = model.predict(norm_val_imgs2)\n",
    "\n",
    "# Calculating the accuracy of the model on validation data\n",
    "accuracy = accuracy_score(y_pred_val, val_labels)\n",
    "\n",
    "# Print the accuracy of the model on the validation data\n",
    "print(f\"The model is {accuracy*100}% accurate\")"
   ]
  },
  {
   "cell_type": "code",
   "execution_count": null,
   "metadata": {},
   "outputs": [],
   "source": [
    "print(classification_report(val_labels, y_pred_val))"
   ]
  },
  {
   "cell_type": "code",
   "execution_count": null,
   "metadata": {},
   "outputs": [],
   "source": [
    "ax = sns.heatmap(confusion_matrix(val_labels, y_pred_val), annot=True, fmt='.0f', cmap='Blues', xticklabels=classes, yticklabels=classes,\n",
    "                  cbar=False)\n",
    "ax.set(xlabel='Predicted Label', ylabel='True Label')\n",
    "plt.show()"
   ]
  },
  {
   "cell_type": "markdown",
   "metadata": {},
   "source": [
    "# Model Results on Test Set"
   ]
  },
  {
   "cell_type": "code",
   "execution_count": null,
   "metadata": {},
   "outputs": [],
   "source": [
    "# Testing the model using the testing data\n",
    "y_test_pred = model.predict(norm_test_imgs2)\n",
    "\n",
    "# Calculating the accuracy of the model on the test set\n",
    "accuracy = accuracy_score(y_test_pred, test_labels)\n",
    "\n",
    "# Print the accuracy of the model on the test set\n",
    "print(f\"The model is {accuracy*100}% accurate\")"
   ]
  },
  {
   "cell_type": "code",
   "execution_count": null,
   "metadata": {},
   "outputs": [],
   "source": [
    "print(classification_report(y_test_pred, test_labels)"
   ]
  },
  {
   "cell_type": "code",
   "execution_count": null,
   "metadata": {},
   "outputs": [],
   "source": [
    "ax = sns.heatmap(confusion_matrix(test_labels, y_test_pred), annot=True, fmt='.0f', cmap='Blues', xticklabels=classes, yticklabels=classes,\n",
    "                  cbar=False)\n",
    "ax.set(xlabel='Predicted Label', ylabel='True Label')\n",
    "plt.show()"
   ]
  }
 ],
 "metadata": {
  "colab": {
   "provenance": []
  },
  "kernelspec": {
   "display_name": "Python 3 (ipykernel)",
   "language": "python",
   "name": "python3"
  },
  "language_info": {
   "codemirror_mode": {
    "name": "ipython",
    "version": 3
   },
   "file_extension": ".py",
   "mimetype": "text/x-python",
   "name": "python",
   "nbconvert_exporter": "python",
   "pygments_lexer": "ipython3",
   "version": "3.11.5"
  }
 },
 "nbformat": 4,
 "nbformat_minor": 4
}
