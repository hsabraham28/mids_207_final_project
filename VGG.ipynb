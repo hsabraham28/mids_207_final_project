{
 "cells": [
  {
   "cell_type": "code",
   "execution_count": 1,
   "metadata": {
    "executionInfo": {
     "elapsed": 326,
     "status": "ok",
     "timestamp": 1709231119168,
     "user": {
      "displayName": "Jasmine Zhang",
      "userId": "06344520663330274377"
     },
     "user_tz": 480
    },
    "id": "elgCepU8IaaO",
    "tags": []
   },
   "outputs": [],
   "source": [
    "import matplotlib.pyplot as plt\n",
    "import numpy as np\n",
    "import pandas as pd\n",
    "import tensorflow as tf\n",
    "import os\n",
    "from tensorflow import keras\n",
    "from keras.applications import VGG16\n",
    "from keras.applications.vgg16 import preprocess_input\n",
    "from keras.models import Sequential\n",
    "from keras import layers\n",
    "from keras import metrics\n",
    "from tensorflow.keras.callbacks import EarlyStopping\n",
    "from sklearn.metrics import ConfusionMatrixDisplay"
   ]
  },
  {
   "cell_type": "code",
   "execution_count": 2,
   "metadata": {
    "colab": {
     "base_uri": "https://localhost:8080/"
    },
    "executionInfo": {
     "elapsed": 210999,
     "status": "ok",
     "timestamp": 1709225110655,
     "user": {
      "displayName": "Jasmine Zhang",
      "userId": "06344520663330274377"
     },
     "user_tz": 480
    },
    "id": "R6JsnIwNIi1E",
    "outputId": "1092d247-5643-4782-faf1-be3dbdc61781"
   },
   "outputs": [
    {
     "name": "stdout",
     "output_type": "stream",
     "text": [
      "Found 100000 files belonging to 2 classes.\n",
      "Using 80000 files for training.\n",
      "Using 20000 files for validation.\n"
     ]
    }
   ],
   "source": [
    "dataset_dir = os.path.join(os.getcwd(), \"CIFAKE\")\n",
    "\n",
    "img_height = 32\n",
    "img_width = 32\n",
    "batch_size = 500\n",
    "\n",
    "# Load training and validation data\n",
    "train, val = keras.utils.image_dataset_from_directory(\n",
    "  os.path.join(dataset_dir, \"train\"),\n",
    "  validation_split=0.2,\n",
    "  subset=\"both\",\n",
    "  seed = 512,\n",
    "  image_size = (img_height, img_width),\n",
    "  batch_size = batch_size)"
   ]
  },
  {
   "cell_type": "code",
   "execution_count": 3,
   "metadata": {
    "colab": {
     "base_uri": "https://localhost:8080/"
    },
    "executionInfo": {
     "elapsed": 13392,
     "status": "ok",
     "timestamp": 1709230112398,
     "user": {
      "displayName": "Jasmine Zhang",
      "userId": "06344520663330274377"
     },
     "user_tz": 480
    },
    "id": "4QlS-CFcvp1A",
    "outputId": "731824ef-534e-45eb-f75a-96d82fa7f33e"
   },
   "outputs": [
    {
     "name": "stdout",
     "output_type": "stream",
     "text": [
      "Found 20000 files belonging to 2 classes.\n"
     ]
    }
   ],
   "source": [
    "# Load test data\n",
    "test = keras.utils.image_dataset_from_directory(\n",
    "  os.path.join(dataset_dir, \"test\"),\n",
    "  seed = 512,\n",
    "  image_size = (img_height, img_width),\n",
    "  batch_size = batch_size)"
   ]
  },
  {
   "cell_type": "code",
   "execution_count": 4,
   "metadata": {},
   "outputs": [
    {
     "data": {
      "text/plain": [
       "['FAKE', 'REAL']"
      ]
     },
     "execution_count": 4,
     "metadata": {},
     "output_type": "execute_result"
    }
   ],
   "source": [
    "classes = train.class_names\n",
    "classes"
   ]
  },
  {
   "cell_type": "code",
   "execution_count": 5,
   "metadata": {},
   "outputs": [],
   "source": [
    "# Preprocess images\n",
    "def preprocess(x, y):\n",
    "    return preprocess_input(x), y\n",
    "\n",
    "train = train.map(preprocess)\n",
    "val = val.map(preprocess)\n",
    "test = test.map(preprocess)"
   ]
  },
  {
   "cell_type": "code",
   "execution_count": 6,
   "metadata": {},
   "outputs": [],
   "source": [
    "# Load VGG16 and freeze weights\n",
    "keras.backend.clear_session()\n",
    "\n",
    "vgg = VGG16(include_top=False, input_shape=(img_height, img_width, 3))\n",
    "vgg.trainable = False"
   ]
  },
  {
   "cell_type": "code",
   "execution_count": 7,
   "metadata": {},
   "outputs": [],
   "source": [
    "# Build classifier around VGG16\n",
    "model = Sequential([\n",
    "    vgg,\n",
    "    layers.Flatten(),\n",
    "    layers.Dropout(0.5),\n",
    "    layers.Dense(units=1024, activation=\"relu\"),\n",
    "    layers.Dense(units=1, activation=\"sigmoid\")])"
   ]
  },
  {
   "cell_type": "code",
   "execution_count": 8,
   "metadata": {
    "executionInfo": {
     "elapsed": 166,
     "status": "ok",
     "timestamp": 1709232041123,
     "user": {
      "displayName": "Jasmine Zhang",
      "userId": "06344520663330274377"
     },
     "user_tz": 480
    },
    "id": "6IIxNrfWbJBN"
   },
   "outputs": [],
   "source": [
    "# Compile model\n",
    "model.compile(loss=\"binary_crossentropy\",\n",
    "                optimizer=\"adam\",\n",
    "                metrics=[\"accuracy\", metrics.Precision(name=\"precision\"), metrics.Recall(name=\"recall\")])"
   ]
  },
  {
   "cell_type": "code",
   "execution_count": 9,
   "metadata": {
    "colab": {
     "base_uri": "https://localhost:8080/"
    },
    "executionInfo": {
     "elapsed": 296,
     "status": "ok",
     "timestamp": 1709232042210,
     "user": {
      "displayName": "Jasmine Zhang",
      "userId": "06344520663330274377"
     },
     "user_tz": 480
    },
    "id": "EDT6t6L7ej6Y",
    "outputId": "ad379040-2a66-4f3e-aa47-101c34dcdfff"
   },
   "outputs": [
    {
     "name": "stdout",
     "output_type": "stream",
     "text": [
      "Model: \"sequential\"\n",
      "____________________________________________________________________________\n",
      " Layer (type)                Output Shape              Param #   Trainable  \n",
      "============================================================================\n",
      " vgg16 (Functional)          (None, 1, 1, 512)         14714688  N          \n",
      "                                                                            \n",
      " flatten (Flatten)           (None, 512)               0         Y          \n",
      "                                                                            \n",
      " dropout (Dropout)           (None, 512)               0         Y          \n",
      "                                                                            \n",
      " dense (Dense)               (None, 1024)              525312    Y          \n",
      "                                                                            \n",
      " dense_1 (Dense)             (None, 1)                 1025      Y          \n",
      "                                                                            \n",
      "============================================================================\n",
      "Total params: 15,241,025\n",
      "Trainable params: 526,337\n",
      "Non-trainable params: 14,714,688\n",
      "____________________________________________________________________________\n"
     ]
    }
   ],
   "source": [
    "model.summary(show_trainable=True)"
   ]
  },
  {
   "cell_type": "code",
   "execution_count": 10,
   "metadata": {
    "colab": {
     "base_uri": "https://localhost:8080/"
    },
    "id": "Xtma5Lageq8I",
    "outputId": "842d3807-9fea-470c-98ac-342a3754ab3d"
   },
   "outputs": [
    {
     "data": {
      "text/html": [
       "<div>\n",
       "<style scoped>\n",
       "    .dataframe tbody tr th:only-of-type {\n",
       "        vertical-align: middle;\n",
       "    }\n",
       "\n",
       "    .dataframe tbody tr th {\n",
       "        vertical-align: top;\n",
       "    }\n",
       "\n",
       "    .dataframe thead th {\n",
       "        text-align: right;\n",
       "    }\n",
       "</style>\n",
       "<table border=\"1\" class=\"dataframe\">\n",
       "  <thead>\n",
       "    <tr style=\"text-align: right;\">\n",
       "      <th></th>\n",
       "      <th>loss</th>\n",
       "      <th>accuracy</th>\n",
       "      <th>precision</th>\n",
       "      <th>recall</th>\n",
       "      <th>val_loss</th>\n",
       "      <th>val_accuracy</th>\n",
       "      <th>val_precision</th>\n",
       "      <th>val_recall</th>\n",
       "    </tr>\n",
       "  </thead>\n",
       "  <tbody>\n",
       "    <tr>\n",
       "      <th>0</th>\n",
       "      <td>1.474237</td>\n",
       "      <td>0.746025</td>\n",
       "      <td>0.751683</td>\n",
       "      <td>0.734500</td>\n",
       "      <td>0.482297</td>\n",
       "      <td>0.83350</td>\n",
       "      <td>0.885925</td>\n",
       "      <td>0.766151</td>\n",
       "    </tr>\n",
       "    <tr>\n",
       "      <th>1</th>\n",
       "      <td>0.694297</td>\n",
       "      <td>0.785575</td>\n",
       "      <td>0.791011</td>\n",
       "      <td>0.776016</td>\n",
       "      <td>0.366074</td>\n",
       "      <td>0.84335</td>\n",
       "      <td>0.888726</td>\n",
       "      <td>0.785522</td>\n",
       "    </tr>\n",
       "    <tr>\n",
       "      <th>2</th>\n",
       "      <td>0.490266</td>\n",
       "      <td>0.807813</td>\n",
       "      <td>0.813551</td>\n",
       "      <td>0.798474</td>\n",
       "      <td>0.321453</td>\n",
       "      <td>0.86385</td>\n",
       "      <td>0.873260</td>\n",
       "      <td>0.851722</td>\n",
       "    </tr>\n",
       "    <tr>\n",
       "      <th>3</th>\n",
       "      <td>0.416004</td>\n",
       "      <td>0.820312</td>\n",
       "      <td>0.825794</td>\n",
       "      <td>0.811729</td>\n",
       "      <td>0.339578</td>\n",
       "      <td>0.85395</td>\n",
       "      <td>0.925300</td>\n",
       "      <td>0.770544</td>\n",
       "    </tr>\n",
       "    <tr>\n",
       "      <th>4</th>\n",
       "      <td>0.385942</td>\n",
       "      <td>0.829675</td>\n",
       "      <td>0.835314</td>\n",
       "      <td>0.821108</td>\n",
       "      <td>0.328737</td>\n",
       "      <td>0.86350</td>\n",
       "      <td>0.918823</td>\n",
       "      <td>0.797903</td>\n",
       "    </tr>\n",
       "    <tr>\n",
       "      <th>5</th>\n",
       "      <td>0.372111</td>\n",
       "      <td>0.836725</td>\n",
       "      <td>0.841827</td>\n",
       "      <td>0.829111</td>\n",
       "      <td>0.311572</td>\n",
       "      <td>0.88045</td>\n",
       "      <td>0.893314</td>\n",
       "      <td>0.864503</td>\n",
       "    </tr>\n",
       "    <tr>\n",
       "      <th>6</th>\n",
       "      <td>0.359079</td>\n",
       "      <td>0.841762</td>\n",
       "      <td>0.846601</td>\n",
       "      <td>0.834638</td>\n",
       "      <td>0.309117</td>\n",
       "      <td>0.87920</td>\n",
       "      <td>0.909297</td>\n",
       "      <td>0.842836</td>\n",
       "    </tr>\n",
       "    <tr>\n",
       "      <th>7</th>\n",
       "      <td>0.351712</td>\n",
       "      <td>0.845662</td>\n",
       "      <td>0.849300</td>\n",
       "      <td>0.840315</td>\n",
       "      <td>0.304757</td>\n",
       "      <td>0.88690</td>\n",
       "      <td>0.887999</td>\n",
       "      <td>0.885871</td>\n",
       "    </tr>\n",
       "  </tbody>\n",
       "</table>\n",
       "</div>"
      ],
      "text/plain": [
       "       loss  accuracy  precision    recall  val_loss  val_accuracy  \\\n",
       "0  1.474237  0.746025   0.751683  0.734500  0.482297       0.83350   \n",
       "1  0.694297  0.785575   0.791011  0.776016  0.366074       0.84335   \n",
       "2  0.490266  0.807813   0.813551  0.798474  0.321453       0.86385   \n",
       "3  0.416004  0.820312   0.825794  0.811729  0.339578       0.85395   \n",
       "4  0.385942  0.829675   0.835314  0.821108  0.328737       0.86350   \n",
       "5  0.372111  0.836725   0.841827  0.829111  0.311572       0.88045   \n",
       "6  0.359079  0.841762   0.846601  0.834638  0.309117       0.87920   \n",
       "7  0.351712  0.845662   0.849300  0.840315  0.304757       0.88690   \n",
       "\n",
       "   val_precision  val_recall  \n",
       "0       0.885925    0.766151  \n",
       "1       0.888726    0.785522  \n",
       "2       0.873260    0.851722  \n",
       "3       0.925300    0.770544  \n",
       "4       0.918823    0.797903  \n",
       "5       0.893314    0.864503  \n",
       "6       0.909297    0.842836  \n",
       "7       0.887999    0.885871  "
      ]
     },
     "metadata": {},
     "output_type": "display_data"
    }
   ],
   "source": [
    "# Train classifier\n",
    "epochs = 8\n",
    "\n",
    "history = model.fit(\n",
    "  train,\n",
    "  validation_data=val,\n",
    "  epochs=epochs,\n",
    "  verbose=0)\n",
    "\n",
    "history = pd.DataFrame(history.history)\n",
    "display(history)"
   ]
  },
  {
   "cell_type": "code",
   "execution_count": 11,
   "metadata": {},
   "outputs": [
    {
     "data": {
      "image/png": "[encoded data removed]",
      "text/plain": [
       "<Figure size 640x480 with 1 Axes>"
      ]
     },
     "metadata": {},
     "output_type": "display_data"
    }
   ],
   "source": [
    "# Plot training and validation accuracy\n",
    "plt.plot(range(epochs), history[\"accuracy\"], label=\"Training Accuracy\")\n",
    "plt.plot(range(epochs), history[\"val_accuracy\"], label=\"Validation Accuracy\")\n",
    "plt.legend(loc=\"lower right\")\n",
    "plt.title(\"Training and Validation Accuracy\")\n",
    "plt.show()"
   ]
  },
  {
   "cell_type": "code",
   "execution_count": 12,
   "metadata": {},
   "outputs": [
    {
     "name": "stdout",
     "output_type": "stream",
     "text": [
      "Model: \"sequential\"\n",
      "____________________________________________________________________________\n",
      " Layer (type)                Output Shape              Param #   Trainable  \n",
      "============================================================================\n",
      " vgg16 (Functional)          (None, 1, 1, 512)         14714688  Y          \n",
      "                                                                            \n",
      " flatten (Flatten)           (None, 512)               0         Y          \n",
      "                                                                            \n",
      " dropout (Dropout)           (None, 512)               0         Y          \n",
      "                                                                            \n",
      " dense (Dense)               (None, 1024)              525312    Y          \n",
      "                                                                            \n",
      " dense_1 (Dense)             (None, 1)                 1025      Y          \n",
      "                                                                            \n",
      "============================================================================\n",
      "Total params: 15,241,025\n",
      "Trainable params: 15,241,025\n",
      "Non-trainable params: 0\n",
      "____________________________________________________________________________\n"
     ]
    }
   ],
   "source": [
    "# Unfreeze VGG\n",
    "vgg.trainable = True\n",
    "\n",
    "model.summary(show_trainable=True)"
   ]
  },
  {
   "cell_type": "code",
   "execution_count": 13,
   "metadata": {
    "executionInfo": {
     "elapsed": 166,
     "status": "ok",
     "timestamp": 1709232041123,
     "user": {
      "displayName": "Jasmine Zhang",
      "userId": "06344520663330274377"
     },
     "user_tz": 480
    },
    "id": "6IIxNrfWbJBN"
   },
   "outputs": [],
   "source": [
    "# Recompile model with low learning rate\n",
    "model.compile(loss=\"binary_crossentropy\",\n",
    "                optimizer=keras.optimizers.Adam(1e-4),\n",
    "                metrics=[\"accuracy\", metrics.Precision(name=\"precision\"), metrics.Recall(name=\"recall\")])"
   ]
  },
  {
   "cell_type": "code",
   "execution_count": 14,
   "metadata": {},
   "outputs": [],
   "source": [
    "# Early stopping\n",
    "es = EarlyStopping(monitor=\"val_accuracy\",\n",
    "                   patience=10,\n",
    "                   restore_best_weights=True,\n",
    "                   verbose=1)"
   ]
  },
  {
   "cell_type": "code",
   "execution_count": 15,
   "metadata": {
    "colab": {
     "base_uri": "https://localhost:8080/"
    },
    "id": "Xtma5Lageq8I",
    "outputId": "842d3807-9fea-470c-98ac-342a3754ab3d"
   },
   "outputs": [
    {
     "name": "stdout",
     "output_type": "stream",
     "text": [
      "Restoring model weights from the end of the best epoch: 20.\n",
      "Epoch 30: early stopping\n"
     ]
    },
    {
     "data": {
      "text/html": [
       "<div>\n",
       "<style scoped>\n",
       "    .dataframe tbody tr th:only-of-type {\n",
       "        vertical-align: middle;\n",
       "    }\n",
       "\n",
       "    .dataframe tbody tr th {\n",
       "        vertical-align: top;\n",
       "    }\n",
       "\n",
       "    .dataframe thead th {\n",
       "        text-align: right;\n",
       "    }\n",
       "</style>\n",
       "<table border=\"1\" class=\"dataframe\">\n",
       "  <thead>\n",
       "    <tr style=\"text-align: right;\">\n",
       "      <th></th>\n",
       "      <th>loss</th>\n",
       "      <th>accuracy</th>\n",
       "      <th>precision</th>\n",
       "      <th>recall</th>\n",
       "      <th>val_loss</th>\n",
       "      <th>val_accuracy</th>\n",
       "      <th>val_precision</th>\n",
       "      <th>val_recall</th>\n",
       "    </tr>\n",
       "  </thead>\n",
       "  <tbody>\n",
       "    <tr>\n",
       "      <th>0</th>\n",
       "      <td>0.236531</td>\n",
       "      <td>0.903562</td>\n",
       "      <td>0.909809</td>\n",
       "      <td>0.895861</td>\n",
       "      <td>0.143824</td>\n",
       "      <td>0.94665</td>\n",
       "      <td>0.970254</td>\n",
       "      <td>0.921717</td>\n",
       "    </tr>\n",
       "    <tr>\n",
       "      <th>1</th>\n",
       "      <td>0.115372</td>\n",
       "      <td>0.956500</td>\n",
       "      <td>0.960631</td>\n",
       "      <td>0.951982</td>\n",
       "      <td>0.117652</td>\n",
       "      <td>0.95375</td>\n",
       "      <td>0.976915</td>\n",
       "      <td>0.929606</td>\n",
       "    </tr>\n",
       "    <tr>\n",
       "      <th>2</th>\n",
       "      <td>0.082914</td>\n",
       "      <td>0.968912</td>\n",
       "      <td>0.971863</td>\n",
       "      <td>0.965762</td>\n",
       "      <td>0.116697</td>\n",
       "      <td>0.95590</td>\n",
       "      <td>0.948355</td>\n",
       "      <td>0.964453</td>\n",
       "    </tr>\n",
       "    <tr>\n",
       "      <th>3</th>\n",
       "      <td>0.054368</td>\n",
       "      <td>0.979988</td>\n",
       "      <td>0.981993</td>\n",
       "      <td>0.977892</td>\n",
       "      <td>0.114962</td>\n",
       "      <td>0.95825</td>\n",
       "      <td>0.939403</td>\n",
       "      <td>0.979830</td>\n",
       "    </tr>\n",
       "    <tr>\n",
       "      <th>4</th>\n",
       "      <td>0.039488</td>\n",
       "      <td>0.984963</td>\n",
       "      <td>0.986624</td>\n",
       "      <td>0.983244</td>\n",
       "      <td>0.108414</td>\n",
       "      <td>0.96365</td>\n",
       "      <td>0.957537</td>\n",
       "      <td>0.970444</td>\n",
       "    </tr>\n",
       "    <tr>\n",
       "      <th>5</th>\n",
       "      <td>0.029677</td>\n",
       "      <td>0.989250</td>\n",
       "      <td>0.990817</td>\n",
       "      <td>0.987645</td>\n",
       "      <td>0.110172</td>\n",
       "      <td>0.96280</td>\n",
       "      <td>0.954327</td>\n",
       "      <td>0.972242</td>\n",
       "    </tr>\n",
       "    <tr>\n",
       "      <th>6</th>\n",
       "      <td>0.023620</td>\n",
       "      <td>0.991838</td>\n",
       "      <td>0.992709</td>\n",
       "      <td>0.990947</td>\n",
       "      <td>0.106212</td>\n",
       "      <td>0.96585</td>\n",
       "      <td>0.966507</td>\n",
       "      <td>0.965252</td>\n",
       "    </tr>\n",
       "    <tr>\n",
       "      <th>7</th>\n",
       "      <td>0.017345</td>\n",
       "      <td>0.993800</td>\n",
       "      <td>0.994267</td>\n",
       "      <td>0.993322</td>\n",
       "      <td>0.130183</td>\n",
       "      <td>0.96060</td>\n",
       "      <td>0.979026</td>\n",
       "      <td>0.941488</td>\n",
       "    </tr>\n",
       "    <tr>\n",
       "      <th>8</th>\n",
       "      <td>0.019271</td>\n",
       "      <td>0.993450</td>\n",
       "      <td>0.994362</td>\n",
       "      <td>0.992522</td>\n",
       "      <td>0.137135</td>\n",
       "      <td>0.96590</td>\n",
       "      <td>0.959980</td>\n",
       "      <td>0.972441</td>\n",
       "    </tr>\n",
       "    <tr>\n",
       "      <th>9</th>\n",
       "      <td>0.017168</td>\n",
       "      <td>0.993850</td>\n",
       "      <td>0.994615</td>\n",
       "      <td>0.993072</td>\n",
       "      <td>0.109626</td>\n",
       "      <td>0.96370</td>\n",
       "      <td>0.951756</td>\n",
       "      <td>0.977034</td>\n",
       "    </tr>\n",
       "    <tr>\n",
       "      <th>10</th>\n",
       "      <td>0.012905</td>\n",
       "      <td>0.995488</td>\n",
       "      <td>0.995796</td>\n",
       "      <td>0.995173</td>\n",
       "      <td>0.125301</td>\n",
       "      <td>0.96575</td>\n",
       "      <td>0.978953</td>\n",
       "      <td>0.952072</td>\n",
       "    </tr>\n",
       "    <tr>\n",
       "      <th>11</th>\n",
       "      <td>0.009930</td>\n",
       "      <td>0.996662</td>\n",
       "      <td>0.997022</td>\n",
       "      <td>0.996299</td>\n",
       "      <td>0.124097</td>\n",
       "      <td>0.96825</td>\n",
       "      <td>0.969752</td>\n",
       "      <td>0.966750</td>\n",
       "    </tr>\n",
       "    <tr>\n",
       "      <th>12</th>\n",
       "      <td>0.012354</td>\n",
       "      <td>0.995687</td>\n",
       "      <td>0.995723</td>\n",
       "      <td>0.995648</td>\n",
       "      <td>0.113948</td>\n",
       "      <td>0.96825</td>\n",
       "      <td>0.962890</td>\n",
       "      <td>0.974139</td>\n",
       "    </tr>\n",
       "    <tr>\n",
       "      <th>13</th>\n",
       "      <td>0.011312</td>\n",
       "      <td>0.996150</td>\n",
       "      <td>0.996695</td>\n",
       "      <td>0.995598</td>\n",
       "      <td>0.109753</td>\n",
       "      <td>0.96515</td>\n",
       "      <td>0.980012</td>\n",
       "      <td>0.949775</td>\n",
       "    </tr>\n",
       "    <tr>\n",
       "      <th>14</th>\n",
       "      <td>0.008932</td>\n",
       "      <td>0.996938</td>\n",
       "      <td>0.997048</td>\n",
       "      <td>0.996824</td>\n",
       "      <td>0.123756</td>\n",
       "      <td>0.96765</td>\n",
       "      <td>0.969433</td>\n",
       "      <td>0.965851</td>\n",
       "    </tr>\n",
       "    <tr>\n",
       "      <th>15</th>\n",
       "      <td>0.009472</td>\n",
       "      <td>0.996662</td>\n",
       "      <td>0.996972</td>\n",
       "      <td>0.996349</td>\n",
       "      <td>0.143682</td>\n",
       "      <td>0.96560</td>\n",
       "      <td>0.984117</td>\n",
       "      <td>0.946580</td>\n",
       "    </tr>\n",
       "    <tr>\n",
       "      <th>16</th>\n",
       "      <td>0.009875</td>\n",
       "      <td>0.996512</td>\n",
       "      <td>0.996772</td>\n",
       "      <td>0.996249</td>\n",
       "      <td>0.163197</td>\n",
       "      <td>0.95710</td>\n",
       "      <td>0.985576</td>\n",
       "      <td>0.927908</td>\n",
       "    </tr>\n",
       "    <tr>\n",
       "      <th>17</th>\n",
       "      <td>0.009690</td>\n",
       "      <td>0.996625</td>\n",
       "      <td>0.996922</td>\n",
       "      <td>0.996324</td>\n",
       "      <td>0.122126</td>\n",
       "      <td>0.96805</td>\n",
       "      <td>0.964711</td>\n",
       "      <td>0.971742</td>\n",
       "    </tr>\n",
       "    <tr>\n",
       "      <th>18</th>\n",
       "      <td>0.007357</td>\n",
       "      <td>0.997525</td>\n",
       "      <td>0.997624</td>\n",
       "      <td>0.997424</td>\n",
       "      <td>0.163443</td>\n",
       "      <td>0.96510</td>\n",
       "      <td>0.948321</td>\n",
       "      <td>0.983924</td>\n",
       "    </tr>\n",
       "    <tr>\n",
       "      <th>19</th>\n",
       "      <td>0.005621</td>\n",
       "      <td>0.998050</td>\n",
       "      <td>0.998249</td>\n",
       "      <td>0.997849</td>\n",
       "      <td>0.140046</td>\n",
       "      <td>0.97010</td>\n",
       "      <td>0.972409</td>\n",
       "      <td>0.967748</td>\n",
       "    </tr>\n",
       "    <tr>\n",
       "      <th>20</th>\n",
       "      <td>0.009356</td>\n",
       "      <td>0.996775</td>\n",
       "      <td>0.996998</td>\n",
       "      <td>0.996549</td>\n",
       "      <td>0.145033</td>\n",
       "      <td>0.96820</td>\n",
       "      <td>0.966663</td>\n",
       "      <td>0.969945</td>\n",
       "    </tr>\n",
       "    <tr>\n",
       "      <th>21</th>\n",
       "      <td>0.007355</td>\n",
       "      <td>0.997550</td>\n",
       "      <td>0.997773</td>\n",
       "      <td>0.997324</td>\n",
       "      <td>0.143495</td>\n",
       "      <td>0.96895</td>\n",
       "      <td>0.961849</td>\n",
       "      <td>0.976735</td>\n",
       "    </tr>\n",
       "    <tr>\n",
       "      <th>22</th>\n",
       "      <td>0.005888</td>\n",
       "      <td>0.998088</td>\n",
       "      <td>0.998149</td>\n",
       "      <td>0.998024</td>\n",
       "      <td>0.137020</td>\n",
       "      <td>0.96755</td>\n",
       "      <td>0.976108</td>\n",
       "      <td>0.958662</td>\n",
       "    </tr>\n",
       "    <tr>\n",
       "      <th>23</th>\n",
       "      <td>0.006298</td>\n",
       "      <td>0.997863</td>\n",
       "      <td>0.998173</td>\n",
       "      <td>0.997549</td>\n",
       "      <td>0.150307</td>\n",
       "      <td>0.96655</td>\n",
       "      <td>0.981951</td>\n",
       "      <td>0.950674</td>\n",
       "    </tr>\n",
       "    <tr>\n",
       "      <th>24</th>\n",
       "      <td>0.009177</td>\n",
       "      <td>0.996912</td>\n",
       "      <td>0.997098</td>\n",
       "      <td>0.996724</td>\n",
       "      <td>0.115388</td>\n",
       "      <td>0.96575</td>\n",
       "      <td>0.973220</td>\n",
       "      <td>0.957963</td>\n",
       "    </tr>\n",
       "    <tr>\n",
       "      <th>25</th>\n",
       "      <td>0.007275</td>\n",
       "      <td>0.997588</td>\n",
       "      <td>0.997674</td>\n",
       "      <td>0.997499</td>\n",
       "      <td>0.165368</td>\n",
       "      <td>0.96775</td>\n",
       "      <td>0.982890</td>\n",
       "      <td>0.952172</td>\n",
       "    </tr>\n",
       "    <tr>\n",
       "      <th>26</th>\n",
       "      <td>0.009858</td>\n",
       "      <td>0.996687</td>\n",
       "      <td>0.996997</td>\n",
       "      <td>0.996374</td>\n",
       "      <td>0.111566</td>\n",
       "      <td>0.96720</td>\n",
       "      <td>0.980590</td>\n",
       "      <td>0.953370</td>\n",
       "    </tr>\n",
       "    <tr>\n",
       "      <th>27</th>\n",
       "      <td>0.004370</td>\n",
       "      <td>0.998738</td>\n",
       "      <td>0.998849</td>\n",
       "      <td>0.998625</td>\n",
       "      <td>0.142517</td>\n",
       "      <td>0.96985</td>\n",
       "      <td>0.972395</td>\n",
       "      <td>0.967249</td>\n",
       "    </tr>\n",
       "    <tr>\n",
       "      <th>28</th>\n",
       "      <td>0.006459</td>\n",
       "      <td>0.997725</td>\n",
       "      <td>0.998023</td>\n",
       "      <td>0.997424</td>\n",
       "      <td>0.124343</td>\n",
       "      <td>0.96840</td>\n",
       "      <td>0.972410</td>\n",
       "      <td>0.964254</td>\n",
       "    </tr>\n",
       "    <tr>\n",
       "      <th>29</th>\n",
       "      <td>0.006037</td>\n",
       "      <td>0.998187</td>\n",
       "      <td>0.998299</td>\n",
       "      <td>0.998074</td>\n",
       "      <td>0.127001</td>\n",
       "      <td>0.97000</td>\n",
       "      <td>0.968734</td>\n",
       "      <td>0.971443</td>\n",
       "    </tr>\n",
       "  </tbody>\n",
       "</table>\n",
       "</div>"
      ],
      "text/plain": [
       "        loss  accuracy  precision    recall  val_loss  val_accuracy  \\\n",
       "0   0.236531  0.903562   0.909809  0.895861  0.143824       0.94665   \n",
       "1   0.115372  0.956500   0.960631  0.951982  0.117652       0.95375   \n",
       "2   0.082914  0.968912   0.971863  0.965762  0.116697       0.95590   \n",
       "3   0.054368  0.979988   0.981993  0.977892  0.114962       0.95825   \n",
       "4   0.039488  0.984963   0.986624  0.983244  0.108414       0.96365   \n",
       "5   0.029677  0.989250   0.990817  0.987645  0.110172       0.96280   \n",
       "6   0.023620  0.991838   0.992709  0.990947  0.106212       0.96585   \n",
       "7   0.017345  0.993800   0.994267  0.993322  0.130183       0.96060   \n",
       "8   0.019271  0.993450   0.994362  0.992522  0.137135       0.96590   \n",
       "9   0.017168  0.993850   0.994615  0.993072  0.109626       0.96370   \n",
       "10  0.012905  0.995488   0.995796  0.995173  0.125301       0.96575   \n",
       "11  0.009930  0.996662   0.997022  0.996299  0.124097       0.96825   \n",
       "12  0.012354  0.995687   0.995723  0.995648  0.113948       0.96825   \n",
       "13  0.011312  0.996150   0.996695  0.995598  0.109753       0.96515   \n",
       "14  0.008932  0.996938   0.997048  0.996824  0.123756       0.96765   \n",
       "15  0.009472  0.996662   0.996972  0.996349  0.143682       0.96560   \n",
       "16  0.009875  0.996512   0.996772  0.996249  0.163197       0.95710   \n",
       "17  0.009690  0.996625   0.996922  0.996324  0.122126       0.96805   \n",
       "18  0.007357  0.997525   0.997624  0.997424  0.163443       0.96510   \n",
       "19  0.005621  0.998050   0.998249  0.997849  0.140046       0.97010   \n",
       "20  0.009356  0.996775   0.996998  0.996549  0.145033       0.96820   \n",
       "21  0.007355  0.997550   0.997773  0.997324  0.143495       0.96895   \n",
       "22  0.005888  0.998088   0.998149  0.998024  0.137020       0.96755   \n",
       "23  0.006298  0.997863   0.998173  0.997549  0.150307       0.96655   \n",
       "24  0.009177  0.996912   0.997098  0.996724  0.115388       0.96575   \n",
       "25  0.007275  0.997588   0.997674  0.997499  0.165368       0.96775   \n",
       "26  0.009858  0.996687   0.996997  0.996374  0.111566       0.96720   \n",
       "27  0.004370  0.998738   0.998849  0.998625  0.142517       0.96985   \n",
       "28  0.006459  0.997725   0.998023  0.997424  0.124343       0.96840   \n",
       "29  0.006037  0.998187   0.998299  0.998074  0.127001       0.97000   \n",
       "\n",
       "    val_precision  val_recall  \n",
       "0        0.970254    0.921717  \n",
       "1        0.976915    0.929606  \n",
       "2        0.948355    0.964453  \n",
       "3        0.939403    0.979830  \n",
       "4        0.957537    0.970444  \n",
       "5        0.954327    0.972242  \n",
       "6        0.966507    0.965252  \n",
       "7        0.979026    0.941488  \n",
       "8        0.959980    0.972441  \n",
       "9        0.951756    0.977034  \n",
       "10       0.978953    0.952072  \n",
       "11       0.969752    0.966750  \n",
       "12       0.962890    0.974139  \n",
       "13       0.980012    0.949775  \n",
       "14       0.969433    0.965851  \n",
       "15       0.984117    0.946580  \n",
       "16       0.985576    0.927908  \n",
       "17       0.964711    0.971742  \n",
       "18       0.948321    0.983924  \n",
       "19       0.972409    0.967748  \n",
       "20       0.966663    0.969945  \n",
       "21       0.961849    0.976735  \n",
       "22       0.976108    0.958662  \n",
       "23       0.981951    0.950674  \n",
       "24       0.973220    0.957963  \n",
       "25       0.982890    0.952172  \n",
       "26       0.980590    0.953370  \n",
       "27       0.972395    0.967249  \n",
       "28       0.972410    0.964254  \n",
       "29       0.968734    0.971443  "
      ]
     },
     "metadata": {},
     "output_type": "display_data"
    }
   ],
   "source": [
    "# Fine-tune model\n",
    "epochs = 40\n",
    "\n",
    "history = model.fit(\n",
    "  train,\n",
    "  validation_data=val,\n",
    "  epochs=epochs,\n",
    "  verbose=0,\n",
    "  callbacks=es)\n",
    "\n",
    "history = pd.DataFrame(history.history)\n",
    "display(history)"
   ]
  },
  {
   "cell_type": "code",
   "execution_count": 16,
   "metadata": {},
   "outputs": [
    {
     "data": {
      "image/png": "[encoded data removed]",
      "text/plain": [
       "<Figure size 640x480 with 1 Axes>"
      ]
     },
     "metadata": {},
     "output_type": "display_data"
    }
   ],
   "source": [
    "# Plot training and validation accuracy\n",
    "plt.plot(range(len(history)), history[\"accuracy\"], label=\"Training Accuracy\")\n",
    "plt.plot(range(len(history)), history[\"val_accuracy\"], label=\"Validation Accuracy\")\n",
    "plt.legend(loc=\"lower right\")\n",
    "plt.title(\"Training and Validation Accuracy\")\n",
    "plt.show()"
   ]
  },
  {
   "cell_type": "code",
   "execution_count": 17,
   "metadata": {},
   "outputs": [
    {
     "name": "stdout",
     "output_type": "stream",
     "text": [
      "40/40 [==============================] - 5s 103ms/step - loss: 0.1448 - accuracy: 0.9680 - precision: 0.9692 - recall: 0.9667\n"
     ]
    },
    {
     "data": {
      "text/plain": [
       "{'loss': 0.14484086632728577,\n",
       " 'accuracy': 0.9679999947547913,\n",
       " 'precision': 0.969219982624054,\n",
       " 'recall': 0.96670001745224}"
      ]
     },
     "execution_count": 17,
     "metadata": {},
     "output_type": "execute_result"
    }
   ],
   "source": [
    "# Evaluate on test data\n",
    "model.evaluate(test, return_dict=True)"
   ]
  },
  {
   "cell_type": "code",
   "execution_count": 18,
   "metadata": {},
   "outputs": [
    {
     "data": {
      "image/png": "[encoded data removed]",
      "text/plain": [
       "<Figure size 640x480 with 2 Axes>"
      ]
     },
     "metadata": {},
     "output_type": "display_data"
    }
   ],
   "source": [
    "# Confusion matrix\n",
    "test_predictions = np.array([])\n",
    "test_labels = np.array([])\n",
    "for x, y in test:\n",
    "    test_predictions = np.append(test_predictions, model(x) > 0.5)\n",
    "    test_labels = np.append(test_labels, y)\n",
    "ConfusionMatrixDisplay.from_predictions(test_labels, test_predictions, display_labels=classes, cmap=\"Blues\");"
   ]
  },
  {
   "cell_type": "code",
   "execution_count": null,
   "metadata": {},
   "outputs": [],
   "source": []
  }
 ],
 "metadata": {
  "colab": {
   "provenance": []
  },
  "kernelspec": {
   "display_name": "Python 3 (ipykernel)",
   "language": "python",
   "name": "python3"
  },
  "language_info": {
   "codemirror_mode": {
    "name": "ipython",
    "version": 3
   },
   "file_extension": ".py",
   "mimetype": "text/x-python",
   "name": "python",
   "nbconvert_exporter": "python",
   "pygments_lexer": "ipython3",
   "version": "3.10.13"
  }
 },
 "nbformat": 4,
 "nbformat_minor": 4
}
