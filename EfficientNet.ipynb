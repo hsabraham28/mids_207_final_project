{
 "cells": [
  {
   "cell_type": "code",
   "execution_count": 1,
   "metadata": {
    "executionInfo": {
     "elapsed": 326,
     "status": "ok",
     "timestamp": 1709231119168,
     "user": {
      "displayName": "Jasmine Zhang",
      "userId": "06344520663330274377"
     },
     "user_tz": 480
    },
    "id": "elgCepU8IaaO",
    "tags": []
   },
   "outputs": [],
   "source": [
    "import os\n",
    "import matplotlib.pyplot as plt\n",
    "import numpy as np\n",
    "import pandas as pd\n",
    "import tensorflow as tf\n",
    "from tensorflow import keras\n",
    "from keras.applications import EfficientNetV2L\n",
    "from keras.models import Model\n",
    "from keras import layers, metrics\n",
    "from tensorflow.keras.callbacks import EarlyStopping\n",
    "from sklearn.metrics import ConfusionMatrixDisplay"
   ]
  },
  {
   "cell_type": "code",
   "execution_count": 2,
   "metadata": {
    "colab": {
     "base_uri": "https://localhost:8080/"
    },
    "executionInfo": {
     "elapsed": 210999,
     "status": "ok",
     "timestamp": 1709225110655,
     "user": {
      "displayName": "Jasmine Zhang",
      "userId": "06344520663330274377"
     },
     "user_tz": 480
    },
    "id": "R6JsnIwNIi1E",
    "outputId": "1092d247-5643-4782-faf1-be3dbdc61781"
   },
   "outputs": [
    {
     "name": "stdout",
     "output_type": "stream",
     "text": [
      "Found 100000 files belonging to 2 classes.\n",
      "Using 80000 files for training.\n",
      "Using 20000 files for validation.\n"
     ]
    }
   ],
   "source": [
    "dataset_dir = os.path.join(os.getcwd(), \"CIFAKE\")\n",
    "\n",
    "img_height = 32\n",
    "img_width = 32\n",
    "batch_size = 500\n",
    "\n",
    "# Load training and validation data\n",
    "train, val = keras.utils.image_dataset_from_directory(\n",
    "  os.path.join(dataset_dir, \"train\"),\n",
    "  validation_split=0.2,\n",
    "  subset=\"both\",\n",
    "  seed = 512,\n",
    "  image_size = (img_height, img_width),\n",
    "  batch_size = batch_size)"
   ]
  },
  {
   "cell_type": "code",
   "execution_count": 3,
   "metadata": {
    "colab": {
     "base_uri": "https://localhost:8080/"
    },
    "executionInfo": {
     "elapsed": 13392,
     "status": "ok",
     "timestamp": 1709230112398,
     "user": {
      "displayName": "Jasmine Zhang",
      "userId": "06344520663330274377"
     },
     "user_tz": 480
    },
    "id": "4QlS-CFcvp1A",
    "outputId": "731824ef-534e-45eb-f75a-96d82fa7f33e"
   },
   "outputs": [
    {
     "name": "stdout",
     "output_type": "stream",
     "text": [
      "Found 20000 files belonging to 2 classes.\n"
     ]
    }
   ],
   "source": [
    "# Load test data\n",
    "test = keras.utils.image_dataset_from_directory(\n",
    "  os.path.join(dataset_dir, \"test\"),\n",
    "  seed = 512,\n",
    "  image_size = (img_height, img_width),\n",
    "  batch_size = batch_size)"
   ]
  },
  {
   "cell_type": "code",
   "execution_count": 4,
   "metadata": {},
   "outputs": [
    {
     "data": {
      "text/plain": [
       "['FAKE', 'REAL']"
      ]
     },
     "execution_count": 4,
     "metadata": {},
     "output_type": "execute_result"
    }
   ],
   "source": [
    "classes = train.class_names\n",
    "classes"
   ]
  },
  {
   "cell_type": "code",
   "execution_count": 5,
   "metadata": {},
   "outputs": [],
   "source": [
    "# Load EfficientNet and freeze weights\n",
    "keras.backend.clear_session()\n",
    "\n",
    "efficientnet = EfficientNetV2L(include_top=False)\n",
    "efficientnet.trainable = False"
   ]
  },
  {
   "cell_type": "code",
   "execution_count": 6,
   "metadata": {},
   "outputs": [],
   "source": [
    "# Build classifier around EfficientNet\n",
    "input = keras.Input(shape=(img_height, img_width, 3))\n",
    "x = efficientnet(input, training=False)\n",
    "x = layers.Flatten()(x)\n",
    "x = layers.Dropout(0.5)(x)\n",
    "x = layers.Dense(units=32, activation=\"relu\")(x)\n",
    "output = layers.Dense(units=1, activation=\"sigmoid\")(x)\n",
    "\n",
    "model = Model(inputs=input, outputs=output)"
   ]
  },
  {
   "cell_type": "code",
   "execution_count": 7,
   "metadata": {
    "executionInfo": {
     "elapsed": 166,
     "status": "ok",
     "timestamp": 1709232041123,
     "user": {
      "displayName": "Jasmine Zhang",
      "userId": "06344520663330274377"
     },
     "user_tz": 480
    },
    "id": "6IIxNrfWbJBN"
   },
   "outputs": [],
   "source": [
    "# Compile model\n",
    "model.compile(loss=\"binary_crossentropy\",\n",
    "                optimizer=\"adam\",\n",
    "                metrics=[\"accuracy\", metrics.Precision(name=\"precision\"), metrics.Recall(name=\"recall\")])"
   ]
  },
  {
   "cell_type": "code",
   "execution_count": 8,
   "metadata": {
    "colab": {
     "base_uri": "https://localhost:8080/"
    },
    "executionInfo": {
     "elapsed": 296,
     "status": "ok",
     "timestamp": 1709232042210,
     "user": {
      "displayName": "Jasmine Zhang",
      "userId": "06344520663330274377"
     },
     "user_tz": 480
    },
    "id": "EDT6t6L7ej6Y",
    "outputId": "ad379040-2a66-4f3e-aa47-101c34dcdfff"
   },
   "outputs": [
    {
     "name": "stdout",
     "output_type": "stream",
     "text": [
      "Model: \"model\"\n",
      "____________________________________________________________________________\n",
      " Layer (type)                Output Shape              Param #   Trainable  \n",
      "============================================================================\n",
      " input_2 (InputLayer)        [(None, 32, 32, 3)]       0         Y          \n",
      "                                                                            \n",
      " efficientnetv2-l (Functiona  (None, None, None, 1280)  11774684  N         \n",
      " l)                                                    8                    \n",
      "                                                                            \n",
      " flatten (Flatten)           (None, 1280)              0         Y          \n",
      "                                                                            \n",
      " dropout (Dropout)           (None, 1280)              0         Y          \n",
      "                                                                            \n",
      " dense (Dense)               (None, 32)                40992     Y          \n",
      "                                                                            \n",
      " dense_1 (Dense)             (None, 1)                 33        Y          \n",
      "                                                                            \n",
      "============================================================================\n",
      "Total params: 117,787,873\n",
      "Trainable params: 41,025\n",
      "Non-trainable params: 117,746,848\n",
      "____________________________________________________________________________\n"
     ]
    }
   ],
   "source": [
    "model.summary(show_trainable=True)"
   ]
  },
  {
   "cell_type": "code",
   "execution_count": 9,
   "metadata": {
    "colab": {
     "base_uri": "https://localhost:8080/"
    },
    "id": "Xtma5Lageq8I",
    "outputId": "842d3807-9fea-470c-98ac-342a3754ab3d"
   },
   "outputs": [
    {
     "data": {
      "text/html": [
       "<div>\n",
       "<style scoped>\n",
       "    .dataframe tbody tr th:only-of-type {\n",
       "        vertical-align: middle;\n",
       "    }\n",
       "\n",
       "    .dataframe tbody tr th {\n",
       "        vertical-align: top;\n",
       "    }\n",
       "\n",
       "    .dataframe thead th {\n",
       "        text-align: right;\n",
       "    }\n",
       "</style>\n",
       "<table border=\"1\" class=\"dataframe\">\n",
       "  <thead>\n",
       "    <tr style=\"text-align: right;\">\n",
       "      <th></th>\n",
       "      <th>loss</th>\n",
       "      <th>accuracy</th>\n",
       "      <th>precision</th>\n",
       "      <th>recall</th>\n",
       "      <th>val_loss</th>\n",
       "      <th>val_accuracy</th>\n",
       "      <th>val_precision</th>\n",
       "      <th>val_recall</th>\n",
       "    </tr>\n",
       "  </thead>\n",
       "  <tbody>\n",
       "    <tr>\n",
       "      <th>0</th>\n",
       "      <td>0.689149</td>\n",
       "      <td>0.540438</td>\n",
       "      <td>0.538363</td>\n",
       "      <td>0.565062</td>\n",
       "      <td>0.674043</td>\n",
       "      <td>0.67795</td>\n",
       "      <td>0.629605</td>\n",
       "      <td>0.866800</td>\n",
       "    </tr>\n",
       "    <tr>\n",
       "      <th>1</th>\n",
       "      <td>0.664890</td>\n",
       "      <td>0.600925</td>\n",
       "      <td>0.598283</td>\n",
       "      <td>0.613455</td>\n",
       "      <td>0.633765</td>\n",
       "      <td>0.73585</td>\n",
       "      <td>0.749210</td>\n",
       "      <td>0.710235</td>\n",
       "    </tr>\n",
       "  </tbody>\n",
       "</table>\n",
       "</div>"
      ],
      "text/plain": [
       "       loss  accuracy  precision    recall  val_loss  val_accuracy  \\\n",
       "0  0.689149  0.540438   0.538363  0.565062  0.674043       0.67795   \n",
       "1  0.664890  0.600925   0.598283  0.613455  0.633765       0.73585   \n",
       "\n",
       "   val_precision  val_recall  \n",
       "0       0.629605    0.866800  \n",
       "1       0.749210    0.710235  "
      ]
     },
     "metadata": {},
     "output_type": "display_data"
    }
   ],
   "source": [
    "# Train classifier\n",
    "epochs = 2\n",
    "\n",
    "history = model.fit(\n",
    "  train,\n",
    "  validation_data=val,\n",
    "  epochs=epochs,\n",
    "  verbose=0)\n",
    "\n",
    "history = pd.DataFrame(history.history)\n",
    "display(history)"
   ]
  },
  {
   "cell_type": "code",
   "execution_count": 10,
   "metadata": {},
   "outputs": [
    {
     "data": {
      "image/png": "[encoded data removed]",
      "text/plain": [
       "<Figure size 640x480 with 1 Axes>"
      ]
     },
     "metadata": {},
     "output_type": "display_data"
    }
   ],
   "source": [
    "# Plot training and validation accuracy\n",
    "plt.plot(range(epochs), history[\"accuracy\"], label=\"Training Accuracy\")\n",
    "plt.plot(range(epochs), history[\"val_accuracy\"], label=\"Validation Accuracy\")\n",
    "plt.legend(loc=\"lower right\")\n",
    "plt.title(\"Training and Validation Accuracy\")\n",
    "plt.show()"
   ]
  },
  {
   "cell_type": "code",
   "execution_count": 11,
   "metadata": {},
   "outputs": [
    {
     "name": "stdout",
     "output_type": "stream",
     "text": [
      "Model: \"model\"\n",
      "____________________________________________________________________________\n",
      " Layer (type)                Output Shape              Param #   Trainable  \n",
      "============================================================================\n",
      " input_2 (InputLayer)        [(None, 32, 32, 3)]       0         Y          \n",
      "                                                                            \n",
      " efficientnetv2-l (Functiona  (None, None, None, 1280)  11774684  Y         \n",
      " l)                                                    8                    \n",
      "                                                                            \n",
      " flatten (Flatten)           (None, 1280)              0         Y          \n",
      "                                                                            \n",
      " dropout (Dropout)           (None, 1280)              0         Y          \n",
      "                                                                            \n",
      " dense (Dense)               (None, 32)                40992     Y          \n",
      "                                                                            \n",
      " dense_1 (Dense)             (None, 1)                 33        Y          \n",
      "                                                                            \n",
      "============================================================================\n",
      "Total params: 117,787,873\n",
      "Trainable params: 117,275,297\n",
      "Non-trainable params: 512,576\n",
      "____________________________________________________________________________\n"
     ]
    }
   ],
   "source": [
    "# Unfreeze EfficientNet\n",
    "efficientnet.trainable = True\n",
    "\n",
    "model.summary(show_trainable=True)"
   ]
  },
  {
   "cell_type": "code",
   "execution_count": 12,
   "metadata": {
    "executionInfo": {
     "elapsed": 166,
     "status": "ok",
     "timestamp": 1709232041123,
     "user": {
      "displayName": "Jasmine Zhang",
      "userId": "06344520663330274377"
     },
     "user_tz": 480
    },
    "id": "6IIxNrfWbJBN"
   },
   "outputs": [],
   "source": [
    "# Recompile model with low learning rate\n",
    "model.compile(loss=\"binary_crossentropy\",\n",
    "                optimizer=keras.optimizers.Adam(1e-4),\n",
    "                metrics=[\"accuracy\", metrics.Precision(name=\"precision\"), metrics.Recall(name=\"recall\")])"
   ]
  },
  {
   "cell_type": "code",
   "execution_count": 13,
   "metadata": {},
   "outputs": [],
   "source": [
    "# Early stopping\n",
    "es = EarlyStopping(monitor=\"val_accuracy\",\n",
    "                   patience=10,\n",
    "                   restore_best_weights=True,\n",
    "                   verbose=1)"
   ]
  },
  {
   "cell_type": "code",
   "execution_count": 14,
   "metadata": {
    "colab": {
     "base_uri": "https://localhost:8080/"
    },
    "id": "Xtma5Lageq8I",
    "outputId": "842d3807-9fea-470c-98ac-342a3754ab3d"
   },
   "outputs": [
    {
     "name": "stdout",
     "output_type": "stream",
     "text": [
      "Restoring model weights from the end of the best epoch: 22.\n",
      "Epoch 32: early stopping\n"
     ]
    },
    {
     "data": {
      "text/html": [
       "<div>\n",
       "<style scoped>\n",
       "    .dataframe tbody tr th:only-of-type {\n",
       "        vertical-align: middle;\n",
       "    }\n",
       "\n",
       "    .dataframe tbody tr th {\n",
       "        vertical-align: top;\n",
       "    }\n",
       "\n",
       "    .dataframe thead th {\n",
       "        text-align: right;\n",
       "    }\n",
       "</style>\n",
       "<table border=\"1\" class=\"dataframe\">\n",
       "  <thead>\n",
       "    <tr style=\"text-align: right;\">\n",
       "      <th></th>\n",
       "      <th>loss</th>\n",
       "      <th>accuracy</th>\n",
       "      <th>precision</th>\n",
       "      <th>recall</th>\n",
       "      <th>val_loss</th>\n",
       "      <th>val_accuracy</th>\n",
       "      <th>val_precision</th>\n",
       "      <th>val_recall</th>\n",
       "    </tr>\n",
       "  </thead>\n",
       "  <tbody>\n",
       "    <tr>\n",
       "      <th>0</th>\n",
       "      <td>0.186328</td>\n",
       "      <td>0.925325</td>\n",
       "      <td>0.931294</td>\n",
       "      <td>0.918344</td>\n",
       "      <td>0.088358</td>\n",
       "      <td>0.96725</td>\n",
       "      <td>0.975900</td>\n",
       "      <td>0.958263</td>\n",
       "    </tr>\n",
       "    <tr>\n",
       "      <th>1</th>\n",
       "      <td>0.058510</td>\n",
       "      <td>0.979300</td>\n",
       "      <td>0.979868</td>\n",
       "      <td>0.978692</td>\n",
       "      <td>0.094166</td>\n",
       "      <td>0.97345</td>\n",
       "      <td>0.977254</td>\n",
       "      <td>0.969546</td>\n",
       "    </tr>\n",
       "    <tr>\n",
       "      <th>2</th>\n",
       "      <td>0.025979</td>\n",
       "      <td>0.991413</td>\n",
       "      <td>0.991717</td>\n",
       "      <td>0.991097</td>\n",
       "      <td>0.102691</td>\n",
       "      <td>0.97235</td>\n",
       "      <td>0.960931</td>\n",
       "      <td>0.984823</td>\n",
       "    </tr>\n",
       "    <tr>\n",
       "      <th>3</th>\n",
       "      <td>0.019644</td>\n",
       "      <td>0.992938</td>\n",
       "      <td>0.993342</td>\n",
       "      <td>0.992522</td>\n",
       "      <td>0.117637</td>\n",
       "      <td>0.97410</td>\n",
       "      <td>0.985085</td>\n",
       "      <td>0.962856</td>\n",
       "    </tr>\n",
       "    <tr>\n",
       "      <th>4</th>\n",
       "      <td>0.015233</td>\n",
       "      <td>0.994925</td>\n",
       "      <td>0.995146</td>\n",
       "      <td>0.994698</td>\n",
       "      <td>0.124706</td>\n",
       "      <td>0.97220</td>\n",
       "      <td>0.963358</td>\n",
       "      <td>0.981827</td>\n",
       "    </tr>\n",
       "    <tr>\n",
       "      <th>5</th>\n",
       "      <td>0.010192</td>\n",
       "      <td>0.996437</td>\n",
       "      <td>0.996324</td>\n",
       "      <td>0.996549</td>\n",
       "      <td>0.109843</td>\n",
       "      <td>0.96910</td>\n",
       "      <td>0.951388</td>\n",
       "      <td>0.988817</td>\n",
       "    </tr>\n",
       "    <tr>\n",
       "      <th>6</th>\n",
       "      <td>0.010457</td>\n",
       "      <td>0.996538</td>\n",
       "      <td>0.996424</td>\n",
       "      <td>0.996649</td>\n",
       "      <td>0.124633</td>\n",
       "      <td>0.97295</td>\n",
       "      <td>0.977232</td>\n",
       "      <td>0.968547</td>\n",
       "    </tr>\n",
       "    <tr>\n",
       "      <th>7</th>\n",
       "      <td>0.007463</td>\n",
       "      <td>0.997338</td>\n",
       "      <td>0.997523</td>\n",
       "      <td>0.997149</td>\n",
       "      <td>0.156612</td>\n",
       "      <td>0.97545</td>\n",
       "      <td>0.980040</td>\n",
       "      <td>0.970744</td>\n",
       "    </tr>\n",
       "    <tr>\n",
       "      <th>8</th>\n",
       "      <td>0.005554</td>\n",
       "      <td>0.998088</td>\n",
       "      <td>0.998099</td>\n",
       "      <td>0.998074</td>\n",
       "      <td>0.155475</td>\n",
       "      <td>0.97680</td>\n",
       "      <td>0.976835</td>\n",
       "      <td>0.976835</td>\n",
       "    </tr>\n",
       "    <tr>\n",
       "      <th>9</th>\n",
       "      <td>0.004408</td>\n",
       "      <td>0.998563</td>\n",
       "      <td>0.998624</td>\n",
       "      <td>0.998499</td>\n",
       "      <td>0.139351</td>\n",
       "      <td>0.97635</td>\n",
       "      <td>0.970049</td>\n",
       "      <td>0.983125</td>\n",
       "    </tr>\n",
       "    <tr>\n",
       "      <th>10</th>\n",
       "      <td>0.003091</td>\n",
       "      <td>0.999050</td>\n",
       "      <td>0.999075</td>\n",
       "      <td>0.999025</td>\n",
       "      <td>0.118148</td>\n",
       "      <td>0.97675</td>\n",
       "      <td>0.978649</td>\n",
       "      <td>0.974838</td>\n",
       "    </tr>\n",
       "    <tr>\n",
       "      <th>11</th>\n",
       "      <td>0.002373</td>\n",
       "      <td>0.999250</td>\n",
       "      <td>0.999200</td>\n",
       "      <td>0.999300</td>\n",
       "      <td>0.121841</td>\n",
       "      <td>0.97555</td>\n",
       "      <td>0.972145</td>\n",
       "      <td>0.979231</td>\n",
       "    </tr>\n",
       "    <tr>\n",
       "      <th>12</th>\n",
       "      <td>0.004823</td>\n",
       "      <td>0.998513</td>\n",
       "      <td>0.998375</td>\n",
       "      <td>0.998649</td>\n",
       "      <td>0.141384</td>\n",
       "      <td>0.97345</td>\n",
       "      <td>0.986858</td>\n",
       "      <td>0.959760</td>\n",
       "    </tr>\n",
       "    <tr>\n",
       "      <th>13</th>\n",
       "      <td>0.005513</td>\n",
       "      <td>0.998263</td>\n",
       "      <td>0.998075</td>\n",
       "      <td>0.998449</td>\n",
       "      <td>0.164680</td>\n",
       "      <td>0.97100</td>\n",
       "      <td>0.956017</td>\n",
       "      <td>0.987519</td>\n",
       "    </tr>\n",
       "    <tr>\n",
       "      <th>14</th>\n",
       "      <td>0.015933</td>\n",
       "      <td>0.995438</td>\n",
       "      <td>0.995523</td>\n",
       "      <td>0.995348</td>\n",
       "      <td>0.091423</td>\n",
       "      <td>0.97665</td>\n",
       "      <td>0.977974</td>\n",
       "      <td>0.975337</td>\n",
       "    </tr>\n",
       "    <tr>\n",
       "      <th>15</th>\n",
       "      <td>0.005236</td>\n",
       "      <td>0.998263</td>\n",
       "      <td>0.998499</td>\n",
       "      <td>0.998024</td>\n",
       "      <td>0.157822</td>\n",
       "      <td>0.97735</td>\n",
       "      <td>0.981567</td>\n",
       "      <td>0.973040</td>\n",
       "    </tr>\n",
       "    <tr>\n",
       "      <th>16</th>\n",
       "      <td>0.003350</td>\n",
       "      <td>0.999012</td>\n",
       "      <td>0.999025</td>\n",
       "      <td>0.999000</td>\n",
       "      <td>0.127058</td>\n",
       "      <td>0.97270</td>\n",
       "      <td>0.984150</td>\n",
       "      <td>0.960959</td>\n",
       "    </tr>\n",
       "    <tr>\n",
       "      <th>17</th>\n",
       "      <td>0.003723</td>\n",
       "      <td>0.998613</td>\n",
       "      <td>0.998575</td>\n",
       "      <td>0.998649</td>\n",
       "      <td>0.166151</td>\n",
       "      <td>0.97200</td>\n",
       "      <td>0.982152</td>\n",
       "      <td>0.961558</td>\n",
       "    </tr>\n",
       "    <tr>\n",
       "      <th>18</th>\n",
       "      <td>0.002281</td>\n",
       "      <td>0.999275</td>\n",
       "      <td>0.999425</td>\n",
       "      <td>0.999125</td>\n",
       "      <td>0.163500</td>\n",
       "      <td>0.97690</td>\n",
       "      <td>0.979520</td>\n",
       "      <td>0.974239</td>\n",
       "    </tr>\n",
       "    <tr>\n",
       "      <th>19</th>\n",
       "      <td>0.003410</td>\n",
       "      <td>0.998762</td>\n",
       "      <td>0.998725</td>\n",
       "      <td>0.998800</td>\n",
       "      <td>0.139367</td>\n",
       "      <td>0.97625</td>\n",
       "      <td>0.972745</td>\n",
       "      <td>0.980030</td>\n",
       "    </tr>\n",
       "    <tr>\n",
       "      <th>20</th>\n",
       "      <td>0.003806</td>\n",
       "      <td>0.998700</td>\n",
       "      <td>0.998550</td>\n",
       "      <td>0.998850</td>\n",
       "      <td>0.195793</td>\n",
       "      <td>0.97400</td>\n",
       "      <td>0.986474</td>\n",
       "      <td>0.961258</td>\n",
       "    </tr>\n",
       "    <tr>\n",
       "      <th>21</th>\n",
       "      <td>0.003895</td>\n",
       "      <td>0.998625</td>\n",
       "      <td>0.998824</td>\n",
       "      <td>0.998424</td>\n",
       "      <td>0.168297</td>\n",
       "      <td>0.97795</td>\n",
       "      <td>0.978126</td>\n",
       "      <td>0.977833</td>\n",
       "    </tr>\n",
       "    <tr>\n",
       "      <th>22</th>\n",
       "      <td>0.002817</td>\n",
       "      <td>0.999100</td>\n",
       "      <td>0.999000</td>\n",
       "      <td>0.999200</td>\n",
       "      <td>0.226832</td>\n",
       "      <td>0.95920</td>\n",
       "      <td>0.995369</td>\n",
       "      <td>0.922816</td>\n",
       "    </tr>\n",
       "    <tr>\n",
       "      <th>23</th>\n",
       "      <td>0.004504</td>\n",
       "      <td>0.998362</td>\n",
       "      <td>0.998499</td>\n",
       "      <td>0.998224</td>\n",
       "      <td>0.139049</td>\n",
       "      <td>0.97320</td>\n",
       "      <td>0.961625</td>\n",
       "      <td>0.985821</td>\n",
       "    </tr>\n",
       "    <tr>\n",
       "      <th>24</th>\n",
       "      <td>0.006177</td>\n",
       "      <td>0.998112</td>\n",
       "      <td>0.998299</td>\n",
       "      <td>0.997924</td>\n",
       "      <td>0.127780</td>\n",
       "      <td>0.97535</td>\n",
       "      <td>0.967406</td>\n",
       "      <td>0.983924</td>\n",
       "    </tr>\n",
       "    <tr>\n",
       "      <th>25</th>\n",
       "      <td>0.002467</td>\n",
       "      <td>0.999225</td>\n",
       "      <td>0.999225</td>\n",
       "      <td>0.999225</td>\n",
       "      <td>0.130657</td>\n",
       "      <td>0.97470</td>\n",
       "      <td>0.984906</td>\n",
       "      <td>0.964254</td>\n",
       "    </tr>\n",
       "    <tr>\n",
       "      <th>26</th>\n",
       "      <td>0.002103</td>\n",
       "      <td>0.999325</td>\n",
       "      <td>0.999500</td>\n",
       "      <td>0.999150</td>\n",
       "      <td>0.129597</td>\n",
       "      <td>0.97680</td>\n",
       "      <td>0.977025</td>\n",
       "      <td>0.976635</td>\n",
       "    </tr>\n",
       "    <tr>\n",
       "      <th>27</th>\n",
       "      <td>0.001534</td>\n",
       "      <td>0.999600</td>\n",
       "      <td>0.999600</td>\n",
       "      <td>0.999600</td>\n",
       "      <td>0.123671</td>\n",
       "      <td>0.97795</td>\n",
       "      <td>0.977935</td>\n",
       "      <td>0.978033</td>\n",
       "    </tr>\n",
       "    <tr>\n",
       "      <th>28</th>\n",
       "      <td>0.003884</td>\n",
       "      <td>0.998688</td>\n",
       "      <td>0.998774</td>\n",
       "      <td>0.998599</td>\n",
       "      <td>0.157824</td>\n",
       "      <td>0.97795</td>\n",
       "      <td>0.982463</td>\n",
       "      <td>0.973340</td>\n",
       "    </tr>\n",
       "    <tr>\n",
       "      <th>29</th>\n",
       "      <td>0.002827</td>\n",
       "      <td>0.999050</td>\n",
       "      <td>0.998900</td>\n",
       "      <td>0.999200</td>\n",
       "      <td>0.219992</td>\n",
       "      <td>0.97470</td>\n",
       "      <td>0.983230</td>\n",
       "      <td>0.965951</td>\n",
       "    </tr>\n",
       "    <tr>\n",
       "      <th>30</th>\n",
       "      <td>0.002906</td>\n",
       "      <td>0.999062</td>\n",
       "      <td>0.999249</td>\n",
       "      <td>0.998875</td>\n",
       "      <td>0.131690</td>\n",
       "      <td>0.97405</td>\n",
       "      <td>0.983208</td>\n",
       "      <td>0.964653</td>\n",
       "    </tr>\n",
       "    <tr>\n",
       "      <th>31</th>\n",
       "      <td>0.002281</td>\n",
       "      <td>0.999263</td>\n",
       "      <td>0.999275</td>\n",
       "      <td>0.999250</td>\n",
       "      <td>0.561764</td>\n",
       "      <td>0.96600</td>\n",
       "      <td>0.943890</td>\n",
       "      <td>0.991013</td>\n",
       "    </tr>\n",
       "  </tbody>\n",
       "</table>\n",
       "</div>"
      ],
      "text/plain": [
       "        loss  accuracy  precision    recall  val_loss  val_accuracy  \\\n",
       "0   0.186328  0.925325   0.931294  0.918344  0.088358       0.96725   \n",
       "1   0.058510  0.979300   0.979868  0.978692  0.094166       0.97345   \n",
       "2   0.025979  0.991413   0.991717  0.991097  0.102691       0.97235   \n",
       "3   0.019644  0.992938   0.993342  0.992522  0.117637       0.97410   \n",
       "4   0.015233  0.994925   0.995146  0.994698  0.124706       0.97220   \n",
       "5   0.010192  0.996437   0.996324  0.996549  0.109843       0.96910   \n",
       "6   0.010457  0.996538   0.996424  0.996649  0.124633       0.97295   \n",
       "7   0.007463  0.997338   0.997523  0.997149  0.156612       0.97545   \n",
       "8   0.005554  0.998088   0.998099  0.998074  0.155475       0.97680   \n",
       "9   0.004408  0.998563   0.998624  0.998499  0.139351       0.97635   \n",
       "10  0.003091  0.999050   0.999075  0.999025  0.118148       0.97675   \n",
       "11  0.002373  0.999250   0.999200  0.999300  0.121841       0.97555   \n",
       "12  0.004823  0.998513   0.998375  0.998649  0.141384       0.97345   \n",
       "13  0.005513  0.998263   0.998075  0.998449  0.164680       0.97100   \n",
       "14  0.015933  0.995438   0.995523  0.995348  0.091423       0.97665   \n",
       "15  0.005236  0.998263   0.998499  0.998024  0.157822       0.97735   \n",
       "16  0.003350  0.999012   0.999025  0.999000  0.127058       0.97270   \n",
       "17  0.003723  0.998613   0.998575  0.998649  0.166151       0.97200   \n",
       "18  0.002281  0.999275   0.999425  0.999125  0.163500       0.97690   \n",
       "19  0.003410  0.998762   0.998725  0.998800  0.139367       0.97625   \n",
       "20  0.003806  0.998700   0.998550  0.998850  0.195793       0.97400   \n",
       "21  0.003895  0.998625   0.998824  0.998424  0.168297       0.97795   \n",
       "22  0.002817  0.999100   0.999000  0.999200  0.226832       0.95920   \n",
       "23  0.004504  0.998362   0.998499  0.998224  0.139049       0.97320   \n",
       "24  0.006177  0.998112   0.998299  0.997924  0.127780       0.97535   \n",
       "25  0.002467  0.999225   0.999225  0.999225  0.130657       0.97470   \n",
       "26  0.002103  0.999325   0.999500  0.999150  0.129597       0.97680   \n",
       "27  0.001534  0.999600   0.999600  0.999600  0.123671       0.97795   \n",
       "28  0.003884  0.998688   0.998774  0.998599  0.157824       0.97795   \n",
       "29  0.002827  0.999050   0.998900  0.999200  0.219992       0.97470   \n",
       "30  0.002906  0.999062   0.999249  0.998875  0.131690       0.97405   \n",
       "31  0.002281  0.999263   0.999275  0.999250  0.561764       0.96600   \n",
       "\n",
       "    val_precision  val_recall  \n",
       "0        0.975900    0.958263  \n",
       "1        0.977254    0.969546  \n",
       "2        0.960931    0.984823  \n",
       "3        0.985085    0.962856  \n",
       "4        0.963358    0.981827  \n",
       "5        0.951388    0.988817  \n",
       "6        0.977232    0.968547  \n",
       "7        0.980040    0.970744  \n",
       "8        0.976835    0.976835  \n",
       "9        0.970049    0.983125  \n",
       "10       0.978649    0.974838  \n",
       "11       0.972145    0.979231  \n",
       "12       0.986858    0.959760  \n",
       "13       0.956017    0.987519  \n",
       "14       0.977974    0.975337  \n",
       "15       0.981567    0.973040  \n",
       "16       0.984150    0.960959  \n",
       "17       0.982152    0.961558  \n",
       "18       0.979520    0.974239  \n",
       "19       0.972745    0.980030  \n",
       "20       0.986474    0.961258  \n",
       "21       0.978126    0.977833  \n",
       "22       0.995369    0.922816  \n",
       "23       0.961625    0.985821  \n",
       "24       0.967406    0.983924  \n",
       "25       0.984906    0.964254  \n",
       "26       0.977025    0.976635  \n",
       "27       0.977935    0.978033  \n",
       "28       0.982463    0.973340  \n",
       "29       0.983230    0.965951  \n",
       "30       0.983208    0.964653  \n",
       "31       0.943890    0.991013  "
      ]
     },
     "metadata": {},
     "output_type": "display_data"
    }
   ],
   "source": [
    "# Fine-tune model\n",
    "epochs = 60\n",
    "\n",
    "history = model.fit(\n",
    "  train,\n",
    "  validation_data=val,\n",
    "  epochs=epochs,\n",
    "  verbose=0,\n",
    "  callbacks=es)\n",
    "\n",
    "history = pd.DataFrame(history.history)\n",
    "display(history)"
   ]
  },
  {
   "cell_type": "code",
   "execution_count": 15,
   "metadata": {},
   "outputs": [
    {
     "data": {
      "image/png": "[encoded data removed]",
      "text/plain": [
       "<Figure size 640x480 with 1 Axes>"
      ]
     },
     "metadata": {},
     "output_type": "display_data"
    }
   ],
   "source": [
    "# Plot training and validation accuracy\n",
    "plt.plot(range(len(history)), history[\"accuracy\"], label=\"Training Accuracy\")\n",
    "plt.plot(range(len(history)), history[\"val_accuracy\"], label=\"Validation Accuracy\")\n",
    "plt.legend(loc=\"lower right\")\n",
    "plt.title(\"Training and Validation Accuracy\")\n",
    "plt.show()"
   ]
  },
  {
   "cell_type": "code",
   "execution_count": 16,
   "metadata": {},
   "outputs": [
    {
     "name": "stdout",
     "output_type": "stream",
     "text": [
      "40/40 [==============================] - 6s 119ms/step - loss: 0.1926 - accuracy: 0.9773 - precision: 0.9786 - recall: 0.9760\n"
     ]
    },
    {
     "data": {
      "text/plain": [
       "{'loss': 0.192633256316185,\n",
       " 'accuracy': 0.9773499965667725,\n",
       " 'precision': 0.9786423444747925,\n",
       " 'recall': 0.9760000109672546}"
      ]
     },
     "execution_count": 16,
     "metadata": {},
     "output_type": "execute_result"
    }
   ],
   "source": [
    "# Evaluate on test data\n",
    "model.evaluate(test, return_dict=True)"
   ]
  },
  {
   "cell_type": "code",
   "execution_count": 17,
   "metadata": {},
   "outputs": [
    {
     "data": {
      "image/png": "[encoded data removed]",
      "text/plain": [
       "<Figure size 640x480 with 2 Axes>"
      ]
     },
     "metadata": {},
     "output_type": "display_data"
    }
   ],
   "source": [
    "# Confusion matrix\n",
    "test_predictions = np.array([])\n",
    "test_labels = np.array([])\n",
    "for x, y in test:\n",
    "    test_predictions = np.append(test_predictions, model(x) > 0.5)\n",
    "    test_labels = np.append(test_labels, y)\n",
    "ConfusionMatrixDisplay.from_predictions(test_labels, test_predictions, display_labels=classes, cmap=\"Blues\");"
   ]
  },
  {
   "cell_type": "code",
   "execution_count": null,
   "metadata": {},
   "outputs": [],
   "source": []
  }
 ],
 "metadata": {
  "colab": {
   "provenance": []
  },
  "kernelspec": {
   "display_name": "Python 3 (ipykernel)",
   "language": "python",
   "name": "python3"
  },
  "language_info": {
   "codemirror_mode": {
    "name": "ipython",
    "version": 3
   },
   "file_extension": ".py",
   "mimetype": "text/x-python",
   "name": "python",
   "nbconvert_exporter": "python",
   "pygments_lexer": "ipython3",
   "version": "3.10.13"
  }
 },
 "nbformat": 4,
 "nbformat_minor": 4
}
